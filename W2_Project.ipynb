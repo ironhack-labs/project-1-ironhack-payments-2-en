{
 "cells": [
  {
   "cell_type": "code",
   "execution_count": 1,
   "id": "0121b13f-9e6a-403a-b1d3-e6dcc10f515a",
   "metadata": {},
   "outputs": [],
   "source": [
    "import pandas as pd\n",
    "import numpy as np"
   ]
  },
  {
   "cell_type": "code",
   "execution_count": 20,
   "id": "f948451e-ab32-4aeb-9a38-06c24b7591d4",
   "metadata": {},
   "outputs": [
    {
     "data": {
      "text/plain": [
       "(21061, 13)"
      ]
     },
     "execution_count": 20,
     "metadata": {},
     "output_type": "execute_result"
    }
   ],
   "source": [
    "fees = pd.read_csv('Downloads/extract - fees - data analyst - .csv')\n",
    "cash_request = pd.read_csv('Downloads/extract - cash request - data analyst.csv')\n",
    "lexique = pd.read_excel('Downloads/Lexique - Data Analyst.xlsx')\n",
    "\n",
    "fees.head()\n"
   ]
  },
  {
   "cell_type": "code",
   "execution_count": 119,
   "id": "4ed1f986-237f-46ab-9af4-4e16bde6be21",
   "metadata": {},
   "outputs": [
    {
     "data": {
      "text/html": [
       "<div>\n",
       "<style scoped>\n",
       "    .dataframe tbody tr th:only-of-type {\n",
       "        vertical-align: middle;\n",
       "    }\n",
       "\n",
       "    .dataframe tbody tr th {\n",
       "        vertical-align: top;\n",
       "    }\n",
       "\n",
       "    .dataframe thead th {\n",
       "        text-align: right;\n",
       "    }\n",
       "</style>\n",
       "<table border=\"1\" class=\"dataframe\">\n",
       "  <thead>\n",
       "    <tr style=\"text-align: right;\">\n",
       "      <th></th>\n",
       "      <th>id</th>\n",
       "      <th>cash_request_id</th>\n",
       "      <th>type</th>\n",
       "      <th>status</th>\n",
       "      <th>category</th>\n",
       "      <th>total_amount</th>\n",
       "      <th>reason</th>\n",
       "      <th>created_at</th>\n",
       "      <th>updated_at</th>\n",
       "      <th>paid_at</th>\n",
       "      <th>from_date</th>\n",
       "      <th>to_date</th>\n",
       "      <th>charge_moment</th>\n",
       "    </tr>\n",
       "  </thead>\n",
       "  <tbody>\n",
       "    <tr>\n",
       "      <th>0</th>\n",
       "      <td>6537</td>\n",
       "      <td>14941.0</td>\n",
       "      <td>instant_payment</td>\n",
       "      <td>rejected</td>\n",
       "      <td>NaN</td>\n",
       "      <td>5.0</td>\n",
       "      <td>Instant Payment Cash Request 14941</td>\n",
       "      <td>2020-09-07 10:47:27.42315+00</td>\n",
       "      <td>2020-10-13 14:25:09.396112+00</td>\n",
       "      <td>2020-12-17 14:50:07.47011+00</td>\n",
       "      <td>NaN</td>\n",
       "      <td>NaN</td>\n",
       "      <td>after</td>\n",
       "    </tr>\n",
       "    <tr>\n",
       "      <th>1</th>\n",
       "      <td>6961</td>\n",
       "      <td>11714.0</td>\n",
       "      <td>incident</td>\n",
       "      <td>accepted</td>\n",
       "      <td>rejected_direct_debit</td>\n",
       "      <td>5.0</td>\n",
       "      <td>rejected direct debit</td>\n",
       "      <td>2020-09-09 20:51:17.998653+00</td>\n",
       "      <td>2020-10-13 14:25:15.537063+00</td>\n",
       "      <td>2020-12-08 17:13:10.45908+00</td>\n",
       "      <td>NaN</td>\n",
       "      <td>NaN</td>\n",
       "      <td>after</td>\n",
       "    </tr>\n",
       "    <tr>\n",
       "      <th>2</th>\n",
       "      <td>16296</td>\n",
       "      <td>23371.0</td>\n",
       "      <td>instant_payment</td>\n",
       "      <td>accepted</td>\n",
       "      <td>NaN</td>\n",
       "      <td>5.0</td>\n",
       "      <td>Instant Payment Cash Request 23371</td>\n",
       "      <td>2020-10-23 10:10:58.352972+00</td>\n",
       "      <td>2020-10-23 10:10:58.352994+00</td>\n",
       "      <td>2020-11-04 19:34:37.43291+00</td>\n",
       "      <td>NaN</td>\n",
       "      <td>NaN</td>\n",
       "      <td>after</td>\n",
       "    </tr>\n",
       "    <tr>\n",
       "      <th>3</th>\n",
       "      <td>20775</td>\n",
       "      <td>26772.0</td>\n",
       "      <td>instant_payment</td>\n",
       "      <td>accepted</td>\n",
       "      <td>NaN</td>\n",
       "      <td>5.0</td>\n",
       "      <td>Instant Payment Cash Request 26772</td>\n",
       "      <td>2020-10-31 15:46:53.643958+00</td>\n",
       "      <td>2020-10-31 15:46:53.643982+00</td>\n",
       "      <td>2020-11-19 05:09:22.500223+00</td>\n",
       "      <td>NaN</td>\n",
       "      <td>NaN</td>\n",
       "      <td>after</td>\n",
       "    </tr>\n",
       "    <tr>\n",
       "      <th>4</th>\n",
       "      <td>11242</td>\n",
       "      <td>19350.0</td>\n",
       "      <td>instant_payment</td>\n",
       "      <td>accepted</td>\n",
       "      <td>NaN</td>\n",
       "      <td>5.0</td>\n",
       "      <td>Instant Payment Cash Request 19350</td>\n",
       "      <td>2020-10-06 08:20:17.170432+00</td>\n",
       "      <td>2020-10-13 14:25:03.267983+00</td>\n",
       "      <td>2020-11-02 14:45:20.355598+00</td>\n",
       "      <td>NaN</td>\n",
       "      <td>NaN</td>\n",
       "      <td>after</td>\n",
       "    </tr>\n",
       "  </tbody>\n",
       "</table>\n",
       "</div>"
      ],
      "text/plain": [
       "      id  cash_request_id             type    status               category  \\\n",
       "0   6537          14941.0  instant_payment  rejected                    NaN   \n",
       "1   6961          11714.0         incident  accepted  rejected_direct_debit   \n",
       "2  16296          23371.0  instant_payment  accepted                    NaN   \n",
       "3  20775          26772.0  instant_payment  accepted                    NaN   \n",
       "4  11242          19350.0  instant_payment  accepted                    NaN   \n",
       "\n",
       "   total_amount                              reason  \\\n",
       "0           5.0  Instant Payment Cash Request 14941   \n",
       "1           5.0               rejected direct debit   \n",
       "2           5.0  Instant Payment Cash Request 23371   \n",
       "3           5.0  Instant Payment Cash Request 26772   \n",
       "4           5.0  Instant Payment Cash Request 19350   \n",
       "\n",
       "                      created_at                     updated_at  \\\n",
       "0   2020-09-07 10:47:27.42315+00  2020-10-13 14:25:09.396112+00   \n",
       "1  2020-09-09 20:51:17.998653+00  2020-10-13 14:25:15.537063+00   \n",
       "2  2020-10-23 10:10:58.352972+00  2020-10-23 10:10:58.352994+00   \n",
       "3  2020-10-31 15:46:53.643958+00  2020-10-31 15:46:53.643982+00   \n",
       "4  2020-10-06 08:20:17.170432+00  2020-10-13 14:25:03.267983+00   \n",
       "\n",
       "                         paid_at from_date to_date charge_moment  \n",
       "0   2020-12-17 14:50:07.47011+00       NaN     NaN         after  \n",
       "1   2020-12-08 17:13:10.45908+00       NaN     NaN         after  \n",
       "2   2020-11-04 19:34:37.43291+00       NaN     NaN         after  \n",
       "3  2020-11-19 05:09:22.500223+00       NaN     NaN         after  \n",
       "4  2020-11-02 14:45:20.355598+00       NaN     NaN         after  "
      ]
     },
     "execution_count": 119,
     "metadata": {},
     "output_type": "execute_result"
    }
   ],
   "source": [
    "fees.head()"
   ]
  },
  {
   "cell_type": "code",
   "execution_count": 14,
   "id": "2ae026c5-f9a8-4e5a-a24a-c2b59b609a34",
   "metadata": {},
   "outputs": [],
   "source": [
    "\n",
    "cash_request.rename(columns={'id':'cash_request_id'}, inplace=True)\n",
    "\n",
    "cash_request.to_csv('Downloads/extract - cash request - data analyst.csv', index=False)"
   ]
  },
  {
   "cell_type": "code",
   "execution_count": 19,
   "id": "0b187e54-bb30-40cf-93a2-a293757e2bd3",
   "metadata": {},
   "outputs": [
    {
     "data": {
      "text/plain": [
       "(23970, 16)"
      ]
     },
     "execution_count": 19,
     "metadata": {},
     "output_type": "execute_result"
    }
   ],
   "source": [
    "cash_request.head()\n",
    "cash_request.shape"
   ]
  },
  {
   "cell_type": "code",
   "execution_count": 16,
   "id": "03108e09-8ca3-4b53-aa3b-1b27f11cb711",
   "metadata": {},
   "outputs": [],
   "source": [
    "left_merge = pd.merge(fees, cash_request, on='cash_request_id', how='left')"
   ]
  },
  {
   "cell_type": "code",
   "execution_count": 25,
   "id": "d2945126-e755-4e5d-a693-33d0f6513d58",
   "metadata": {},
   "outputs": [
    {
     "data": {
      "text/html": [
       "<div>\n",
       "<style scoped>\n",
       "    .dataframe tbody tr th:only-of-type {\n",
       "        vertical-align: middle;\n",
       "    }\n",
       "\n",
       "    .dataframe tbody tr th {\n",
       "        vertical-align: top;\n",
       "    }\n",
       "\n",
       "    .dataframe thead th {\n",
       "        text-align: right;\n",
       "    }\n",
       "</style>\n",
       "<table border=\"1\" class=\"dataframe\">\n",
       "  <thead>\n",
       "    <tr style=\"text-align: right;\">\n",
       "      <th></th>\n",
       "      <th>id</th>\n",
       "      <th>cash_request_id</th>\n",
       "      <th>type</th>\n",
       "      <th>status_x</th>\n",
       "      <th>category</th>\n",
       "      <th>total_amount</th>\n",
       "      <th>reason</th>\n",
       "      <th>created_at_x</th>\n",
       "      <th>updated_at_x</th>\n",
       "      <th>paid_at</th>\n",
       "      <th>...</th>\n",
       "      <th>moderated_at</th>\n",
       "      <th>deleted_account_id</th>\n",
       "      <th>reimbursement_date</th>\n",
       "      <th>cash_request_received_date</th>\n",
       "      <th>money_back_date</th>\n",
       "      <th>transfer_type</th>\n",
       "      <th>send_at</th>\n",
       "      <th>recovery_status</th>\n",
       "      <th>reco_creation</th>\n",
       "      <th>reco_last_update</th>\n",
       "    </tr>\n",
       "  </thead>\n",
       "  <tbody>\n",
       "    <tr>\n",
       "      <th>0</th>\n",
       "      <td>6537</td>\n",
       "      <td>14941.0</td>\n",
       "      <td>instant_payment</td>\n",
       "      <td>rejected</td>\n",
       "      <td>NaN</td>\n",
       "      <td>5.0</td>\n",
       "      <td>Instant Payment Cash Request 14941</td>\n",
       "      <td>2020-09-07 10:47:27.423150+00:00</td>\n",
       "      <td>2020-10-13 14:25:09.396112+00</td>\n",
       "      <td>2020-12-17 14:50:07.47011+00</td>\n",
       "      <td>...</td>\n",
       "      <td>NaN</td>\n",
       "      <td>NaN</td>\n",
       "      <td>2020-10-01 22:00:00+00</td>\n",
       "      <td>NaN</td>\n",
       "      <td>2020-10-06 22:00:00+00</td>\n",
       "      <td>instant</td>\n",
       "      <td>2020-09-14 10:46:57.735172+00</td>\n",
       "      <td>pending</td>\n",
       "      <td>2020-10-11 22:52:52.274832+00</td>\n",
       "      <td>2020-12-20 22:40:42.556534+00</td>\n",
       "    </tr>\n",
       "    <tr>\n",
       "      <th>1</th>\n",
       "      <td>6961</td>\n",
       "      <td>11714.0</td>\n",
       "      <td>incident</td>\n",
       "      <td>accepted</td>\n",
       "      <td>rejected_direct_debit</td>\n",
       "      <td>5.0</td>\n",
       "      <td>rejected direct debit</td>\n",
       "      <td>2020-09-09 20:51:17.998653+00:00</td>\n",
       "      <td>2020-10-13 14:25:15.537063+00</td>\n",
       "      <td>2020-12-08 17:13:10.45908+00</td>\n",
       "      <td>...</td>\n",
       "      <td>2020-08-10 14:58:19.039748+00</td>\n",
       "      <td>NaN</td>\n",
       "      <td>2020-09-07 22:00:00+00</td>\n",
       "      <td>2020-08-12</td>\n",
       "      <td>2020-12-02 03:02:41.180953+00</td>\n",
       "      <td>instant</td>\n",
       "      <td>2020-08-17 13:15:54.290998+00</td>\n",
       "      <td>completed</td>\n",
       "      <td>2020-09-09 20:51:17.992852+00</td>\n",
       "      <td>2020-10-10 22:58:13.306027+00</td>\n",
       "    </tr>\n",
       "    <tr>\n",
       "      <th>2</th>\n",
       "      <td>16296</td>\n",
       "      <td>23371.0</td>\n",
       "      <td>instant_payment</td>\n",
       "      <td>accepted</td>\n",
       "      <td>NaN</td>\n",
       "      <td>5.0</td>\n",
       "      <td>Instant Payment Cash Request 23371</td>\n",
       "      <td>2020-10-23 10:10:58.352972+00:00</td>\n",
       "      <td>2020-10-23 10:10:58.352994+00</td>\n",
       "      <td>2020-11-04 19:34:37.43291+00</td>\n",
       "      <td>...</td>\n",
       "      <td>NaN</td>\n",
       "      <td>NaN</td>\n",
       "      <td>2020-11-04 22:00:00+00</td>\n",
       "      <td>2020-10-27</td>\n",
       "      <td>2020-11-04 19:34:37.399122+00</td>\n",
       "      <td>instant</td>\n",
       "      <td>2020-10-23 10:10:52.894637+00</td>\n",
       "      <td>NaN</td>\n",
       "      <td>NaN</td>\n",
       "      <td>NaN</td>\n",
       "    </tr>\n",
       "    <tr>\n",
       "      <th>3</th>\n",
       "      <td>20775</td>\n",
       "      <td>26772.0</td>\n",
       "      <td>instant_payment</td>\n",
       "      <td>accepted</td>\n",
       "      <td>NaN</td>\n",
       "      <td>5.0</td>\n",
       "      <td>Instant Payment Cash Request 26772</td>\n",
       "      <td>2020-10-31 15:46:53.643958+00:00</td>\n",
       "      <td>2020-10-31 15:46:53.643982+00</td>\n",
       "      <td>2020-11-19 05:09:22.500223+00</td>\n",
       "      <td>...</td>\n",
       "      <td>NaN</td>\n",
       "      <td>NaN</td>\n",
       "      <td>2020-11-11 23:51:00+00</td>\n",
       "      <td>2020-11-03</td>\n",
       "      <td>2020-11-17 23:00:00+00</td>\n",
       "      <td>instant</td>\n",
       "      <td>2020-10-31 15:46:46.846335+00</td>\n",
       "      <td>NaN</td>\n",
       "      <td>NaN</td>\n",
       "      <td>NaN</td>\n",
       "    </tr>\n",
       "    <tr>\n",
       "      <th>4</th>\n",
       "      <td>11242</td>\n",
       "      <td>19350.0</td>\n",
       "      <td>instant_payment</td>\n",
       "      <td>accepted</td>\n",
       "      <td>NaN</td>\n",
       "      <td>5.0</td>\n",
       "      <td>Instant Payment Cash Request 19350</td>\n",
       "      <td>2020-10-06 08:20:17.170432+00:00</td>\n",
       "      <td>2020-10-13 14:25:03.267983+00</td>\n",
       "      <td>2020-11-02 14:45:20.355598+00</td>\n",
       "      <td>...</td>\n",
       "      <td>2020-10-06 08:20:15.587318+00</td>\n",
       "      <td>19005.0</td>\n",
       "      <td>2020-10-30 11:00:00+00</td>\n",
       "      <td>2020-10-09</td>\n",
       "      <td>2020-11-02 14:45:20.315696+00</td>\n",
       "      <td>instant</td>\n",
       "      <td>2020-10-13 00:40:23.983346+00</td>\n",
       "      <td>completed</td>\n",
       "      <td>2020-10-24 22:43:13.278707+00</td>\n",
       "      <td>2020-11-02 14:45:20.333109+00</td>\n",
       "    </tr>\n",
       "  </tbody>\n",
       "</table>\n",
       "<p>5 rows × 28 columns</p>\n",
       "</div>"
      ],
      "text/plain": [
       "      id  cash_request_id             type  status_x               category  \\\n",
       "0   6537          14941.0  instant_payment  rejected                    NaN   \n",
       "1   6961          11714.0         incident  accepted  rejected_direct_debit   \n",
       "2  16296          23371.0  instant_payment  accepted                    NaN   \n",
       "3  20775          26772.0  instant_payment  accepted                    NaN   \n",
       "4  11242          19350.0  instant_payment  accepted                    NaN   \n",
       "\n",
       "   total_amount                              reason  \\\n",
       "0           5.0  Instant Payment Cash Request 14941   \n",
       "1           5.0               rejected direct debit   \n",
       "2           5.0  Instant Payment Cash Request 23371   \n",
       "3           5.0  Instant Payment Cash Request 26772   \n",
       "4           5.0  Instant Payment Cash Request 19350   \n",
       "\n",
       "                      created_at_x                   updated_at_x  \\\n",
       "0 2020-09-07 10:47:27.423150+00:00  2020-10-13 14:25:09.396112+00   \n",
       "1 2020-09-09 20:51:17.998653+00:00  2020-10-13 14:25:15.537063+00   \n",
       "2 2020-10-23 10:10:58.352972+00:00  2020-10-23 10:10:58.352994+00   \n",
       "3 2020-10-31 15:46:53.643958+00:00  2020-10-31 15:46:53.643982+00   \n",
       "4 2020-10-06 08:20:17.170432+00:00  2020-10-13 14:25:03.267983+00   \n",
       "\n",
       "                         paid_at  ...                   moderated_at  \\\n",
       "0   2020-12-17 14:50:07.47011+00  ...                            NaN   \n",
       "1   2020-12-08 17:13:10.45908+00  ...  2020-08-10 14:58:19.039748+00   \n",
       "2   2020-11-04 19:34:37.43291+00  ...                            NaN   \n",
       "3  2020-11-19 05:09:22.500223+00  ...                            NaN   \n",
       "4  2020-11-02 14:45:20.355598+00  ...  2020-10-06 08:20:15.587318+00   \n",
       "\n",
       "  deleted_account_id      reimbursement_date  cash_request_received_date  \\\n",
       "0                NaN  2020-10-01 22:00:00+00                         NaN   \n",
       "1                NaN  2020-09-07 22:00:00+00                  2020-08-12   \n",
       "2                NaN  2020-11-04 22:00:00+00                  2020-10-27   \n",
       "3                NaN  2020-11-11 23:51:00+00                  2020-11-03   \n",
       "4            19005.0  2020-10-30 11:00:00+00                  2020-10-09   \n",
       "\n",
       "                 money_back_date transfer_type                        send_at  \\\n",
       "0         2020-10-06 22:00:00+00       instant  2020-09-14 10:46:57.735172+00   \n",
       "1  2020-12-02 03:02:41.180953+00       instant  2020-08-17 13:15:54.290998+00   \n",
       "2  2020-11-04 19:34:37.399122+00       instant  2020-10-23 10:10:52.894637+00   \n",
       "3         2020-11-17 23:00:00+00       instant  2020-10-31 15:46:46.846335+00   \n",
       "4  2020-11-02 14:45:20.315696+00       instant  2020-10-13 00:40:23.983346+00   \n",
       "\n",
       "   recovery_status                  reco_creation  \\\n",
       "0          pending  2020-10-11 22:52:52.274832+00   \n",
       "1        completed  2020-09-09 20:51:17.992852+00   \n",
       "2              NaN                            NaN   \n",
       "3              NaN                            NaN   \n",
       "4        completed  2020-10-24 22:43:13.278707+00   \n",
       "\n",
       "                reco_last_update  \n",
       "0  2020-12-20 22:40:42.556534+00  \n",
       "1  2020-10-10 22:58:13.306027+00  \n",
       "2                            NaN  \n",
       "3                            NaN  \n",
       "4  2020-11-02 14:45:20.333109+00  \n",
       "\n",
       "[5 rows x 28 columns]"
      ]
     },
     "execution_count": 25,
     "metadata": {},
     "output_type": "execute_result"
    }
   ],
   "source": [
    "left_merge.head()"
   ]
  },
  {
   "cell_type": "code",
   "execution_count": 22,
   "id": "111224b0-df07-45c9-96a0-13dde5eec7cd",
   "metadata": {},
   "outputs": [
    {
     "data": {
      "text/plain": [
       "(21061, 28)"
      ]
     },
     "execution_count": 22,
     "metadata": {},
     "output_type": "execute_result"
    }
   ],
   "source": [
    "left_merge.shape\n"
   ]
  },
  {
   "cell_type": "code",
   "execution_count": 29,
   "id": "40cf4824-eccf-4b73-8b6e-88b0c88aefe4",
   "metadata": {},
   "outputs": [
    {
     "data": {
      "text/html": [
       "<div>\n",
       "<style scoped>\n",
       "    .dataframe tbody tr th:only-of-type {\n",
       "        vertical-align: middle;\n",
       "    }\n",
       "\n",
       "    .dataframe tbody tr th {\n",
       "        vertical-align: top;\n",
       "    }\n",
       "\n",
       "    .dataframe thead th {\n",
       "        text-align: right;\n",
       "    }\n",
       "</style>\n",
       "<table border=\"1\" class=\"dataframe\">\n",
       "  <thead>\n",
       "    <tr style=\"text-align: right;\">\n",
       "      <th></th>\n",
       "      <th>id</th>\n",
       "      <th>cash_request_id</th>\n",
       "      <th>type</th>\n",
       "      <th>status_x</th>\n",
       "      <th>category</th>\n",
       "      <th>total_amount</th>\n",
       "      <th>reason</th>\n",
       "      <th>created_at_x</th>\n",
       "      <th>updated_at_x</th>\n",
       "      <th>paid_at</th>\n",
       "      <th>...</th>\n",
       "      <th>cash_request_received_date</th>\n",
       "      <th>money_back_date</th>\n",
       "      <th>transfer_type</th>\n",
       "      <th>send_at</th>\n",
       "      <th>recovery_status</th>\n",
       "      <th>reco_creation</th>\n",
       "      <th>reco_last_update</th>\n",
       "      <th>year</th>\n",
       "      <th>month</th>\n",
       "      <th>YYMM</th>\n",
       "    </tr>\n",
       "  </thead>\n",
       "  <tbody>\n",
       "    <tr>\n",
       "      <th>0</th>\n",
       "      <td>6537</td>\n",
       "      <td>14941.0</td>\n",
       "      <td>instant_payment</td>\n",
       "      <td>rejected</td>\n",
       "      <td>NaN</td>\n",
       "      <td>5.0</td>\n",
       "      <td>Instant Payment Cash Request 14941</td>\n",
       "      <td>2020-09-07 10:47:27.423150+00:00</td>\n",
       "      <td>2020-10-13 14:25:09.396112+00</td>\n",
       "      <td>2020-12-17 14:50:07.47011+00</td>\n",
       "      <td>...</td>\n",
       "      <td>NaN</td>\n",
       "      <td>2020-10-06 22:00:00+00</td>\n",
       "      <td>instant</td>\n",
       "      <td>2020-09-14 10:46:57.735172+00</td>\n",
       "      <td>pending</td>\n",
       "      <td>2020-10-11 22:52:52.274832+00</td>\n",
       "      <td>2020-12-20 22:40:42.556534+00</td>\n",
       "      <td>2020</td>\n",
       "      <td>9</td>\n",
       "      <td>2020-09</td>\n",
       "    </tr>\n",
       "    <tr>\n",
       "      <th>1</th>\n",
       "      <td>6961</td>\n",
       "      <td>11714.0</td>\n",
       "      <td>incident</td>\n",
       "      <td>accepted</td>\n",
       "      <td>rejected_direct_debit</td>\n",
       "      <td>5.0</td>\n",
       "      <td>rejected direct debit</td>\n",
       "      <td>2020-09-09 20:51:17.998653+00:00</td>\n",
       "      <td>2020-10-13 14:25:15.537063+00</td>\n",
       "      <td>2020-12-08 17:13:10.45908+00</td>\n",
       "      <td>...</td>\n",
       "      <td>2020-08-12</td>\n",
       "      <td>2020-12-02 03:02:41.180953+00</td>\n",
       "      <td>instant</td>\n",
       "      <td>2020-08-17 13:15:54.290998+00</td>\n",
       "      <td>completed</td>\n",
       "      <td>2020-09-09 20:51:17.992852+00</td>\n",
       "      <td>2020-10-10 22:58:13.306027+00</td>\n",
       "      <td>2020</td>\n",
       "      <td>9</td>\n",
       "      <td>2020-09</td>\n",
       "    </tr>\n",
       "    <tr>\n",
       "      <th>2</th>\n",
       "      <td>16296</td>\n",
       "      <td>23371.0</td>\n",
       "      <td>instant_payment</td>\n",
       "      <td>accepted</td>\n",
       "      <td>NaN</td>\n",
       "      <td>5.0</td>\n",
       "      <td>Instant Payment Cash Request 23371</td>\n",
       "      <td>2020-10-23 10:10:58.352972+00:00</td>\n",
       "      <td>2020-10-23 10:10:58.352994+00</td>\n",
       "      <td>2020-11-04 19:34:37.43291+00</td>\n",
       "      <td>...</td>\n",
       "      <td>2020-10-27</td>\n",
       "      <td>2020-11-04 19:34:37.399122+00</td>\n",
       "      <td>instant</td>\n",
       "      <td>2020-10-23 10:10:52.894637+00</td>\n",
       "      <td>NaN</td>\n",
       "      <td>NaN</td>\n",
       "      <td>NaN</td>\n",
       "      <td>2020</td>\n",
       "      <td>10</td>\n",
       "      <td>2020-10</td>\n",
       "    </tr>\n",
       "    <tr>\n",
       "      <th>3</th>\n",
       "      <td>20775</td>\n",
       "      <td>26772.0</td>\n",
       "      <td>instant_payment</td>\n",
       "      <td>accepted</td>\n",
       "      <td>NaN</td>\n",
       "      <td>5.0</td>\n",
       "      <td>Instant Payment Cash Request 26772</td>\n",
       "      <td>2020-10-31 15:46:53.643958+00:00</td>\n",
       "      <td>2020-10-31 15:46:53.643982+00</td>\n",
       "      <td>2020-11-19 05:09:22.500223+00</td>\n",
       "      <td>...</td>\n",
       "      <td>2020-11-03</td>\n",
       "      <td>2020-11-17 23:00:00+00</td>\n",
       "      <td>instant</td>\n",
       "      <td>2020-10-31 15:46:46.846335+00</td>\n",
       "      <td>NaN</td>\n",
       "      <td>NaN</td>\n",
       "      <td>NaN</td>\n",
       "      <td>2020</td>\n",
       "      <td>10</td>\n",
       "      <td>2020-10</td>\n",
       "    </tr>\n",
       "    <tr>\n",
       "      <th>4</th>\n",
       "      <td>11242</td>\n",
       "      <td>19350.0</td>\n",
       "      <td>instant_payment</td>\n",
       "      <td>accepted</td>\n",
       "      <td>NaN</td>\n",
       "      <td>5.0</td>\n",
       "      <td>Instant Payment Cash Request 19350</td>\n",
       "      <td>2020-10-06 08:20:17.170432+00:00</td>\n",
       "      <td>2020-10-13 14:25:03.267983+00</td>\n",
       "      <td>2020-11-02 14:45:20.355598+00</td>\n",
       "      <td>...</td>\n",
       "      <td>2020-10-09</td>\n",
       "      <td>2020-11-02 14:45:20.315696+00</td>\n",
       "      <td>instant</td>\n",
       "      <td>2020-10-13 00:40:23.983346+00</td>\n",
       "      <td>completed</td>\n",
       "      <td>2020-10-24 22:43:13.278707+00</td>\n",
       "      <td>2020-11-02 14:45:20.333109+00</td>\n",
       "      <td>2020</td>\n",
       "      <td>10</td>\n",
       "      <td>2020-10</td>\n",
       "    </tr>\n",
       "  </tbody>\n",
       "</table>\n",
       "<p>5 rows × 31 columns</p>\n",
       "</div>"
      ],
      "text/plain": [
       "      id  cash_request_id             type  status_x               category  \\\n",
       "0   6537          14941.0  instant_payment  rejected                    NaN   \n",
       "1   6961          11714.0         incident  accepted  rejected_direct_debit   \n",
       "2  16296          23371.0  instant_payment  accepted                    NaN   \n",
       "3  20775          26772.0  instant_payment  accepted                    NaN   \n",
       "4  11242          19350.0  instant_payment  accepted                    NaN   \n",
       "\n",
       "   total_amount                              reason  \\\n",
       "0           5.0  Instant Payment Cash Request 14941   \n",
       "1           5.0               rejected direct debit   \n",
       "2           5.0  Instant Payment Cash Request 23371   \n",
       "3           5.0  Instant Payment Cash Request 26772   \n",
       "4           5.0  Instant Payment Cash Request 19350   \n",
       "\n",
       "                      created_at_x                   updated_at_x  \\\n",
       "0 2020-09-07 10:47:27.423150+00:00  2020-10-13 14:25:09.396112+00   \n",
       "1 2020-09-09 20:51:17.998653+00:00  2020-10-13 14:25:15.537063+00   \n",
       "2 2020-10-23 10:10:58.352972+00:00  2020-10-23 10:10:58.352994+00   \n",
       "3 2020-10-31 15:46:53.643958+00:00  2020-10-31 15:46:53.643982+00   \n",
       "4 2020-10-06 08:20:17.170432+00:00  2020-10-13 14:25:03.267983+00   \n",
       "\n",
       "                         paid_at  ... cash_request_received_date  \\\n",
       "0   2020-12-17 14:50:07.47011+00  ...                        NaN   \n",
       "1   2020-12-08 17:13:10.45908+00  ...                 2020-08-12   \n",
       "2   2020-11-04 19:34:37.43291+00  ...                 2020-10-27   \n",
       "3  2020-11-19 05:09:22.500223+00  ...                 2020-11-03   \n",
       "4  2020-11-02 14:45:20.355598+00  ...                 2020-10-09   \n",
       "\n",
       "                 money_back_date transfer_type                        send_at  \\\n",
       "0         2020-10-06 22:00:00+00       instant  2020-09-14 10:46:57.735172+00   \n",
       "1  2020-12-02 03:02:41.180953+00       instant  2020-08-17 13:15:54.290998+00   \n",
       "2  2020-11-04 19:34:37.399122+00       instant  2020-10-23 10:10:52.894637+00   \n",
       "3         2020-11-17 23:00:00+00       instant  2020-10-31 15:46:46.846335+00   \n",
       "4  2020-11-02 14:45:20.315696+00       instant  2020-10-13 00:40:23.983346+00   \n",
       "\n",
       "  recovery_status                  reco_creation  \\\n",
       "0         pending  2020-10-11 22:52:52.274832+00   \n",
       "1       completed  2020-09-09 20:51:17.992852+00   \n",
       "2             NaN                            NaN   \n",
       "3             NaN                            NaN   \n",
       "4       completed  2020-10-24 22:43:13.278707+00   \n",
       "\n",
       "                reco_last_update  year month     YYMM  \n",
       "0  2020-12-20 22:40:42.556534+00  2020     9  2020-09  \n",
       "1  2020-10-10 22:58:13.306027+00  2020     9  2020-09  \n",
       "2                            NaN  2020    10  2020-10  \n",
       "3                            NaN  2020    10  2020-10  \n",
       "4  2020-11-02 14:45:20.333109+00  2020    10  2020-10  \n",
       "\n",
       "[5 rows x 31 columns]"
      ]
     },
     "execution_count": 29,
     "metadata": {},
     "output_type": "execute_result"
    }
   ],
   "source": [
    "left_merge['created_at_x'] = pd.to_datetime(left_merge['created_at_x'])\n",
    "left_merge['year'] = left_merge['created_at_x'].dt.year\n",
    "left_merge['month'] = left_merge['created_at_x'].dt.month\n",
    "left_merge['YYMM'] = left_merge['created_at_x'].dt.strftime('%Y-%m')\n",
    "left_merge.head()\n",
    "\n"
   ]
  },
  {
   "cell_type": "code",
   "execution_count": 39,
   "id": "db3afb78-b350-4099-88f4-94607ad439f0",
   "metadata": {},
   "outputs": [
    {
     "data": {
      "text/plain": [
       "type\n",
       "incident            2196\n",
       "instant_payment    11099\n",
       "postpone            7766\n",
       "dtype: int64"
      ]
     },
     "execution_count": 39,
     "metadata": {},
     "output_type": "execute_result"
    }
   ],
   "source": [
    "left_merge.groupby(by = 'type').size()\n"
   ]
  },
  {
   "cell_type": "code",
   "execution_count": 97,
   "id": "cbcd2ac6-e1ac-4d6e-a589-29cd60ee8318",
   "metadata": {},
   "outputs": [],
   "source": [
    "filtered_df = left_merge[left_merge['type'] != 'incident']\n"
   ]
  },
  {
   "cell_type": "code",
   "execution_count": 98,
   "id": "e4e02486-5b64-4128-805e-7f74286b76eb",
   "metadata": {
    "scrolled": true
   },
   "outputs": [
    {
     "name": "stdout",
     "output_type": "stream",
     "text": [
      "                       monthly_usage\n",
      "YYMM    transfer_type               \n",
      "2020-05 regular                   16\n",
      "2020-06 regular                  762\n",
      "2020-07 instant                  114\n",
      "        regular                 1264\n",
      "2020-08 instant                 1988\n",
      "        regular                  584\n",
      "2020-09 instant                 3792\n",
      "        regular                  243\n",
      "2020-10 instant                 9661\n",
      "        regular                  180\n",
      "2020-11 instant                  252\n",
      "        regular                    5\n"
     ]
    }
   ],
   "source": [
    "monthly_usage = filtered_df.groupby(['YYMM', 'transfer_type']).agg(monthly_usage = ('created_at_x','count'))\n",
    "print(monthly_usage)\n"
   ]
  },
  {
   "cell_type": "code",
   "execution_count": 47,
   "id": "36fcb7e4-d05a-45cc-8ab1-3170a00e5618",
   "metadata": {},
   "outputs": [],
   "source": [
    "import seaborn as sns\n",
    "import matplotlib.pyplot as plt"
   ]
  },
  {
   "cell_type": "code",
   "execution_count": 49,
   "id": "16c9160e-b1ce-4c7d-a5ff-b1ef2af7fcb9",
   "metadata": {},
   "outputs": [
    {
     "name": "stderr",
     "output_type": "stream",
     "text": [
      "C:\\Users\\emin.sen\\AppData\\Local\\anaconda3\\Lib\\site-packages\\seaborn\\_oldcore.py:1119: FutureWarning: use_inf_as_na option is deprecated and will be removed in a future version. Convert inf values to NaN before operating instead.\n",
      "  with pd.option_context('mode.use_inf_as_na', True):\n",
      "C:\\Users\\emin.sen\\AppData\\Local\\anaconda3\\Lib\\site-packages\\seaborn\\_oldcore.py:1119: FutureWarning: use_inf_as_na option is deprecated and will be removed in a future version. Convert inf values to NaN before operating instead.\n",
      "  with pd.option_context('mode.use_inf_as_na', True):\n"
     ]
    },
    {
     "data": {
      "text/plain": [
       "<Axes: xlabel='YYMM', ylabel='monthly_usage'>"
      ]
     },
     "execution_count": 49,
     "metadata": {},
     "output_type": "execute_result"
    },
    {
     "data": {
      "image/png": "[encoded data removed]",
      "text/plain": [
       "<Figure size 640x480 with 1 Axes>"
      ]
     },
     "metadata": {},
     "output_type": "display_data"
    }
   ],
   "source": [
    "sns.lineplot(data=monthly_usage, x='YYMM', y='monthly_usage', hue='transfer_type')\n"
   ]
  },
  {
   "cell_type": "code",
   "execution_count": 56,
   "id": "6a1c6e95-6af4-48a7-97d1-8c4246e39eba",
   "metadata": {
    "scrolled": true
   },
   "outputs": [
    {
     "name": "stderr",
     "output_type": "stream",
     "text": [
      "C:\\Users\\emin.sen\\AppData\\Local\\anaconda3\\Lib\\site-packages\\seaborn\\_oldcore.py:1119: FutureWarning: use_inf_as_na option is deprecated and will be removed in a future version. Convert inf values to NaN before operating instead.\n",
      "  with pd.option_context('mode.use_inf_as_na', True):\n",
      "C:\\Users\\emin.sen\\AppData\\Local\\anaconda3\\Lib\\site-packages\\seaborn\\_oldcore.py:1119: FutureWarning: use_inf_as_na option is deprecated and will be removed in a future version. Convert inf values to NaN before operating instead.\n",
      "  with pd.option_context('mode.use_inf_as_na', True):\n"
     ]
    },
    {
     "data": {
      "image/png": "[encoded data removed]",
      "text/plain": [
       "<Figure size 1000x600 with 1 Axes>"
      ]
     },
     "metadata": {},
     "output_type": "display_data"
    }
   ],
   "source": [
    "total_usage = monthly_usage.groupby('YYMM')['monthly_usage'].sum().reset_index()\n",
    "total_usage['transfer_type'] = 'total'\n",
    "monthly_usage = pd.concat([monthly_usage, total_usage], ignore_index=True)\n",
    "\n",
    "\n",
    "plt.figure(figsize=(10, 6))\n",
    "sns.lineplot(data=monthly_usage, x='YYMM', y='monthly_usage', hue='transfer_type', marker='o')\n",
    "\n",
    "plt.title('Total Usage by Month')\n",
    "plt.xlabel('Month')\n",
    "plt.ylabel('Monthly Usage')\n",
    "plt.xticks(rotation=45)\n",
    "plt.tight_layout()\n",
    "plt.show()\n"
   ]
  },
  {
   "cell_type": "code",
   "execution_count": 74,
   "id": "48972a37-9575-487b-965a-d8665fc7471f",
   "metadata": {},
   "outputs": [],
   "source": [
    "incedents = left_merge[left_merge['type'] == 'incident']\n",
    "incident_count = incedents.shape[0]"
   ]
  },
  {
   "cell_type": "code",
   "execution_count": 64,
   "id": "c2105fdd-8d12-4ffd-a1cd-97a7e3883ac6",
   "metadata": {},
   "outputs": [
    {
     "name": "stdout",
     "output_type": "stream",
     "text": [
      "%  10.42685532500831\n"
     ]
    }
   ],
   "source": [
    "incident_ratio = (incedents.shape[0] / left_merge['type'].count())*100\n",
    "print('% ', incident_ratio)"
   ]
  },
  {
   "cell_type": "code",
   "execution_count": 91,
   "id": "dbf28046-7c11-4410-bdb7-7e1e36cdb698",
   "metadata": {},
   "outputs": [
    {
     "name": "stdout",
     "output_type": "stream",
     "text": [
      "      YYMM  incident_ratio\n",
      "0  2020-05        0.000000\n",
      "1  2020-06        0.009103\n",
      "2  2020-07        0.148857\n",
      "3  2020-08        0.155963\n",
      "4  2020-09        0.117454\n",
      "5  2020-10        0.085919\n",
      "6  2020-11        0.037453\n"
     ]
    }
   ],
   "source": [
    "incident_ratio_by_month = left_merge.groupby('YYMM')['type'].apply(lambda x: (x == 'incident').sum() / x.count()).reset_index(name='incident_ratio')\n",
    "print(incident_ratio_by_month)\n"
   ]
  },
  {
   "cell_type": "code",
   "execution_count": 96,
   "id": "e46390ba-87ef-409b-a413-99d58f439529",
   "metadata": {},
   "outputs": [
    {
     "data": {
      "text/plain": [
       "[<matplotlib.lines.Line2D at 0x263607baed0>]"
      ]
     },
     "execution_count": 96,
     "metadata": {},
     "output_type": "execute_result"
    },
    {
     "data": {
      "image/png": "[encoded data removed]",
      "text/plain": [
       "<Figure size 640x480 with 1 Axes>"
      ]
     },
     "metadata": {},
     "output_type": "display_data"
    }
   ],
   "source": [
    "plt.plot(incident_ratio_by_month['YYMM'], incident_ratio_by_month['incident_ratio'])"
   ]
  },
  {
   "cell_type": "code",
   "execution_count": 101,
   "id": "3738de35-a20f-458c-9f65-a05091287e4f",
   "metadata": {},
   "outputs": [
    {
     "name": "stdout",
     "output_type": "stream",
     "text": [
      "      YYMM  total_amount\n",
      "0  2020-05          80.0\n",
      "1  2020-06        3835.0\n",
      "2  2020-07        7965.0\n",
      "3  2020-08       14410.0\n",
      "4  2020-09       21435.0\n",
      "5  2020-10       50330.0\n",
      "6  2020-11        1285.0\n"
     ]
    }
   ],
   "source": [
    " df_filtered = left_merge[left_merge['status_x'] != 'rejected']\n",
    "\n",
    " revenue_by_month = df_filtered.groupby('YYMM')['total_amount'].sum().reset_index()\n",
    "\n",
    "# Print the result\n",
    "print(revenue_by_month)\n"
   ]
  },
  {
   "cell_type": "code",
   "execution_count": 105,
   "id": "c7d87b1b-6a6c-49aa-a53e-b1c26e2bc6ff",
   "metadata": {},
   "outputs": [
    {
     "name": "stderr",
     "output_type": "stream",
     "text": [
      "C:\\Users\\emin.sen\\AppData\\Local\\anaconda3\\Lib\\site-packages\\seaborn\\_oldcore.py:1119: FutureWarning: use_inf_as_na option is deprecated and will be removed in a future version. Convert inf values to NaN before operating instead.\n",
      "  with pd.option_context('mode.use_inf_as_na', True):\n",
      "C:\\Users\\emin.sen\\AppData\\Local\\anaconda3\\Lib\\site-packages\\seaborn\\_oldcore.py:1119: FutureWarning: use_inf_as_na option is deprecated and will be removed in a future version. Convert inf values to NaN before operating instead.\n",
      "  with pd.option_context('mode.use_inf_as_na', True):\n"
     ]
    },
    {
     "data": {
      "image/png": "[encoded data removed]",
      "text/plain": [
       "<Figure size 640x480 with 1 Axes>"
      ]
     },
     "metadata": {},
     "output_type": "display_data"
    }
   ],
   "source": [
    "sns.lineplot(data=revenue_by_month, x='YYMM', y='total_amount')\n",
    "\n",
    "plt.title('Revenue Generated by Month')\n",
    "plt.xlabel('Month')\n",
    "plt.ylabel('Total Revenue')\n",
    "\n",
    "plt.show()"
   ]
  },
  {
   "cell_type": "code",
   "execution_count": 106,
   "id": "f3d3058b-c18c-499e-80f6-d53814398336",
   "metadata": {},
   "outputs": [
    {
     "name": "stdout",
     "output_type": "stream",
     "text": [
      "  transfer_type  total_amount\n",
      "0       instant       83490.0\n",
      "1       regular       21800.0\n",
      "\n",
      "Share of values for each transfer type:\n",
      "  transfer_type     share\n",
      "0       instant  0.792943\n",
      "1       regular  0.207057\n"
     ]
    }
   ],
   "source": [
    "revenues_by_transfer_type = left_merge.groupby('transfer_type')['total_amount'].sum().reset_index()\n",
    "share_of_values = left_merge['transfer_type'].value_counts(normalize=True).reset_index()\n",
    "share_of_values.columns = ['transfer_type', 'share']\n",
    "print(revenues_by_transfer_type)\n",
    "print(\"\\nShare of values for each transfer type:\")\n",
    "print(share_of_values)"
   ]
  },
  {
   "cell_type": "code",
   "execution_count": 121,
   "id": "e955802b-a1b4-4054-9adf-c926c6f07d7f",
   "metadata": {},
   "outputs": [
    {
     "name": "stdout",
     "output_type": "stream",
     "text": [
      "\n",
      "Share of revenue for each transfer type:\n",
      "transfer_type\n",
      "instant    83490.0\n",
      "regular    21800.0\n",
      "Name: total_amount, dtype: float64\n",
      "\n",
      "Share of values for each transfer type:\n",
      "transfer_type\n",
      "instant    16697\n",
      "regular     4360\n",
      "Name: count, dtype: int64\n"
     ]
    }
   ],
   "source": [
    "print(\"\\nShare of revenue for each transfer type:\")\n",
    "revenues_by_transfer_type = left_merge.groupby('transfer_type')['total_amount'].sum()\n",
    "share_of_values = left_merge['transfer_type'].value_counts()\n",
    "share_of_values.columns = ['transfer_type', 'share']\n",
    "print(revenues_by_transfer_type)\n",
    "print(\"\\nShare of values for each transfer type:\")\n",
    "print(share_of_values)"
   ]
  },
  {
   "cell_type": "code",
   "execution_count": 118,
   "id": "bda9bbe6-2960-483e-9c17-b3b4d5e44355",
   "metadata": {},
   "outputs": [
    {
     "data": {
      "image/png": "[encoded data removed]",
      "text/plain": [
       "<Figure size 640x480 with 1 Axes>"
      ]
     },
     "metadata": {},
     "output_type": "display_data"
    }
   ],
   "source": [
    "plt.scatter(left_merge['month'], left_merge['total_amount'])\n",
    "plt.title('Payments by Month')\n",
    "plt.xlabel('Month')\n",
    "plt.ylabel('Payment Amount')\n",
    "plt.show()"
   ]
  },
  {
   "cell_type": "code",
   "execution_count": 120,
   "id": "64dfb0a3-359b-43cb-a14c-ab3df6bae737",
   "metadata": {},
   "outputs": [],
   "source": [
    "left_merge.to_csv('mered_data.csv', index=False)"
   ]
  },
  {
   "cell_type": "code",
   "execution_count": null,
   "id": "1ea278a2-2a15-4fdb-913f-f7fbe5310be3",
   "metadata": {},
   "outputs": [],
   "source": []
  },
  {
   "cell_type": "code",
   "execution_count": null,
   "id": "87c0afeb-fce3-42a7-aac3-bd4a9457da3e",
   "metadata": {},
   "outputs": [],
   "source": []
  },
  {
   "cell_type": "code",
   "execution_count": null,
   "id": "17d9d33a-48aa-43ab-b82f-a0329d1a3804",
   "metadata": {},
   "outputs": [],
   "source": []
  }
 ],
 "metadata": {
  "kernelspec": {
   "display_name": "Python 3 (ipykernel)",
   "language": "python",
   "name": "python3"
  },
  "language_info": {
   "codemirror_mode": {
    "name": "ipython",
    "version": 3
   },
   "file_extension": ".py",
   "mimetype": "text/x-python",
   "name": "python",
   "nbconvert_exporter": "python",
   "pygments_lexer": "ipython3",
   "version": "3.11.7"
  }
 },
 "nbformat": 4,
 "nbformat_minor": 5
}
