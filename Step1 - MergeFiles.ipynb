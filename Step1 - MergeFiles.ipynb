{
 "cells": [
  {
   "cell_type": "code",
   "execution_count": 1,
   "metadata": {},
   "outputs": [
    {
     "data": {
      "text/plain": [
       "'merged_data.csv'"
      ]
     },
     "execution_count": 1,
     "metadata": {},
     "output_type": "execute_result"
    }
   ],
   "source": [
    "import pandas as pd\n",
    "\n",
    "# Load the files\n",
    "file1_path = 'extract - cash request - data analyst.csv'\n",
    "file2_path = 'extract - fees - data analyst - .csv'\n",
    "\n",
    "# Reading the CSV files\n",
    "df1 = pd.read_csv(file1_path)\n",
    "df2 = pd.read_csv(file2_path)\n",
    "\n",
    "# Performing a full outer join on the 'id' column from df1 and df2\n",
    "merged_df = pd.merge(df1, df2, on='id', how='outer', suffixes=('_cash_request', '_fees'))\n",
    "\n",
    "# Saving the merged DataFrame to a CSV file\n",
    "merged_file_path = 'merged_data.csv'\n",
    "merged_df.to_csv(merged_file_path, index=False)\n",
    "\n",
    "# Provide the path to the saved merged file\n",
    "merged_file_path\n"
   ]
  }
 ],
 "metadata": {
  "kernelspec": {
   "display_name": "Python 3",
   "language": "python",
   "name": "python3"
  },
  "language_info": {
   "codemirror_mode": {
    "name": "ipython",
    "version": 3
   },
   "file_extension": ".py",
   "mimetype": "text/x-python",
   "name": "python",
   "nbconvert_exporter": "python",
   "pygments_lexer": "ipython3",
   "version": "3.11.2"
  },
  "orig_nbformat": 4
 },
 "nbformat": 4,
 "nbformat_minor": 2
}
