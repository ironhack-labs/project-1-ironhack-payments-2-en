{
 "cells": [
  {
   "cell_type": "code",
   "execution_count": 26,
   "id": "0fc27630-01b5-4ca6-9162-244c4b398536",
   "metadata": {},
   "outputs": [],
   "source": [
    "import pandas as pd\n",
    "import matplotlib.pyplot as plt\n",
    "import seaborn as sns\n",
    "import numpy as np\n",
    "\n",
    "%matplotlib inline\n"
   ]
  },
  {
   "cell_type": "code",
   "execution_count": 27,
   "id": "160c8298-88aa-42ac-98f8-cc2d108ecae7",
   "metadata": {},
   "outputs": [],
   "source": [
    "data = pd.read_csv(\"extract-fees-data_analyst.csv\") # Fees"
   ]
  },
  {
   "cell_type": "code",
   "execution_count": 28,
   "id": "2a5a9ce6-e1fa-40c6-96e9-bfe5a0e34fb1",
   "metadata": {},
   "outputs": [],
   "source": [
    "data2 = pd.read_csv(\"extract-cash_request-data analyst.csv\") # CashAdvance"
   ]
  },
  {
   "cell_type": "code",
   "execution_count": 29,
   "id": "1b401595-7c89-4f1a-9e69-689ed7688ea8",
   "metadata": {},
   "outputs": [],
   "source": [
    "pd.set_option('display.max_columns', None)"
   ]
  },
  {
   "cell_type": "code",
   "execution_count": 30,
   "id": "7b77b471-ac9d-4d9f-9176-568c1368f4fc",
   "metadata": {},
   "outputs": [],
   "source": [
    "df_f = data.copy()"
   ]
  },
  {
   "cell_type": "code",
   "execution_count": 31,
   "id": "bbe78364-ade9-480b-8461-750f59bccc72",
   "metadata": {},
   "outputs": [],
   "source": [
    "df_c = data2.copy()"
   ]
  },
  {
   "cell_type": "code",
   "execution_count": 32,
   "id": "076030ab-a34e-4fd5-917f-d2bedf10f345",
   "metadata": {},
   "outputs": [
    {
     "data": {
      "text/html": [
       "<div>\n",
       "<style scoped>\n",
       "    .dataframe tbody tr th:only-of-type {\n",
       "        vertical-align: middle;\n",
       "    }\n",
       "\n",
       "    .dataframe tbody tr th {\n",
       "        vertical-align: top;\n",
       "    }\n",
       "\n",
       "    .dataframe thead th {\n",
       "        text-align: right;\n",
       "    }\n",
       "</style>\n",
       "<table border=\"1\" class=\"dataframe\">\n",
       "  <thead>\n",
       "    <tr style=\"text-align: right;\">\n",
       "      <th></th>\n",
       "      <th>count</th>\n",
       "      <th>mean</th>\n",
       "      <th>std</th>\n",
       "      <th>min</th>\n",
       "      <th>25%</th>\n",
       "      <th>50%</th>\n",
       "      <th>75%</th>\n",
       "      <th>max</th>\n",
       "    </tr>\n",
       "  </thead>\n",
       "  <tbody>\n",
       "    <tr>\n",
       "      <th>id</th>\n",
       "      <td>21061.0</td>\n",
       "      <td>10645.355111</td>\n",
       "      <td>6099.315256</td>\n",
       "      <td>1.0</td>\n",
       "      <td>5385.0</td>\n",
       "      <td>10652.0</td>\n",
       "      <td>15925.0</td>\n",
       "      <td>21193.0</td>\n",
       "    </tr>\n",
       "    <tr>\n",
       "      <th>cash_request_id</th>\n",
       "      <td>21057.0</td>\n",
       "      <td>16318.449162</td>\n",
       "      <td>6656.149949</td>\n",
       "      <td>1456.0</td>\n",
       "      <td>11745.0</td>\n",
       "      <td>17160.0</td>\n",
       "      <td>21796.0</td>\n",
       "      <td>27010.0</td>\n",
       "    </tr>\n",
       "    <tr>\n",
       "      <th>total_amount</th>\n",
       "      <td>21061.0</td>\n",
       "      <td>5.000237</td>\n",
       "      <td>0.034453</td>\n",
       "      <td>5.0</td>\n",
       "      <td>5.0</td>\n",
       "      <td>5.0</td>\n",
       "      <td>5.0</td>\n",
       "      <td>10.0</td>\n",
       "    </tr>\n",
       "  </tbody>\n",
       "</table>\n",
       "</div>"
      ],
      "text/plain": [
       "                   count          mean          std     min      25%      50%  \\\n",
       "id               21061.0  10645.355111  6099.315256     1.0   5385.0  10652.0   \n",
       "cash_request_id  21057.0  16318.449162  6656.149949  1456.0  11745.0  17160.0   \n",
       "total_amount     21061.0      5.000237     0.034453     5.0      5.0      5.0   \n",
       "\n",
       "                     75%      max  \n",
       "id               15925.0  21193.0  \n",
       "cash_request_id  21796.0  27010.0  \n",
       "total_amount         5.0     10.0  "
      ]
     },
     "execution_count": 32,
     "metadata": {},
     "output_type": "execute_result"
    }
   ],
   "source": [
    "df_f.describe().T  # Fees"
   ]
  },
  {
   "cell_type": "code",
   "execution_count": 33,
   "id": "0ddb529c-f2e3-49f1-bbbc-b7b80cf5f422",
   "metadata": {},
   "outputs": [
    {
     "data": {
      "text/html": [
       "<div>\n",
       "<style scoped>\n",
       "    .dataframe tbody tr th:only-of-type {\n",
       "        vertical-align: middle;\n",
       "    }\n",
       "\n",
       "    .dataframe tbody tr th {\n",
       "        vertical-align: top;\n",
       "    }\n",
       "\n",
       "    .dataframe thead th {\n",
       "        text-align: right;\n",
       "    }\n",
       "</style>\n",
       "<table border=\"1\" class=\"dataframe\">\n",
       "  <thead>\n",
       "    <tr style=\"text-align: right;\">\n",
       "      <th></th>\n",
       "      <th>count</th>\n",
       "      <th>mean</th>\n",
       "      <th>std</th>\n",
       "      <th>min</th>\n",
       "      <th>25%</th>\n",
       "      <th>50%</th>\n",
       "      <th>75%</th>\n",
       "      <th>max</th>\n",
       "    </tr>\n",
       "  </thead>\n",
       "  <tbody>\n",
       "    <tr>\n",
       "      <th>id</th>\n",
       "      <td>23970.0</td>\n",
       "      <td>13910.966124</td>\n",
       "      <td>7788.117214</td>\n",
       "      <td>3.0</td>\n",
       "      <td>7427.25</td>\n",
       "      <td>14270.5</td>\n",
       "      <td>20607.75</td>\n",
       "      <td>27010.0</td>\n",
       "    </tr>\n",
       "    <tr>\n",
       "      <th>amount</th>\n",
       "      <td>23970.0</td>\n",
       "      <td>82.720818</td>\n",
       "      <td>26.528065</td>\n",
       "      <td>1.0</td>\n",
       "      <td>50.00</td>\n",
       "      <td>100.0</td>\n",
       "      <td>100.00</td>\n",
       "      <td>200.0</td>\n",
       "    </tr>\n",
       "    <tr>\n",
       "      <th>user_id</th>\n",
       "      <td>21867.0</td>\n",
       "      <td>32581.250789</td>\n",
       "      <td>27618.565773</td>\n",
       "      <td>34.0</td>\n",
       "      <td>10804.00</td>\n",
       "      <td>23773.0</td>\n",
       "      <td>46965.00</td>\n",
       "      <td>103719.0</td>\n",
       "    </tr>\n",
       "    <tr>\n",
       "      <th>deleted_account_id</th>\n",
       "      <td>2104.0</td>\n",
       "      <td>9658.755228</td>\n",
       "      <td>7972.743249</td>\n",
       "      <td>91.0</td>\n",
       "      <td>3767.00</td>\n",
       "      <td>6121.5</td>\n",
       "      <td>16345.00</td>\n",
       "      <td>30445.0</td>\n",
       "    </tr>\n",
       "  </tbody>\n",
       "</table>\n",
       "</div>"
      ],
      "text/plain": [
       "                      count          mean           std   min       25%  \\\n",
       "id                  23970.0  13910.966124   7788.117214   3.0   7427.25   \n",
       "amount              23970.0     82.720818     26.528065   1.0     50.00   \n",
       "user_id             21867.0  32581.250789  27618.565773  34.0  10804.00   \n",
       "deleted_account_id   2104.0   9658.755228   7972.743249  91.0   3767.00   \n",
       "\n",
       "                        50%       75%       max  \n",
       "id                  14270.5  20607.75   27010.0  \n",
       "amount                100.0    100.00     200.0  \n",
       "user_id             23773.0  46965.00  103719.0  \n",
       "deleted_account_id   6121.5  16345.00   30445.0  "
      ]
     },
     "execution_count": 33,
     "metadata": {},
     "output_type": "execute_result"
    }
   ],
   "source": [
    "df_c.describe().T  # Cash Advance"
   ]
  },
  {
   "cell_type": "code",
   "execution_count": 34,
   "id": "06065d42-6020-46ce-b8ea-f51759228c2a",
   "metadata": {},
   "outputs": [
    {
     "data": {
      "text/plain": [
       "(21061, 13)"
      ]
     },
     "execution_count": 34,
     "metadata": {},
     "output_type": "execute_result"
    }
   ],
   "source": [
    "df_f.shape"
   ]
  },
  {
   "cell_type": "code",
   "execution_count": 35,
   "id": "56d26335-8c21-461a-bd53-21c968eb1657",
   "metadata": {},
   "outputs": [
    {
     "data": {
      "text/plain": [
       "(23970, 16)"
      ]
     },
     "execution_count": 35,
     "metadata": {},
     "output_type": "execute_result"
    }
   ],
   "source": [
    "df_c.shape"
   ]
  },
  {
   "cell_type": "code",
   "execution_count": 36,
   "id": "5ef85241-045e-45af-b5b9-360a3cbd3084",
   "metadata": {},
   "outputs": [
    {
     "data": {
      "text/plain": [
       "<bound method DataFrame.info of           id  cash_request_id             type    status  \\\n",
       "0       6537          14941.0  instant_payment  rejected   \n",
       "1       6961          11714.0         incident  accepted   \n",
       "2      16296          23371.0  instant_payment  accepted   \n",
       "3      20775          26772.0  instant_payment  accepted   \n",
       "4      11242          19350.0  instant_payment  accepted   \n",
       "...      ...              ...              ...       ...   \n",
       "21056  12372          20262.0  instant_payment  rejected   \n",
       "21057  20768          26764.0  instant_payment  rejected   \n",
       "21058  18779          25331.0  instant_payment  rejected   \n",
       "21059  16542          23628.0  instant_payment  rejected   \n",
       "21060  13301          20982.0  instant_payment  accepted   \n",
       "\n",
       "                    category  total_amount  \\\n",
       "0                        NaN           5.0   \n",
       "1      rejected_direct_debit           5.0   \n",
       "2                        NaN           5.0   \n",
       "3                        NaN           5.0   \n",
       "4                        NaN           5.0   \n",
       "...                      ...           ...   \n",
       "21056                    NaN           5.0   \n",
       "21057                    NaN           5.0   \n",
       "21058                    NaN           5.0   \n",
       "21059                    NaN           5.0   \n",
       "21060                    NaN           5.0   \n",
       "\n",
       "                                   reason                     created_at  \\\n",
       "0      Instant Payment Cash Request 14941   2020-09-07 10:47:27.42315+00   \n",
       "1                   rejected direct debit  2020-09-09 20:51:17.998653+00   \n",
       "2      Instant Payment Cash Request 23371  2020-10-23 10:10:58.352972+00   \n",
       "3      Instant Payment Cash Request 26772  2020-10-31 15:46:53.643958+00   \n",
       "4      Instant Payment Cash Request 19350  2020-10-06 08:20:17.170432+00   \n",
       "...                                   ...                            ...   \n",
       "21056  Instant Payment Cash Request 20262  2020-10-10 06:42:22.822743+00   \n",
       "21057  Instant Payment Cash Request 26764  2020-10-31 15:24:18.680694+00   \n",
       "21058  Instant Payment Cash Request 25331  2020-10-27 17:28:51.749177+00   \n",
       "21059  Instant Payment Cash Request 23628  2020-10-23 16:27:52.047457+00   \n",
       "21060  Instant Payment Cash Request 20982  2020-10-14 07:12:43.958192+00   \n",
       "\n",
       "                          updated_at                        paid_at from_date  \\\n",
       "0      2020-10-13 14:25:09.396112+00   2020-12-17 14:50:07.47011+00       NaN   \n",
       "1      2020-10-13 14:25:15.537063+00   2020-12-08 17:13:10.45908+00       NaN   \n",
       "2      2020-10-23 10:10:58.352994+00   2020-11-04 19:34:37.43291+00       NaN   \n",
       "3      2020-10-31 15:46:53.643982+00  2020-11-19 05:09:22.500223+00       NaN   \n",
       "4      2020-10-13 14:25:03.267983+00  2020-11-02 14:45:20.355598+00       NaN   \n",
       "...                              ...                            ...       ...   \n",
       "21056   2020-10-13 14:25:04.18049+00  2020-11-17 05:14:00.080854+00       NaN   \n",
       "21057  2020-10-31 15:24:18.680715+00  2020-12-16 07:10:54.697639+00       NaN   \n",
       "21058    2020-10-27 17:28:51.7492+00  2020-11-18 04:35:42.915511+00       NaN   \n",
       "21059  2020-10-23 16:27:52.047486+00  2020-12-18 05:18:01.465317+00       NaN   \n",
       "21060  2020-10-14 07:12:43.958219+00   2021-02-12 13:02:46.95022+00       NaN   \n",
       "\n",
       "      to_date charge_moment  \n",
       "0         NaN         after  \n",
       "1         NaN         after  \n",
       "2         NaN         after  \n",
       "3         NaN         after  \n",
       "4         NaN         after  \n",
       "...       ...           ...  \n",
       "21056     NaN         after  \n",
       "21057     NaN         after  \n",
       "21058     NaN         after  \n",
       "21059     NaN         after  \n",
       "21060     NaN         after  \n",
       "\n",
       "[21061 rows x 13 columns]>"
      ]
     },
     "execution_count": 36,
     "metadata": {},
     "output_type": "execute_result"
    }
   ],
   "source": [
    "df_f.info"
   ]
  },
  {
   "cell_type": "code",
   "execution_count": 37,
   "id": "f2ec2c82-4c09-4bb0-8afd-46c548c53901",
   "metadata": {},
   "outputs": [
    {
     "data": {
      "text/plain": [
       "Index(['id', 'cash_request_id', 'type', 'status', 'category', 'total_amount',\n",
       "       'reason', 'created_at', 'updated_at', 'paid_at', 'from_date', 'to_date',\n",
       "       'charge_moment'],\n",
       "      dtype='object')"
      ]
     },
     "execution_count": 37,
     "metadata": {},
     "output_type": "execute_result"
    }
   ],
   "source": [
    "df_f.columns"
   ]
  },
  {
   "cell_type": "code",
   "execution_count": 38,
   "id": "6899c9a5-9110-4887-b322-5560ea68f537",
   "metadata": {},
   "outputs": [
    {
     "data": {
      "text/plain": [
       "0"
      ]
     },
     "execution_count": 38,
     "metadata": {},
     "output_type": "execute_result"
    }
   ],
   "source": [
    "df_f.duplicated().sum()"
   ]
  },
  {
   "cell_type": "code",
   "execution_count": 39,
   "id": "83a88d19-e7a2-41da-aafd-e720de8443d5",
   "metadata": {},
   "outputs": [
    {
     "data": {
      "text/plain": [
       "0"
      ]
     },
     "execution_count": 39,
     "metadata": {},
     "output_type": "execute_result"
    }
   ],
   "source": [
    "df_c.duplicated().sum()"
   ]
  },
  {
   "cell_type": "code",
   "execution_count": 40,
   "id": "96aa60df-a7dd-4def-a071-8ffa462fb2aa",
   "metadata": {},
   "outputs": [
    {
     "data": {
      "text/plain": [
       "(21061, 13)"
      ]
     },
     "execution_count": 40,
     "metadata": {},
     "output_type": "execute_result"
    }
   ],
   "source": [
    "df_f.shape"
   ]
  },
  {
   "cell_type": "code",
   "execution_count": 41,
   "id": "ba441bb1-7320-4a65-b5cb-db5adc9f3549",
   "metadata": {},
   "outputs": [
    {
     "data": {
      "text/plain": [
       "(23970, 16)"
      ]
     },
     "execution_count": 41,
     "metadata": {},
     "output_type": "execute_result"
    }
   ],
   "source": [
    "df_c.shape"
   ]
  },
  {
   "cell_type": "code",
   "execution_count": 42,
   "id": "a1211620-8505-466c-82e1-ae7af74fd28f",
   "metadata": {},
   "outputs": [
    {
     "data": {
      "text/plain": [
       "Index(['id', 'amount', 'status', 'created_at', 'updated_at', 'user_id',\n",
       "       'moderated_at', 'deleted_account_id', 'reimbursement_date',\n",
       "       'cash_request_received_date', 'money_back_date', 'transfer_type',\n",
       "       'send_at', 'recovery_status', 'reco_creation', 'reco_last_update'],\n",
       "      dtype='object')"
      ]
     },
     "execution_count": 42,
     "metadata": {},
     "output_type": "execute_result"
    }
   ],
   "source": [
    "df_c.columns"
   ]
  },
  {
   "cell_type": "code",
   "execution_count": 43,
   "id": "464bab0a-45d0-4fee-88e0-ee433bd6de64",
   "metadata": {},
   "outputs": [
    {
     "data": {
      "text/plain": [
       "Index(['id', 'cash_request_id', 'type', 'status', 'category', 'total_amount',\n",
       "       'reason', 'created_at', 'updated_at', 'paid_at', 'from_date', 'to_date',\n",
       "       'charge_moment'],\n",
       "      dtype='object')"
      ]
     },
     "execution_count": 43,
     "metadata": {},
     "output_type": "execute_result"
    }
   ],
   "source": [
    "df_f.columns"
   ]
  },
  {
   "cell_type": "code",
   "execution_count": 44,
   "id": "a5f74bbc-4d4d-4190-ad8c-9f30e595bd3f",
   "metadata": {},
   "outputs": [
    {
     "data": {
      "text/html": [
       "<div>\n",
       "<style scoped>\n",
       "    .dataframe tbody tr th:only-of-type {\n",
       "        vertical-align: middle;\n",
       "    }\n",
       "\n",
       "    .dataframe tbody tr th {\n",
       "        vertical-align: top;\n",
       "    }\n",
       "\n",
       "    .dataframe thead th {\n",
       "        text-align: right;\n",
       "    }\n",
       "</style>\n",
       "<table border=\"1\" class=\"dataframe\">\n",
       "  <thead>\n",
       "    <tr style=\"text-align: right;\">\n",
       "      <th></th>\n",
       "      <th>ID</th>\n",
       "      <th>CASH_REQUEST_ID</th>\n",
       "      <th>TYPE</th>\n",
       "      <th>STATUS</th>\n",
       "      <th>CATEGORY</th>\n",
       "      <th>TOTAL_AMOUNT</th>\n",
       "      <th>REASON</th>\n",
       "      <th>CREATED_AT</th>\n",
       "      <th>UPDATED_AT</th>\n",
       "      <th>PAID_AT</th>\n",
       "      <th>FROM_DATE</th>\n",
       "      <th>TO_DATE</th>\n",
       "      <th>CHARGE_MOMENT</th>\n",
       "    </tr>\n",
       "  </thead>\n",
       "  <tbody>\n",
       "    <tr>\n",
       "      <th>0</th>\n",
       "      <td>6537</td>\n",
       "      <td>14941.0</td>\n",
       "      <td>instant_payment</td>\n",
       "      <td>rejected</td>\n",
       "      <td>NaN</td>\n",
       "      <td>5.0</td>\n",
       "      <td>Instant Payment Cash Request 14941</td>\n",
       "      <td>2020-09-07 10:47:27.42315+00</td>\n",
       "      <td>2020-10-13 14:25:09.396112+00</td>\n",
       "      <td>2020-12-17 14:50:07.47011+00</td>\n",
       "      <td>NaN</td>\n",
       "      <td>NaN</td>\n",
       "      <td>after</td>\n",
       "    </tr>\n",
       "    <tr>\n",
       "      <th>1</th>\n",
       "      <td>6961</td>\n",
       "      <td>11714.0</td>\n",
       "      <td>incident</td>\n",
       "      <td>accepted</td>\n",
       "      <td>rejected_direct_debit</td>\n",
       "      <td>5.0</td>\n",
       "      <td>rejected direct debit</td>\n",
       "      <td>2020-09-09 20:51:17.998653+00</td>\n",
       "      <td>2020-10-13 14:25:15.537063+00</td>\n",
       "      <td>2020-12-08 17:13:10.45908+00</td>\n",
       "      <td>NaN</td>\n",
       "      <td>NaN</td>\n",
       "      <td>after</td>\n",
       "    </tr>\n",
       "  </tbody>\n",
       "</table>\n",
       "</div>"
      ],
      "text/plain": [
       "     ID  CASH_REQUEST_ID             TYPE    STATUS               CATEGORY  \\\n",
       "0  6537          14941.0  instant_payment  rejected                    NaN   \n",
       "1  6961          11714.0         incident  accepted  rejected_direct_debit   \n",
       "\n",
       "   TOTAL_AMOUNT                              REASON  \\\n",
       "0           5.0  Instant Payment Cash Request 14941   \n",
       "1           5.0               rejected direct debit   \n",
       "\n",
       "                      CREATED_AT                     UPDATED_AT  \\\n",
       "0   2020-09-07 10:47:27.42315+00  2020-10-13 14:25:09.396112+00   \n",
       "1  2020-09-09 20:51:17.998653+00  2020-10-13 14:25:15.537063+00   \n",
       "\n",
       "                        PAID_AT FROM_DATE TO_DATE CHARGE_MOMENT  \n",
       "0  2020-12-17 14:50:07.47011+00       NaN     NaN         after  \n",
       "1  2020-12-08 17:13:10.45908+00       NaN     NaN         after  "
      ]
     },
     "execution_count": 44,
     "metadata": {},
     "output_type": "execute_result"
    }
   ],
   "source": [
    "df_f.columns = [column.upper().replace(\" \", \"_\") for column in df_f.columns]\n",
    "df_f.head(2)"
   ]
  },
  {
   "cell_type": "code",
   "execution_count": 45,
   "id": "cffd9c31-41c1-4a70-bc62-0a3178416799",
   "metadata": {},
   "outputs": [
    {
     "data": {
      "text/html": [
       "<div>\n",
       "<style scoped>\n",
       "    .dataframe tbody tr th:only-of-type {\n",
       "        vertical-align: middle;\n",
       "    }\n",
       "\n",
       "    .dataframe tbody tr th {\n",
       "        vertical-align: top;\n",
       "    }\n",
       "\n",
       "    .dataframe thead th {\n",
       "        text-align: right;\n",
       "    }\n",
       "</style>\n",
       "<table border=\"1\" class=\"dataframe\">\n",
       "  <thead>\n",
       "    <tr style=\"text-align: right;\">\n",
       "      <th></th>\n",
       "      <th>ID</th>\n",
       "      <th>AMOUNT</th>\n",
       "      <th>STATUS</th>\n",
       "      <th>CREATED_AT</th>\n",
       "      <th>UPDATED_AT</th>\n",
       "      <th>USER_ID</th>\n",
       "      <th>MODERATED_AT</th>\n",
       "      <th>DELETED_ACCOUNT_ID</th>\n",
       "      <th>REIMBURSEMENT_DATE</th>\n",
       "      <th>CASH_REQUEST_RECEIVED_DATE</th>\n",
       "      <th>MONEY_BACK_DATE</th>\n",
       "      <th>TRANSFER_TYPE</th>\n",
       "      <th>SEND_AT</th>\n",
       "      <th>RECOVERY_STATUS</th>\n",
       "      <th>RECO_CREATION</th>\n",
       "      <th>RECO_LAST_UPDATE</th>\n",
       "    </tr>\n",
       "  </thead>\n",
       "  <tbody>\n",
       "    <tr>\n",
       "      <th>0</th>\n",
       "      <td>5</td>\n",
       "      <td>100.0</td>\n",
       "      <td>rejected</td>\n",
       "      <td>2019-12-10 19:05:21.596873+00</td>\n",
       "      <td>2019-12-11 16:47:42.40783+00</td>\n",
       "      <td>804.0</td>\n",
       "      <td>2019-12-11 16:47:42.405646+00</td>\n",
       "      <td>NaN</td>\n",
       "      <td>2020-01-09 19:05:21.596363+00</td>\n",
       "      <td>NaN</td>\n",
       "      <td>NaN</td>\n",
       "      <td>regular</td>\n",
       "      <td>NaN</td>\n",
       "      <td>NaN</td>\n",
       "      <td>NaN</td>\n",
       "      <td>NaN</td>\n",
       "    </tr>\n",
       "    <tr>\n",
       "      <th>1</th>\n",
       "      <td>70</td>\n",
       "      <td>100.0</td>\n",
       "      <td>rejected</td>\n",
       "      <td>2019-12-10 19:50:12.34778+00</td>\n",
       "      <td>2019-12-11 14:24:22.900054+00</td>\n",
       "      <td>231.0</td>\n",
       "      <td>2019-12-11 14:24:22.897988+00</td>\n",
       "      <td>NaN</td>\n",
       "      <td>2020-01-09 19:50:12.34778+00</td>\n",
       "      <td>NaN</td>\n",
       "      <td>NaN</td>\n",
       "      <td>regular</td>\n",
       "      <td>NaN</td>\n",
       "      <td>NaN</td>\n",
       "      <td>NaN</td>\n",
       "      <td>NaN</td>\n",
       "    </tr>\n",
       "  </tbody>\n",
       "</table>\n",
       "</div>"
      ],
      "text/plain": [
       "   ID  AMOUNT    STATUS                     CREATED_AT  \\\n",
       "0   5   100.0  rejected  2019-12-10 19:05:21.596873+00   \n",
       "1  70   100.0  rejected   2019-12-10 19:50:12.34778+00   \n",
       "\n",
       "                      UPDATED_AT  USER_ID                   MODERATED_AT  \\\n",
       "0   2019-12-11 16:47:42.40783+00    804.0  2019-12-11 16:47:42.405646+00   \n",
       "1  2019-12-11 14:24:22.900054+00    231.0  2019-12-11 14:24:22.897988+00   \n",
       "\n",
       "   DELETED_ACCOUNT_ID             REIMBURSEMENT_DATE  \\\n",
       "0                 NaN  2020-01-09 19:05:21.596363+00   \n",
       "1                 NaN   2020-01-09 19:50:12.34778+00   \n",
       "\n",
       "  CASH_REQUEST_RECEIVED_DATE MONEY_BACK_DATE TRANSFER_TYPE SEND_AT  \\\n",
       "0                        NaN             NaN       regular     NaN   \n",
       "1                        NaN             NaN       regular     NaN   \n",
       "\n",
       "  RECOVERY_STATUS RECO_CREATION RECO_LAST_UPDATE  \n",
       "0             NaN           NaN              NaN  \n",
       "1             NaN           NaN              NaN  "
      ]
     },
     "execution_count": 45,
     "metadata": {},
     "output_type": "execute_result"
    }
   ],
   "source": [
    "df_c.columns = [column.upper().replace(\" \", \"_\") for column in df_c.columns]\n",
    "df_c.head(2)"
   ]
  },
  {
   "cell_type": "code",
   "execution_count": 46,
   "id": "43aca9d2-4d74-420e-b15e-6dbc071742fc",
   "metadata": {},
   "outputs": [
    {
     "data": {
      "text/plain": [
       "ID                   int64\n",
       "CASH_REQUEST_ID    float64\n",
       "TYPE                object\n",
       "STATUS              object\n",
       "CATEGORY            object\n",
       "TOTAL_AMOUNT       float64\n",
       "REASON              object\n",
       "CREATED_AT          object\n",
       "UPDATED_AT          object\n",
       "PAID_AT             object\n",
       "FROM_DATE           object\n",
       "TO_DATE             object\n",
       "CHARGE_MOMENT       object\n",
       "dtype: object"
      ]
     },
     "execution_count": 46,
     "metadata": {},
     "output_type": "execute_result"
    }
   ],
   "source": [
    "df_f.dtypes"
   ]
  },
  {
   "cell_type": "code",
   "execution_count": 47,
   "id": "4a7ed6e8-0137-4ce2-8d31-1b190c2b1efc",
   "metadata": {},
   "outputs": [
    {
     "data": {
      "text/plain": [
       "ID                              int64\n",
       "AMOUNT                        float64\n",
       "STATUS                         object\n",
       "CREATED_AT                     object\n",
       "UPDATED_AT                     object\n",
       "USER_ID                       float64\n",
       "MODERATED_AT                   object\n",
       "DELETED_ACCOUNT_ID            float64\n",
       "REIMBURSEMENT_DATE             object\n",
       "CASH_REQUEST_RECEIVED_DATE     object\n",
       "MONEY_BACK_DATE                object\n",
       "TRANSFER_TYPE                  object\n",
       "SEND_AT                        object\n",
       "RECOVERY_STATUS                object\n",
       "RECO_CREATION                  object\n",
       "RECO_LAST_UPDATE               object\n",
       "dtype: object"
      ]
     },
     "execution_count": 47,
     "metadata": {},
     "output_type": "execute_result"
    }
   ],
   "source": [
    "df_c.dtypes  "
   ]
  },
  {
   "cell_type": "code",
   "execution_count": 48,
   "id": "47e04feb-54f4-4a08-8b83-4446fd1a20cd",
   "metadata": {},
   "outputs": [
    {
     "data": {
      "text/plain": [
       "(21061, 13)"
      ]
     },
     "execution_count": 48,
     "metadata": {},
     "output_type": "execute_result"
    }
   ],
   "source": [
    "df_f.shape"
   ]
  },
  {
   "cell_type": "code",
   "execution_count": 49,
   "id": "ffd8f9d0-84ad-4b32-9c2b-484f82ab36d2",
   "metadata": {},
   "outputs": [
    {
     "data": {
      "text/plain": [
       "(23970, 16)"
      ]
     },
     "execution_count": 49,
     "metadata": {},
     "output_type": "execute_result"
    }
   ],
   "source": [
    "df_c.shape"
   ]
  },
  {
   "cell_type": "code",
   "execution_count": 50,
   "id": "35e998c3-6c34-4fe6-9a6c-519a21f83d09",
   "metadata": {},
   "outputs": [
    {
     "data": {
      "text/plain": [
       "ID                     0\n",
       "CASH_REQUEST_ID        4\n",
       "TYPE                   0\n",
       "STATUS                 0\n",
       "CATEGORY           18865\n",
       "TOTAL_AMOUNT           0\n",
       "REASON                 0\n",
       "CREATED_AT             0\n",
       "UPDATED_AT             0\n",
       "PAID_AT             5530\n",
       "FROM_DATE          13295\n",
       "TO_DATE            13295\n",
       "CHARGE_MOMENT          0\n",
       "dtype: int64"
      ]
     },
     "execution_count": 50,
     "metadata": {},
     "output_type": "execute_result"
    }
   ],
   "source": [
    "df_f.isna().sum()"
   ]
  },
  {
   "cell_type": "code",
   "execution_count": 51,
   "id": "45777c22-66c9-4a2e-882d-70e737c21c90",
   "metadata": {},
   "outputs": [
    {
     "data": {
      "text/plain": [
       "Index(['ID', 'CASH_REQUEST_ID', 'TYPE', 'STATUS', 'CATEGORY', 'TOTAL_AMOUNT',\n",
       "       'REASON', 'CREATED_AT', 'UPDATED_AT', 'PAID_AT', 'FROM_DATE', 'TO_DATE',\n",
       "       'CHARGE_MOMENT'],\n",
       "      dtype='object')"
      ]
     },
     "execution_count": 51,
     "metadata": {},
     "output_type": "execute_result"
    }
   ],
   "source": [
    "df_f.columns"
   ]
  },
  {
   "cell_type": "code",
   "execution_count": 52,
   "id": "89d39466-6c18-4564-81ce-0a917885dc88",
   "metadata": {},
   "outputs": [
    {
     "data": {
      "text/plain": [
       "ID                 0\n",
       "CASH_REQUEST_ID    0\n",
       "TYPE               0\n",
       "STATUS             0\n",
       "CATEGORY           0\n",
       "TOTAL_AMOUNT       0\n",
       "REASON             0\n",
       "CREATED_AT         0\n",
       "UPDATED_AT         0\n",
       "PAID_AT            0\n",
       "FROM_DATE          0\n",
       "TO_DATE            0\n",
       "CHARGE_MOMENT      0\n",
       "dtype: int64"
      ]
     },
     "execution_count": 52,
     "metadata": {},
     "output_type": "execute_result"
    }
   ],
   "source": [
    "df_f.eq(\" \").sum()"
   ]
  },
  {
   "cell_type": "code",
   "execution_count": 53,
   "id": "871b4b69-4ff5-4a7f-ab83-587b049e6518",
   "metadata": {},
   "outputs": [
    {
     "data": {
      "text/plain": [
       "<bound method Series.unique of 0                          NaN\n",
       "1        rejected_direct_debit\n",
       "2                          NaN\n",
       "3                          NaN\n",
       "4                          NaN\n",
       "                 ...          \n",
       "21056                      NaN\n",
       "21057                      NaN\n",
       "21058                      NaN\n",
       "21059                      NaN\n",
       "21060                      NaN\n",
       "Name: CATEGORY, Length: 21061, dtype: object>"
      ]
     },
     "execution_count": 53,
     "metadata": {},
     "output_type": "execute_result"
    }
   ],
   "source": [
    "df_f.CATEGORY.unique"
   ]
  },
  {
   "cell_type": "code",
   "execution_count": 54,
   "id": "b18ef7cb-51f2-4a68-a39b-a840fd7bfd56",
   "metadata": {},
   "outputs": [
    {
     "data": {
      "text/plain": [
       "<bound method Series.unique of 0        NaN\n",
       "1        NaN\n",
       "2        NaN\n",
       "3        NaN\n",
       "4        NaN\n",
       "        ... \n",
       "21056    NaN\n",
       "21057    NaN\n",
       "21058    NaN\n",
       "21059    NaN\n",
       "21060    NaN\n",
       "Name: FROM_DATE, Length: 21061, dtype: object>"
      ]
     },
     "execution_count": 54,
     "metadata": {},
     "output_type": "execute_result"
    }
   ],
   "source": [
    "df_f.FROM_DATE.unique"
   ]
  },
  {
   "cell_type": "code",
   "execution_count": 55,
   "id": "ec92d2df-3a4e-4dfb-9fe3-39b63874de4c",
   "metadata": {},
   "outputs": [
    {
     "data": {
      "text/plain": [
       "<bound method Series.unique of 0        NaN\n",
       "1        NaN\n",
       "2        NaN\n",
       "3        NaN\n",
       "4        NaN\n",
       "        ... \n",
       "21056    NaN\n",
       "21057    NaN\n",
       "21058    NaN\n",
       "21059    NaN\n",
       "21060    NaN\n",
       "Name: TO_DATE, Length: 21061, dtype: object>"
      ]
     },
     "execution_count": 55,
     "metadata": {},
     "output_type": "execute_result"
    }
   ],
   "source": [
    "df_f.TO_DATE.unique"
   ]
  },
  {
   "cell_type": "code",
   "execution_count": 56,
   "id": "cfbad4df-2296-443d-a6b4-3cbfce55ff97",
   "metadata": {},
   "outputs": [
    {
     "data": {
      "text/plain": [
       "ID                    0\n",
       "CASH_REQUEST_ID       4\n",
       "TYPE                  0\n",
       "STATUS                0\n",
       "TOTAL_AMOUNT          0\n",
       "REASON                0\n",
       "CREATED_AT            0\n",
       "UPDATED_AT            0\n",
       "PAID_AT            5530\n",
       "CHARGE_MOMENT         0\n",
       "dtype: int64"
      ]
     },
     "execution_count": 56,
     "metadata": {},
     "output_type": "execute_result"
    }
   ],
   "source": [
    "df_f = df_f.drop(columns=[\"CATEGORY\", \"FROM_DATE\", \"TO_DATE\"])\n",
    "df_f.isna().sum()"
   ]
  },
  {
   "cell_type": "code",
   "execution_count": 57,
   "id": "634b176e-1505-4807-aed8-1594586422a3",
   "metadata": {},
   "outputs": [
    {
     "data": {
      "text/plain": [
       "Index(['ID', 'CASH_REQUEST_ID', 'TYPE', 'STATUS', 'TOTAL_AMOUNT', 'REASON',\n",
       "       'CREATED_AT', 'UPDATED_AT', 'PAID_AT', 'CHARGE_MOMENT'],\n",
       "      dtype='object')"
      ]
     },
     "execution_count": 57,
     "metadata": {},
     "output_type": "execute_result"
    }
   ],
   "source": [
    "df_f.columns"
   ]
  },
  {
   "cell_type": "code",
   "execution_count": 58,
   "id": "cabaac5e-7b10-43de-be6d-142fb6869d64",
   "metadata": {},
   "outputs": [
    {
     "data": {
      "text/plain": [
       "ID                                0\n",
       "AMOUNT                            0\n",
       "STATUS                            0\n",
       "CREATED_AT                        0\n",
       "UPDATED_AT                        0\n",
       "USER_ID                        2103\n",
       "MODERATED_AT                   7935\n",
       "DELETED_ACCOUNT_ID            21866\n",
       "REIMBURSEMENT_DATE                0\n",
       "CASH_REQUEST_RECEIVED_DATE     7681\n",
       "MONEY_BACK_DATE                7427\n",
       "TRANSFER_TYPE                     0\n",
       "SEND_AT                        7329\n",
       "RECOVERY_STATUS               20640\n",
       "RECO_CREATION                 20640\n",
       "RECO_LAST_UPDATE              20640\n",
       "dtype: int64"
      ]
     },
     "execution_count": 58,
     "metadata": {},
     "output_type": "execute_result"
    }
   ],
   "source": [
    "df_c.isna().sum()"
   ]
  },
  {
   "cell_type": "code",
   "execution_count": 60,
   "id": "49365f09-15d7-4ec6-b25c-1567532a6068",
   "metadata": {},
   "outputs": [
    {
     "data": {
      "text/plain": [
       "ID                   int64\n",
       "CASH_REQUEST_ID    float64\n",
       "TYPE                object\n",
       "STATUS              object\n",
       "TOTAL_AMOUNT       float64\n",
       "REASON              object\n",
       "CREATED_AT          object\n",
       "UPDATED_AT          object\n",
       "PAID_AT             object\n",
       "CHARGE_MOMENT       object\n",
       "dtype: object"
      ]
     },
     "execution_count": 60,
     "metadata": {},
     "output_type": "execute_result"
    }
   ],
   "source": [
    "df_f.dtypes"
   ]
  },
  {
   "cell_type": "code",
   "execution_count": 61,
   "id": "8a609ff8-ded6-4ea0-a656-be15b669e6ae",
   "metadata": {},
   "outputs": [
    {
     "data": {
      "text/html": [
       "<div>\n",
       "<style scoped>\n",
       "    .dataframe tbody tr th:only-of-type {\n",
       "        vertical-align: middle;\n",
       "    }\n",
       "\n",
       "    .dataframe tbody tr th {\n",
       "        vertical-align: top;\n",
       "    }\n",
       "\n",
       "    .dataframe thead th {\n",
       "        text-align: right;\n",
       "    }\n",
       "</style>\n",
       "<table border=\"1\" class=\"dataframe\">\n",
       "  <thead>\n",
       "    <tr style=\"text-align: right;\">\n",
       "      <th></th>\n",
       "      <th>ID</th>\n",
       "      <th>CASH_REQUEST_ID</th>\n",
       "      <th>TYPE</th>\n",
       "      <th>STATUS</th>\n",
       "      <th>TOTAL_AMOUNT</th>\n",
       "      <th>REASON</th>\n",
       "      <th>CREATED_AT</th>\n",
       "      <th>UPDATED_AT</th>\n",
       "      <th>PAID_AT</th>\n",
       "      <th>CHARGE_MOMENT</th>\n",
       "    </tr>\n",
       "  </thead>\n",
       "  <tbody>\n",
       "    <tr>\n",
       "      <th>0</th>\n",
       "      <td>6537</td>\n",
       "      <td>14941.0</td>\n",
       "      <td>instant_payment</td>\n",
       "      <td>rejected</td>\n",
       "      <td>5.0</td>\n",
       "      <td>Instant Payment Cash Request 14941</td>\n",
       "      <td>2020-09-07 10:47:27.42315+00</td>\n",
       "      <td>2020-10-13 14:25:09.396112+00</td>\n",
       "      <td>2020-12-17 14:50:07.47011+00</td>\n",
       "      <td>after</td>\n",
       "    </tr>\n",
       "    <tr>\n",
       "      <th>1</th>\n",
       "      <td>6961</td>\n",
       "      <td>11714.0</td>\n",
       "      <td>incident</td>\n",
       "      <td>accepted</td>\n",
       "      <td>5.0</td>\n",
       "      <td>rejected direct debit</td>\n",
       "      <td>2020-09-09 20:51:17.998653+00</td>\n",
       "      <td>2020-10-13 14:25:15.537063+00</td>\n",
       "      <td>2020-12-08 17:13:10.45908+00</td>\n",
       "      <td>after</td>\n",
       "    </tr>\n",
       "  </tbody>\n",
       "</table>\n",
       "</div>"
      ],
      "text/plain": [
       "     ID  CASH_REQUEST_ID             TYPE    STATUS  TOTAL_AMOUNT  \\\n",
       "0  6537          14941.0  instant_payment  rejected           5.0   \n",
       "1  6961          11714.0         incident  accepted           5.0   \n",
       "\n",
       "                               REASON                     CREATED_AT  \\\n",
       "0  Instant Payment Cash Request 14941   2020-09-07 10:47:27.42315+00   \n",
       "1               rejected direct debit  2020-09-09 20:51:17.998653+00   \n",
       "\n",
       "                      UPDATED_AT                       PAID_AT CHARGE_MOMENT  \n",
       "0  2020-10-13 14:25:09.396112+00  2020-12-17 14:50:07.47011+00         after  \n",
       "1  2020-10-13 14:25:15.537063+00  2020-12-08 17:13:10.45908+00         after  "
      ]
     },
     "execution_count": 61,
     "metadata": {},
     "output_type": "execute_result"
    }
   ],
   "source": [
    "df_f.head(2)"
   ]
  },
  {
   "cell_type": "code",
   "execution_count": 62,
   "id": "64cbccab-aa3e-4d87-a267-48704e97449d",
   "metadata": {},
   "outputs": [
    {
     "data": {
      "text/plain": [
       "ID                   int64\n",
       "CASH_REQUEST_ID    float64\n",
       "TYPE                object\n",
       "STATUS              object\n",
       "TOTAL_AMOUNT       float64\n",
       "REASON              object\n",
       "CREATED_AT          object\n",
       "UPDATED_AT          object\n",
       "PAID_AT             object\n",
       "CHARGE_MOMENT       object\n",
       "dtype: object"
      ]
     },
     "execution_count": 62,
     "metadata": {},
     "output_type": "execute_result"
    }
   ],
   "source": [
    "df_f.dtypes"
   ]
  },
  {
   "cell_type": "code",
   "execution_count": 63,
   "id": "fbb9e3ef-2956-4b66-b89d-65f93abd0411",
   "metadata": {},
   "outputs": [
    {
     "data": {
      "text/plain": [
       "ID                   int64\n",
       "CASH_REQUEST_ID    float64\n",
       "TYPE                object\n",
       "STATUS              object\n",
       "TOTAL_AMOUNT       float64\n",
       "REASON              object\n",
       "CREATED_AT          object\n",
       "UPDATED_AT          object\n",
       "PAID_AT             object\n",
       "CHARGE_MOMENT       object\n",
       "dtype: object"
      ]
     },
     "execution_count": 63,
     "metadata": {},
     "output_type": "execute_result"
    }
   ],
   "source": [
    "df_f.dtypes"
   ]
  },
  {
   "cell_type": "code",
   "execution_count": 65,
   "id": "92855cc1-8c8d-471d-8444-211b1883d7ac",
   "metadata": {},
   "outputs": [
    {
     "data": {
      "text/plain": [
       "Index(['ID', 'CASH_REQUEST_ID', 'TYPE', 'STATUS', 'TOTAL_AMOUNT', 'REASON',\n",
       "       'CREATED_AT', 'UPDATED_AT', 'PAID_AT', 'CHARGE_MOMENT'],\n",
       "      dtype='object')"
      ]
     },
     "execution_count": 65,
     "metadata": {},
     "output_type": "execute_result"
    }
   ],
   "source": [
    "df_f.columns"
   ]
  },
  {
   "cell_type": "code",
   "execution_count": 66,
   "id": "84565e1e-90ac-475c-999c-46ee51d983f4",
   "metadata": {},
   "outputs": [
    {
     "data": {
      "text/html": [
       "<div>\n",
       "<style scoped>\n",
       "    .dataframe tbody tr th:only-of-type {\n",
       "        vertical-align: middle;\n",
       "    }\n",
       "\n",
       "    .dataframe tbody tr th {\n",
       "        vertical-align: top;\n",
       "    }\n",
       "\n",
       "    .dataframe thead th {\n",
       "        text-align: right;\n",
       "    }\n",
       "</style>\n",
       "<table border=\"1\" class=\"dataframe\">\n",
       "  <thead>\n",
       "    <tr style=\"text-align: right;\">\n",
       "      <th></th>\n",
       "      <th>count</th>\n",
       "      <th>mean</th>\n",
       "      <th>std</th>\n",
       "      <th>min</th>\n",
       "      <th>25%</th>\n",
       "      <th>50%</th>\n",
       "      <th>75%</th>\n",
       "      <th>max</th>\n",
       "    </tr>\n",
       "  </thead>\n",
       "  <tbody>\n",
       "    <tr>\n",
       "      <th>ID</th>\n",
       "      <td>21061.0</td>\n",
       "      <td>10645.355111</td>\n",
       "      <td>6099.315256</td>\n",
       "      <td>1.0</td>\n",
       "      <td>5385.0</td>\n",
       "      <td>10652.0</td>\n",
       "      <td>15925.0</td>\n",
       "      <td>21193.0</td>\n",
       "    </tr>\n",
       "    <tr>\n",
       "      <th>CASH_REQUEST_ID</th>\n",
       "      <td>21057.0</td>\n",
       "      <td>16318.449162</td>\n",
       "      <td>6656.149949</td>\n",
       "      <td>1456.0</td>\n",
       "      <td>11745.0</td>\n",
       "      <td>17160.0</td>\n",
       "      <td>21796.0</td>\n",
       "      <td>27010.0</td>\n",
       "    </tr>\n",
       "    <tr>\n",
       "      <th>TOTAL_AMOUNT</th>\n",
       "      <td>21061.0</td>\n",
       "      <td>5.000237</td>\n",
       "      <td>0.034453</td>\n",
       "      <td>5.0</td>\n",
       "      <td>5.0</td>\n",
       "      <td>5.0</td>\n",
       "      <td>5.0</td>\n",
       "      <td>10.0</td>\n",
       "    </tr>\n",
       "  </tbody>\n",
       "</table>\n",
       "</div>"
      ],
      "text/plain": [
       "                   count          mean          std     min      25%      50%  \\\n",
       "ID               21061.0  10645.355111  6099.315256     1.0   5385.0  10652.0   \n",
       "CASH_REQUEST_ID  21057.0  16318.449162  6656.149949  1456.0  11745.0  17160.0   \n",
       "TOTAL_AMOUNT     21061.0      5.000237     0.034453     5.0      5.0      5.0   \n",
       "\n",
       "                     75%      max  \n",
       "ID               15925.0  21193.0  \n",
       "CASH_REQUEST_ID  21796.0  27010.0  \n",
       "TOTAL_AMOUNT         5.0     10.0  "
      ]
     },
     "execution_count": 66,
     "metadata": {},
     "output_type": "execute_result"
    }
   ],
   "source": [
    "df_f.describe().T"
   ]
  },
  {
   "cell_type": "code",
   "execution_count": 68,
   "id": "dee59ab8-cda8-4e98-9973-b082c71303df",
   "metadata": {},
   "outputs": [],
   "source": [
    "num = df_f.select_dtypes(include=\"number\")"
   ]
  },
  {
   "cell_type": "code",
   "execution_count": 69,
   "id": "fe794989-82f6-4ddd-b2c4-782f680691df",
   "metadata": {},
   "outputs": [],
   "source": [
    "cat = df_f.select_dtypes(exclude=\"number\")"
   ]
  },
  {
   "cell_type": "code",
   "execution_count": 132,
   "id": "fee869c5-2fce-43bf-a821-47550bb46107",
   "metadata": {},
   "outputs": [],
   "source": [
    "frequency_table = cat.STATUS.value_counts()\n",
    "proportion_table = cat.STATUS.value_counts(normalize=True).round(2)"
   ]
  },
  {
   "cell_type": "code",
   "execution_count": 130,
   "id": "f7068c0d-ba12-4bf5-9286-ea921bc1da17",
   "metadata": {},
   "outputs": [
    {
     "data": {
      "text/html": [
       "<div>\n",
       "<style scoped>\n",
       "    .dataframe tbody tr th:only-of-type {\n",
       "        vertical-align: middle;\n",
       "    }\n",
       "\n",
       "    .dataframe tbody tr th {\n",
       "        vertical-align: top;\n",
       "    }\n",
       "\n",
       "    .dataframe thead th {\n",
       "        text-align: right;\n",
       "    }\n",
       "</style>\n",
       "<table border=\"1\" class=\"dataframe\">\n",
       "  <thead>\n",
       "    <tr style=\"text-align: right;\">\n",
       "      <th></th>\n",
       "      <th>absolute_frequency</th>\n",
       "      <th>relative_frequency</th>\n",
       "    </tr>\n",
       "    <tr>\n",
       "      <th>STATUS</th>\n",
       "      <th></th>\n",
       "      <th></th>\n",
       "    </tr>\n",
       "  </thead>\n",
       "  <tbody>\n",
       "    <tr>\n",
       "      <th>accepted</th>\n",
       "      <td>14841</td>\n",
       "      <td>0.70</td>\n",
       "    </tr>\n",
       "    <tr>\n",
       "      <th>cancelled</th>\n",
       "      <td>4938</td>\n",
       "      <td>0.23</td>\n",
       "    </tr>\n",
       "    <tr>\n",
       "      <th>rejected</th>\n",
       "      <td>1194</td>\n",
       "      <td>0.06</td>\n",
       "    </tr>\n",
       "    <tr>\n",
       "      <th>confirmed</th>\n",
       "      <td>88</td>\n",
       "      <td>0.00</td>\n",
       "    </tr>\n",
       "  </tbody>\n",
       "</table>\n",
       "</div>"
      ],
      "text/plain": [
       "           absolute_frequency  relative_frequency\n",
       "STATUS                                           \n",
       "accepted                14841                0.70\n",
       "cancelled                4938                0.23\n",
       "rejected                 1194                0.06\n",
       "confirmed                  88                0.00"
      ]
     },
     "execution_count": 130,
     "metadata": {},
     "output_type": "execute_result"
    }
   ],
   "source": [
    "df10 = pd.concat([frequency_table, proportion_table], axis=1)\n",
    "df10.columns = ['absolute_frequency', 'relative_frequency']\n",
    "df10"
   ]
  },
  {
   "cell_type": "code",
   "execution_count": 82,
   "id": "8944970b-f9ea-4ea4-b404-cf33a5143ad0",
   "metadata": {},
   "outputs": [],
   "source": [
    "total_absolute = int(frequency_table.sum())\n",
    "total_relative = int(proportion_table.sum())"
   ]
  },
  {
   "cell_type": "code",
   "execution_count": 84,
   "id": "29f5ac2f-d810-414e-bc0a-9ad999e83e32",
   "metadata": {},
   "outputs": [
    {
     "data": {
      "text/plain": [
       "21061"
      ]
     },
     "execution_count": 84,
     "metadata": {},
     "output_type": "execute_result"
    }
   ],
   "source": [
    "frequency_table.sum()"
   ]
  },
  {
   "cell_type": "code",
   "execution_count": 86,
   "id": "be734e8e-e4f2-489b-ab37-a33dac47faf0",
   "metadata": {},
   "outputs": [
    {
     "data": {
      "text/html": [
       "<div>\n",
       "<style scoped>\n",
       "    .dataframe tbody tr th:only-of-type {\n",
       "        vertical-align: middle;\n",
       "    }\n",
       "\n",
       "    .dataframe tbody tr th {\n",
       "        vertical-align: top;\n",
       "    }\n",
       "\n",
       "    .dataframe thead th {\n",
       "        text-align: right;\n",
       "    }\n",
       "</style>\n",
       "<table border=\"1\" class=\"dataframe\">\n",
       "  <thead>\n",
       "    <tr style=\"text-align: right;\">\n",
       "      <th></th>\n",
       "      <th>absolute_frequency</th>\n",
       "      <th>relative_frequency</th>\n",
       "    </tr>\n",
       "  </thead>\n",
       "  <tbody>\n",
       "    <tr>\n",
       "      <th>Total</th>\n",
       "      <td>21061</td>\n",
       "      <td>0</td>\n",
       "    </tr>\n",
       "  </tbody>\n",
       "</table>\n",
       "</div>"
      ],
      "text/plain": [
       "       absolute_frequency  relative_frequency\n",
       "Total               21061                   0"
      ]
     },
     "execution_count": 86,
     "metadata": {},
     "output_type": "execute_result"
    }
   ],
   "source": [
    "total_row = pd.DataFrame({\n",
    "    'absolute_frequency': [total_absolute],\n",
    "    'relative_frequency': [total_relative]\n",
    "}, index=['Total'])\n",
    "total_row"
   ]
  },
  {
   "cell_type": "code",
   "execution_count": 138,
   "id": "f0678c4f-daef-42a0-958d-0809d7c70a5f",
   "metadata": {},
   "outputs": [
    {
     "data": {
      "text/html": [
       "<div>\n",
       "<style scoped>\n",
       "    .dataframe tbody tr th:only-of-type {\n",
       "        vertical-align: middle;\n",
       "    }\n",
       "\n",
       "    .dataframe tbody tr th {\n",
       "        vertical-align: top;\n",
       "    }\n",
       "\n",
       "    .dataframe thead th {\n",
       "        text-align: right;\n",
       "    }\n",
       "</style>\n",
       "<table border=\"1\" class=\"dataframe\">\n",
       "  <thead>\n",
       "    <tr style=\"text-align: right;\">\n",
       "      <th></th>\n",
       "      <th>absolute_frequency</th>\n",
       "      <th>relative_frequency</th>\n",
       "    </tr>\n",
       "  </thead>\n",
       "  <tbody>\n",
       "    <tr>\n",
       "      <th>accepted</th>\n",
       "      <td>14841</td>\n",
       "      <td>0.70</td>\n",
       "    </tr>\n",
       "    <tr>\n",
       "      <th>cancelled</th>\n",
       "      <td>4938</td>\n",
       "      <td>0.23</td>\n",
       "    </tr>\n",
       "    <tr>\n",
       "      <th>rejected</th>\n",
       "      <td>1194</td>\n",
       "      <td>0.06</td>\n",
       "    </tr>\n",
       "    <tr>\n",
       "      <th>confirmed</th>\n",
       "      <td>88</td>\n",
       "      <td>0.00</td>\n",
       "    </tr>\n",
       "    <tr>\n",
       "      <th>Total</th>\n",
       "      <td>21061</td>\n",
       "      <td>0.00</td>\n",
       "    </tr>\n",
       "  </tbody>\n",
       "</table>\n",
       "</div>"
      ],
      "text/plain": [
       "           absolute_frequency  relative_frequency\n",
       "accepted                14841                0.70\n",
       "cancelled                4938                0.23\n",
       "rejected                 1194                0.06\n",
       "confirmed                  88                0.00\n",
       "Total                   21061                0.00"
      ]
     },
     "execution_count": 138,
     "metadata": {},
     "output_type": "execute_result"
    }
   ],
   "source": [
    "df3 = pd.concat([df10,total_row])\n",
    "df3"
   ]
  },
  {
   "cell_type": "code",
   "execution_count": 92,
   "id": "590eee1f-04a9-4b03-9ff5-ff95a8489934",
   "metadata": {},
   "outputs": [
    {
     "data": {
      "text/html": [
       "<div>\n",
       "<style scoped>\n",
       "    .dataframe tbody tr th:only-of-type {\n",
       "        vertical-align: middle;\n",
       "    }\n",
       "\n",
       "    .dataframe tbody tr th {\n",
       "        vertical-align: top;\n",
       "    }\n",
       "\n",
       "    .dataframe thead th {\n",
       "        text-align: right;\n",
       "    }\n",
       "</style>\n",
       "<table border=\"1\" class=\"dataframe\">\n",
       "  <thead>\n",
       "    <tr style=\"text-align: right;\">\n",
       "      <th>col_0</th>\n",
       "      <th>count</th>\n",
       "    </tr>\n",
       "    <tr>\n",
       "      <th>STATUS</th>\n",
       "      <th></th>\n",
       "    </tr>\n",
       "  </thead>\n",
       "  <tbody>\n",
       "    <tr>\n",
       "      <th>accepted</th>\n",
       "      <td>14841</td>\n",
       "    </tr>\n",
       "    <tr>\n",
       "      <th>cancelled</th>\n",
       "      <td>4938</td>\n",
       "    </tr>\n",
       "    <tr>\n",
       "      <th>confirmed</th>\n",
       "      <td>88</td>\n",
       "    </tr>\n",
       "    <tr>\n",
       "      <th>rejected</th>\n",
       "      <td>1194</td>\n",
       "    </tr>\n",
       "  </tbody>\n",
       "</table>\n",
       "</div>"
      ],
      "text/plain": [
       "col_0      count\n",
       "STATUS          \n",
       "accepted   14841\n",
       "cancelled   4938\n",
       "confirmed     88\n",
       "rejected    1194"
      ]
     },
     "execution_count": 92,
     "metadata": {},
     "output_type": "execute_result"
    }
   ],
   "source": [
    "pd.crosstab(index=cat.STATUS,\n",
    "           columns='count')    # confirming Counts of D3 == SATUS"
   ]
  },
  {
   "cell_type": "code",
   "execution_count": 146,
   "id": "6fb58b1f-089d-49ed-890a-f95bedc05526",
   "metadata": {},
   "outputs": [],
   "source": [
    "df3 = df3.reset_index()  # STATUS"
   ]
  },
  {
   "cell_type": "code",
   "execution_count": 148,
   "id": "a0c01b4a-fbe3-4e47-8e7d-5d72b43c2b6c",
   "metadata": {},
   "outputs": [
    {
     "data": {
      "text/html": [
       "<div>\n",
       "<style scoped>\n",
       "    .dataframe tbody tr th:only-of-type {\n",
       "        vertical-align: middle;\n",
       "    }\n",
       "\n",
       "    .dataframe tbody tr th {\n",
       "        vertical-align: top;\n",
       "    }\n",
       "\n",
       "    .dataframe thead th {\n",
       "        text-align: right;\n",
       "    }\n",
       "</style>\n",
       "<table border=\"1\" class=\"dataframe\">\n",
       "  <thead>\n",
       "    <tr style=\"text-align: right;\">\n",
       "      <th></th>\n",
       "      <th>index</th>\n",
       "      <th>absolute_frequency</th>\n",
       "      <th>relative_frequency</th>\n",
       "    </tr>\n",
       "  </thead>\n",
       "  <tbody>\n",
       "    <tr>\n",
       "      <th>0</th>\n",
       "      <td>accepted</td>\n",
       "      <td>14841</td>\n",
       "      <td>0.70</td>\n",
       "    </tr>\n",
       "    <tr>\n",
       "      <th>1</th>\n",
       "      <td>cancelled</td>\n",
       "      <td>4938</td>\n",
       "      <td>0.23</td>\n",
       "    </tr>\n",
       "    <tr>\n",
       "      <th>2</th>\n",
       "      <td>rejected</td>\n",
       "      <td>1194</td>\n",
       "      <td>0.06</td>\n",
       "    </tr>\n",
       "    <tr>\n",
       "      <th>3</th>\n",
       "      <td>confirmed</td>\n",
       "      <td>88</td>\n",
       "      <td>0.00</td>\n",
       "    </tr>\n",
       "    <tr>\n",
       "      <th>4</th>\n",
       "      <td>Total</td>\n",
       "      <td>21061</td>\n",
       "      <td>0.00</td>\n",
       "    </tr>\n",
       "  </tbody>\n",
       "</table>\n",
       "</div>"
      ],
      "text/plain": [
       "       index  absolute_frequency  relative_frequency\n",
       "0   accepted               14841                0.70\n",
       "1  cancelled                4938                0.23\n",
       "2   rejected                1194                0.06\n",
       "3  confirmed                  88                0.00\n",
       "4      Total               21061                0.00"
      ]
     },
     "execution_count": 148,
     "metadata": {},
     "output_type": "execute_result"
    }
   ],
   "source": [
    "df3"
   ]
  },
  {
   "cell_type": "code",
   "execution_count": 162,
   "id": "4e3b058d-b77a-48ed-8532-2021083b140e",
   "metadata": {},
   "outputs": [
    {
     "data": {
      "image/png": "[encoded data removed]",
      "text/plain": [
       "<Figure size 640x480 with 1 Axes>"
      ]
     },
     "metadata": {},
     "output_type": "display_data"
    }
   ],
   "source": [
    "sns.barplot(\n",
    "    x=\"STATUS\",\n",
    "    hue='STATUS',\n",
    "    y='absolute_frequency',\n",
    "    data=df10,\n",
    "    palette='viridis',\n",
    "    legend=True,\n",
    ")\n",
    "plt.show() # Use df10 without the total, once is worst for visualization"
   ]
  },
  {
   "cell_type": "code",
   "execution_count": 166,
   "id": "1fdfcfad-a1a8-4b98-9448-28ceca7068ae",
   "metadata": {},
   "outputs": [],
   "source": [
    "#  ** Measures of Centrality **\n"
   ]
  },
  {
   "cell_type": "code",
   "execution_count": 172,
   "id": "0231e16e-9230-437c-94e7-f925edc658c1",
   "metadata": {},
   "outputs": [
    {
     "data": {
      "text/html": [
       "<div>\n",
       "<style scoped>\n",
       "    .dataframe tbody tr th:only-of-type {\n",
       "        vertical-align: middle;\n",
       "    }\n",
       "\n",
       "    .dataframe tbody tr th {\n",
       "        vertical-align: top;\n",
       "    }\n",
       "\n",
       "    .dataframe thead th {\n",
       "        text-align: right;\n",
       "    }\n",
       "</style>\n",
       "<table border=\"1\" class=\"dataframe\">\n",
       "  <thead>\n",
       "    <tr style=\"text-align: right;\">\n",
       "      <th></th>\n",
       "      <th>count</th>\n",
       "      <th>mean</th>\n",
       "      <th>std</th>\n",
       "      <th>min</th>\n",
       "      <th>25%</th>\n",
       "      <th>50%</th>\n",
       "      <th>75%</th>\n",
       "      <th>max</th>\n",
       "    </tr>\n",
       "  </thead>\n",
       "  <tbody>\n",
       "    <tr>\n",
       "      <th>ID</th>\n",
       "      <td>21061.0</td>\n",
       "      <td>10645.355111</td>\n",
       "      <td>6099.315256</td>\n",
       "      <td>1.0</td>\n",
       "      <td>5385.0</td>\n",
       "      <td>10652.0</td>\n",
       "      <td>15925.0</td>\n",
       "      <td>21193.0</td>\n",
       "    </tr>\n",
       "    <tr>\n",
       "      <th>CASH_REQUEST_ID</th>\n",
       "      <td>21057.0</td>\n",
       "      <td>16318.449162</td>\n",
       "      <td>6656.149949</td>\n",
       "      <td>1456.0</td>\n",
       "      <td>11745.0</td>\n",
       "      <td>17160.0</td>\n",
       "      <td>21796.0</td>\n",
       "      <td>27010.0</td>\n",
       "    </tr>\n",
       "    <tr>\n",
       "      <th>TOTAL_AMOUNT</th>\n",
       "      <td>21061.0</td>\n",
       "      <td>5.000237</td>\n",
       "      <td>0.034453</td>\n",
       "      <td>5.0</td>\n",
       "      <td>5.0</td>\n",
       "      <td>5.0</td>\n",
       "      <td>5.0</td>\n",
       "      <td>10.0</td>\n",
       "    </tr>\n",
       "  </tbody>\n",
       "</table>\n",
       "</div>"
      ],
      "text/plain": [
       "                   count          mean          std     min      25%      50%  \\\n",
       "ID               21061.0  10645.355111  6099.315256     1.0   5385.0  10652.0   \n",
       "CASH_REQUEST_ID  21057.0  16318.449162  6656.149949  1456.0  11745.0  17160.0   \n",
       "TOTAL_AMOUNT     21061.0      5.000237     0.034453     5.0      5.0      5.0   \n",
       "\n",
       "                     75%      max  \n",
       "ID               15925.0  21193.0  \n",
       "CASH_REQUEST_ID  21796.0  27010.0  \n",
       "TOTAL_AMOUNT         5.0     10.0  "
      ]
     },
     "execution_count": 172,
     "metadata": {},
     "output_type": "execute_result"
    }
   ],
   "source": [
    "num.describe().T"
   ]
  },
  {
   "cell_type": "code",
   "execution_count": 200,
   "id": "26dc1399-a172-43af-9912-776537bc880f",
   "metadata": {},
   "outputs": [
    {
     "data": {
      "text/plain": [
       "(16318, 2)"
      ]
     },
     "execution_count": 200,
     "metadata": {},
     "output_type": "execute_result"
    }
   ],
   "source": [
    "round(num[\"CASH_REQUEST_ID\"].mean()), 2 # Mean"
   ]
  },
  {
   "cell_type": "code",
   "execution_count": 198,
   "id": "5f466e65-9b34-4006-b7c7-6b12335a2bf2",
   "metadata": {},
   "outputs": [
    {
     "data": {
      "text/plain": [
       "17160.0"
      ]
     },
     "execution_count": 198,
     "metadata": {},
     "output_type": "execute_result"
    }
   ],
   "source": [
    "round((num[\"CASH_REQUEST_ID\"].median()), 2) # Median"
   ]
  },
  {
   "cell_type": "code",
   "execution_count": 196,
   "id": "536cb8cf-9424-4d07-99ed-16ef3f2fbfa5",
   "metadata": {},
   "outputs": [
    {
     "data": {
      "text/plain": [
       "6656.15"
      ]
     },
     "execution_count": 196,
     "metadata": {},
     "output_type": "execute_result"
    }
   ],
   "source": [
    "round((num[\"CASH_REQUEST_ID\"].std()), 2) # Standard Variation "
   ]
  },
  {
   "cell_type": "code",
   "execution_count": 192,
   "id": "88aa1d7d-460d-44fb-a3da-80dbca3fe8c0",
   "metadata": {},
   "outputs": [
    {
     "data": {
      "text/plain": [
       "44304332.14"
      ]
     },
     "execution_count": 192,
     "metadata": {},
     "output_type": "execute_result"
    }
   ],
   "source": [
    "round((num[\"CASH_REQUEST_ID\"].var()), 2) #  Variance "
   ]
  },
  {
   "cell_type": "code",
   "execution_count": 202,
   "id": "73f733bc-7fb6-4435-93a9-5536f63bf165",
   "metadata": {},
   "outputs": [
    {
     "data": {
      "text/plain": [
       "-0.4"
      ]
     },
     "execution_count": 202,
     "metadata": {},
     "output_type": "execute_result"
    }
   ],
   "source": [
    "round((num[\"CASH_REQUEST_ID\"].skew()), 2) # Is negative Skewed (longer tail to the left side) "
   ]
  },
  {
   "cell_type": "code",
   "execution_count": 206,
   "id": "6fe5a27c-beff-4274-a847-af181c69087f",
   "metadata": {},
   "outputs": [
    {
     "data": {
      "text/plain": [
       "-0.78"
      ]
     },
     "execution_count": 206,
     "metadata": {},
     "output_type": "execute_result"
    }
   ],
   "source": [
    "round((num[\"CASH_REQUEST_ID\"].kurtosis()), 2) # Thinner tails, flatter peak (platykurtic)"
   ]
  }
 ],
 "metadata": {
  "kernelspec": {
   "display_name": "Python 3 (ipykernel)",
   "language": "python",
   "name": "python3"
  },
  "language_info": {
   "codemirror_mode": {
    "name": "ipython",
    "version": 3
   },
   "file_extension": ".py",
   "mimetype": "text/x-python",
   "name": "python",
   "nbconvert_exporter": "python",
   "pygments_lexer": "ipython3",
   "version": "3.12.4"
  }
 },
 "nbformat": 4,
 "nbformat_minor": 5
}
