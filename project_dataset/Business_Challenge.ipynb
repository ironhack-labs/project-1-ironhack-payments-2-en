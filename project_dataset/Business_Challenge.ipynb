{
 "cells": [
  {
   "cell_type": "markdown",
   "id": "df091add-70ef-4f4d-ab91-9cd35a651519",
   "metadata": {},
   "source": [
    "# Business Challenge: Cohort Analysis for Ironhack Payments (Project 1)\n",
    "\n",
    "## Introduction\n",
    "\n",
    "IronHack Payments, a forward-thinking financial services company, has been offering innovative cash advance solutions since its inception in 2020. With a commitment to providing money advancements for free and transparent pricing, IronHack Payments has garnered a substantial user base. As part of their continuous effort to enhance their services and understand user behavior, IronHack Payments has commissioned a cohort analysis project.\n",
    "\n",
    "## Project Overview\n",
    "\n",
    "In this project, you will conduct a comprehensive cohort analysis based on data provided by IronHack Payments. **The main objective is to analyze user cohorts defined by the month of creation of their first cash advance.** You will track the monthly evolution of key metrics for these cohorts, enabling IronHack Payments to gain valuable insights into user behavior and the performance of their financial services.\n"
   ]
  },
  {
   "cell_type": "code",
   "execution_count": 1,
   "id": "0b9bdb79",
   "metadata": {},
   "outputs": [],
   "source": [
    "import pandas as pd\n",
    "import matplotlib.pyplot as plt\n",
    "import seaborn as sns\n",
    "import numpy as np\n",
    "\n",
    "%matplotlib inline\n",
    "pd.set_option('display.max_columns', None)"
   ]
  },
  {
   "cell_type": "code",
   "execution_count": 2,
   "id": "24e82eb1-9b43-44a9-9cbf-83a11f37d57c",
   "metadata": {},
   "outputs": [],
   "source": [
    "data_cash = pd.read_csv(\"extract - cash request - data analyst.csv\")\n",
    "data_fees = pd.read_csv(\"extract - fees - data analyst - .csv\")\n",
    "\n",
    "df_cash = data_cash.copy()\n",
    "df_fees = data_fees.copy()"
   ]
  },
  {
   "cell_type": "code",
   "execution_count": 3,
   "id": "28cb98aa-363f-404d-a33f-09b0bca24167",
   "metadata": {},
   "outputs": [
    {
     "name": "stdout",
     "output_type": "stream",
     "text": [
      "Index(['id', 'amount', 'status', 'created_at', 'updated_at', 'user_id',\n",
      "       'moderated_at', 'deleted_account_id', 'reimbursement_date',\n",
      "       'cash_request_received_date', 'money_back_date', 'transfer_type',\n",
      "       'send_at', 'recovery_status', 'reco_creation', 'reco_last_update'],\n",
      "      dtype='object')\n",
      "Index(['id', 'cash_request_id', 'type', 'status', 'category', 'total_amount',\n",
      "       'reason', 'created_at', 'updated_at', 'paid_at', 'from_date', 'to_date',\n",
      "       'charge_moment'],\n",
      "      dtype='object')\n"
     ]
    }
   ],
   "source": [
    "print(df_cash.columns)\n",
    "print(df_fees.columns)"
   ]
  },
  {
   "cell_type": "code",
   "execution_count": 4,
   "id": "eb3c3e1f-ac8e-4b4b-8c25-cd363fdafb81",
   "metadata": {},
   "outputs": [
    {
     "name": "stdout",
     "output_type": "stream",
     "text": [
      "df_cash shape is (23970, 16)\n",
      "df_fees shape is (21061, 13)\n"
     ]
    }
   ],
   "source": [
    "len(df_cash)\n",
    "len(df_fees)\n",
    "print(f\"df_cash shape is {df_cash.shape}\")\n",
    "print(f\"df_fees shape is {df_fees.shape}\")"
   ]
  },
  {
   "cell_type": "code",
   "execution_count": 5,
   "id": "0f45c48e-71f5-4963-9c6b-ae5ba15d2aa9",
   "metadata": {},
   "outputs": [],
   "source": [
    "df_cash_row = df_cash.shape[0]\n",
    "df_cash_col = df_cash.shape[1]\n",
    "df_fees_row = df_fees.shape[0]\n",
    "df_fees_col = df_fees.shape[1]"
   ]
  },
  {
   "cell_type": "markdown",
   "id": "42507017",
   "metadata": {},
   "source": [
    "### Merging and cleaning the data"
   ]
  },
  {
   "cell_type": "code",
   "execution_count": 6,
   "id": "b5a087e6-a61c-4c1e-b277-b0df9db190d7",
   "metadata": {},
   "outputs": [
    {
     "data": {
      "text/html": [
       "<div>\n",
       "<style scoped>\n",
       "    .dataframe tbody tr th:only-of-type {\n",
       "        vertical-align: middle;\n",
       "    }\n",
       "\n",
       "    .dataframe tbody tr th {\n",
       "        vertical-align: top;\n",
       "    }\n",
       "\n",
       "    .dataframe thead th {\n",
       "        text-align: right;\n",
       "    }\n",
       "</style>\n",
       "<table border=\"1\" class=\"dataframe\">\n",
       "  <thead>\n",
       "    <tr style=\"text-align: right;\">\n",
       "      <th></th>\n",
       "      <th>id</th>\n",
       "      <th>cash_request_id</th>\n",
       "      <th>type</th>\n",
       "      <th>status</th>\n",
       "      <th>category</th>\n",
       "      <th>total_amount</th>\n",
       "      <th>reason</th>\n",
       "      <th>created_at</th>\n",
       "      <th>updated_at</th>\n",
       "      <th>paid_at</th>\n",
       "      <th>from_date</th>\n",
       "      <th>to_date</th>\n",
       "      <th>charge_moment</th>\n",
       "    </tr>\n",
       "  </thead>\n",
       "  <tbody>\n",
       "    <tr>\n",
       "      <th>0</th>\n",
       "      <td>6537</td>\n",
       "      <td>14941.0</td>\n",
       "      <td>instant_payment</td>\n",
       "      <td>rejected</td>\n",
       "      <td>NaN</td>\n",
       "      <td>5.0</td>\n",
       "      <td>Instant Payment Cash Request 14941</td>\n",
       "      <td>2020-09-07 10:47:27.42315+00</td>\n",
       "      <td>2020-10-13 14:25:09.396112+00</td>\n",
       "      <td>2020-12-17 14:50:07.47011+00</td>\n",
       "      <td>NaN</td>\n",
       "      <td>NaN</td>\n",
       "      <td>after</td>\n",
       "    </tr>\n",
       "    <tr>\n",
       "      <th>1</th>\n",
       "      <td>6961</td>\n",
       "      <td>11714.0</td>\n",
       "      <td>incident</td>\n",
       "      <td>accepted</td>\n",
       "      <td>rejected_direct_debit</td>\n",
       "      <td>5.0</td>\n",
       "      <td>rejected direct debit</td>\n",
       "      <td>2020-09-09 20:51:17.998653+00</td>\n",
       "      <td>2020-10-13 14:25:15.537063+00</td>\n",
       "      <td>2020-12-08 17:13:10.45908+00</td>\n",
       "      <td>NaN</td>\n",
       "      <td>NaN</td>\n",
       "      <td>after</td>\n",
       "    </tr>\n",
       "    <tr>\n",
       "      <th>2</th>\n",
       "      <td>16296</td>\n",
       "      <td>23371.0</td>\n",
       "      <td>instant_payment</td>\n",
       "      <td>accepted</td>\n",
       "      <td>NaN</td>\n",
       "      <td>5.0</td>\n",
       "      <td>Instant Payment Cash Request 23371</td>\n",
       "      <td>2020-10-23 10:10:58.352972+00</td>\n",
       "      <td>2020-10-23 10:10:58.352994+00</td>\n",
       "      <td>2020-11-04 19:34:37.43291+00</td>\n",
       "      <td>NaN</td>\n",
       "      <td>NaN</td>\n",
       "      <td>after</td>\n",
       "    </tr>\n",
       "  </tbody>\n",
       "</table>\n",
       "</div>"
      ],
      "text/plain": [
       "      id  cash_request_id             type    status               category  \\\n",
       "0   6537          14941.0  instant_payment  rejected                    NaN   \n",
       "1   6961          11714.0         incident  accepted  rejected_direct_debit   \n",
       "2  16296          23371.0  instant_payment  accepted                    NaN   \n",
       "\n",
       "   total_amount                              reason  \\\n",
       "0           5.0  Instant Payment Cash Request 14941   \n",
       "1           5.0               rejected direct debit   \n",
       "2           5.0  Instant Payment Cash Request 23371   \n",
       "\n",
       "                      created_at                     updated_at  \\\n",
       "0   2020-09-07 10:47:27.42315+00  2020-10-13 14:25:09.396112+00   \n",
       "1  2020-09-09 20:51:17.998653+00  2020-10-13 14:25:15.537063+00   \n",
       "2  2020-10-23 10:10:58.352972+00  2020-10-23 10:10:58.352994+00   \n",
       "\n",
       "                        paid_at from_date to_date charge_moment  \n",
       "0  2020-12-17 14:50:07.47011+00       NaN     NaN         after  \n",
       "1  2020-12-08 17:13:10.45908+00       NaN     NaN         after  \n",
       "2  2020-11-04 19:34:37.43291+00       NaN     NaN         after  "
      ]
     },
     "execution_count": 6,
     "metadata": {},
     "output_type": "execute_result"
    }
   ],
   "source": [
    "df_fees.head(3)"
   ]
  },
  {
   "cell_type": "code",
   "execution_count": 7,
   "id": "2bf822df",
   "metadata": {},
   "outputs": [
    {
     "data": {
      "text/plain": [
       "type             status   \n",
       "instant_payment  accepted     10296\n",
       "postpone         cancelled     4780\n",
       "                 accepted      2985\n",
       "incident         accepted      1560\n",
       "instant_payment  rejected       673\n",
       "incident         rejected       520\n",
       "                 cancelled       97\n",
       "instant_payment  confirmed       69\n",
       "                 cancelled       61\n",
       "incident         confirmed       19\n",
       "postpone         rejected         1\n",
       "Name: count, dtype: int64"
      ]
     },
     "execution_count": 7,
     "metadata": {},
     "output_type": "execute_result"
    }
   ],
   "source": [
    "#df_fees.type.value_counts()\n",
    "df_fees[['type', 'status']].value_counts()"
   ]
  },
  {
   "cell_type": "code",
   "execution_count": 8,
   "id": "9e41ea1b-2686-4960-8e23-ad204e31cb7b",
   "metadata": {},
   "outputs": [],
   "source": [
    "df_fees_cash = df_fees.merge(df_cash, left_on= \"cash_request_id\", right_on=\"id\" , how='inner')"
   ]
  },
  {
   "cell_type": "code",
   "execution_count": 9,
   "id": "35c167d0",
   "metadata": {},
   "outputs": [
    {
     "name": "stdout",
     "output_type": "stream",
     "text": [
      "Index(['id_x', 'cash_request_id', 'type', 'status_x', 'category',\n",
      "       'total_amount', 'reason', 'created_at_x', 'updated_at_x', 'paid_at',\n",
      "       'from_date', 'to_date', 'charge_moment', 'id_y', 'amount', 'status_y',\n",
      "       'created_at_y', 'updated_at_y', 'user_id', 'moderated_at',\n",
      "       'deleted_account_id', 'reimbursement_date',\n",
      "       'cash_request_received_date', 'money_back_date', 'transfer_type',\n",
      "       'send_at', 'recovery_status', 'reco_creation', 'reco_last_update'],\n",
      "      dtype='object')\n"
     ]
    }
   ],
   "source": [
    "df_fees_cash_row = df_fees_cash.shape[0]\n",
    "df_fees_cash_col = df_fees_cash.shape[1]\n",
    "print(df_fees_cash.columns)"
   ]
  },
  {
   "cell_type": "code",
   "execution_count": 10,
   "id": "fa7ddcf4",
   "metadata": {},
   "outputs": [],
   "source": [
    "# convert object to date\n",
    "date_columns = ['created_at_x', 'updated_at_x', 'paid_at', 'from_date', 'to_date', 'created_at_y', 'updated_at_y', 'moderated_at', 'cash_request_received_date', 'money_back_date', 'reco_creation', 'reco_last_update']\n",
    "\n",
    "for column in date_columns:\n",
    "    if column in df_fees_cash.columns:  \n",
    "        df_fees_cash[column] = pd.to_datetime(df_fees_cash[column], errors='coerce').dt.date"
   ]
  },
  {
   "cell_type": "code",
   "execution_count": 11,
   "id": "8e8d7852",
   "metadata": {},
   "outputs": [
    {
     "data": {
      "text/plain": [
       "type      status_x   created_at_y\n",
       "postpone  cancelled  2020-08-10      111\n",
       "                     2020-10-23       99\n",
       "                     2020-07-15       90\n",
       "                     2020-10-08       87\n",
       "                     2020-08-12       85\n",
       "                                    ... \n",
       "          accepted   2020-05-22        1\n",
       "                     2020-05-21        1\n",
       "                     2020-05-16        1\n",
       "                     2020-05-09        1\n",
       "          rejected   2020-06-10        1\n",
       "Name: count, Length: 346, dtype: int64"
      ]
     },
     "execution_count": 11,
     "metadata": {},
     "output_type": "execute_result"
    }
   ],
   "source": [
    "df_fees_cash[df_fees_cash['type'] == \"postpone\"][['type', 'status_x', 'created_at_y']].value_counts()"
   ]
  },
  {
   "cell_type": "markdown",
   "id": "75080583",
   "metadata": {},
   "source": [
    "#### Null values"
   ]
  },
  {
   "cell_type": "code",
   "execution_count": 12,
   "id": "4f3610f9",
   "metadata": {},
   "outputs": [
    {
     "data": {
      "text/plain": [
       "deleted_account_id            20151\n",
       "category                      18861\n",
       "money_back_date               16114\n",
       "to_date                       14545\n",
       "from_date                     14308\n",
       "reco_last_update              14163\n",
       "reco_creation                 14163\n",
       "recovery_status               14163\n",
       "moderated_at                   9942\n",
       "paid_at                        5619\n",
       "send_at                        3487\n",
       "cash_request_received_date     1294\n",
       "user_id                         906\n",
       "updated_at_y                      0\n",
       "transfer_type                     0\n",
       "reimbursement_date                0\n",
       "id_x                              0\n",
       "created_at_y                      0\n",
       "status_y                          0\n",
       "cash_request_id                   0\n",
       "id_y                              0\n",
       "charge_moment                     0\n",
       "updated_at_x                      0\n",
       "created_at_x                      0\n",
       "reason                            0\n",
       "total_amount                      0\n",
       "status_x                          0\n",
       "type                              0\n",
       "amount                            0\n",
       "dtype: int64"
      ]
     },
     "execution_count": 12,
     "metadata": {},
     "output_type": "execute_result"
    }
   ],
   "source": [
    "df_fees_cash.isnull().sum().sort_values(ascending=False)"
   ]
  },
  {
   "cell_type": "markdown",
   "id": "68e0145e",
   "metadata": {},
   "source": [
    "### Metrics to Analyze\n",
    "\n",
    "1. **Frequency of Service Usage:** Understand how often users from each cohort utilize IronHack *Payments' cash advance* services over time.\n",
    "\n",
    "Keeping data from type == postpone & status_x == accepted  \n",
    "\n",
    "- **postpone** : fees created when a user want to postpone the reimbursment of a CR\n",
    "\n",
    "- **status_x** : Status of the fees (= does the fees was successfully charged)\n",
    "    Possibles values are : \n",
    "    - confirmed : the user made an action who created a fee. It will normally get charged at the moment of the CR's reimbursement. In some rare cases, postpones are confirmed without being charges due to a commercial offer.\n",
    "    - rejected : the last attempt to charge the fee failed.\n",
    "    - cancelled : fee was created and cancelled for some reasons. It's used to fix issues with fees but it mainly concern postpone fees who failed. We are charging the fees at the moment of the postpone request. If it failed, the postpone is not accepted and the reimbursement date still the same.\n",
    "    - **accepted** : fees were successfully charged\n",
    "\n",
    "- **status_y** : Status of the CR.\n",
    "    Possibles values are : \n",
    "    - approved : CR is a 'regular' one (= without fees) and was approved either automatically or manually. Funds will be sent aprox. 7 days after the creation\n",
    "    - money_sent : We transferred the fund to the customer account. Will change to active once we detect that the user received the funds (using user's bank history)\n",
    "    - rejected : The CR needed a manual review and was rejected\n",
    "    - pending : The CR is pending a manual review from an analyst\n",
    "    - transaction_declined : We failed to send the funds to the customer\n",
    "    - waiting_user_confirmation : The user needs to confirm in-app that he want the CR (for legal reasons)\n",
    "    - direct_debit_rejected : Our last attempt of SEPA direct debit to charge the customer was rejected \n",
    "    - canceled : The user didn't confirm the cash request in-app, we automatically canceled it\n",
    "    - direct_debit_sent : We sent/scheduled a SEPA direct debit to charge the customer account. The result of this debit is not yet confirmed\n",
    "    - waiting_reimbursement : We were not able to estimate a date of reimbursement, the user needs to choose one in the app.\n",
    "    - active : Funds were received on the customer account.\n",
    "    - money_back : The CR was successfully reimbursed."
   ]
  },
  {
   "cell_type": "code",
   "execution_count": 13,
   "id": "251ae39f",
   "metadata": {},
   "outputs": [
    {
     "name": "stdout",
     "output_type": "stream",
     "text": [
      "<class 'pandas.core.frame.DataFrame'>\n",
      "RangeIndex: 23970 entries, 0 to 23969\n",
      "Data columns (total 16 columns):\n",
      " #   Column                      Non-Null Count  Dtype  \n",
      "---  ------                      --------------  -----  \n",
      " 0   id                          23970 non-null  int64  \n",
      " 1   amount                      23970 non-null  float64\n",
      " 2   status                      23970 non-null  object \n",
      " 3   created_at                  23970 non-null  object \n",
      " 4   updated_at                  23970 non-null  object \n",
      " 5   user_id                     21867 non-null  float64\n",
      " 6   moderated_at                16035 non-null  object \n",
      " 7   deleted_account_id          2104 non-null   float64\n",
      " 8   reimbursement_date          23970 non-null  object \n",
      " 9   cash_request_received_date  16289 non-null  object \n",
      " 10  money_back_date             16543 non-null  object \n",
      " 11  transfer_type               23970 non-null  object \n",
      " 12  send_at                     16641 non-null  object \n",
      " 13  recovery_status             3330 non-null   object \n",
      " 14  reco_creation               3330 non-null   object \n",
      " 15  reco_last_update            3330 non-null   object \n",
      "dtypes: float64(3), int64(1), object(12)\n",
      "memory usage: 2.9+ MB\n"
     ]
    }
   ],
   "source": [
    "df_cash.info()"
   ]
  },
  {
   "cell_type": "code",
   "execution_count": 14,
   "id": "acde0855",
   "metadata": {},
   "outputs": [
    {
     "data": {
      "text/plain": [
       "0"
      ]
     },
     "execution_count": 14,
     "metadata": {},
     "output_type": "execute_result"
    }
   ],
   "source": [
    "# Checking duplicates in id\n",
    "df_cash.duplicated(subset=['id']).sum()"
   ]
  },
  {
   "cell_type": "code",
   "execution_count": 15,
   "id": "9bd9c2be",
   "metadata": {},
   "outputs": [
    {
     "data": {
      "text/html": [
       "<div>\n",
       "<style scoped>\n",
       "    .dataframe tbody tr th:only-of-type {\n",
       "        vertical-align: middle;\n",
       "    }\n",
       "\n",
       "    .dataframe tbody tr th {\n",
       "        vertical-align: top;\n",
       "    }\n",
       "\n",
       "    .dataframe thead th {\n",
       "        text-align: right;\n",
       "    }\n",
       "</style>\n",
       "<table border=\"1\" class=\"dataframe\">\n",
       "  <thead>\n",
       "    <tr style=\"text-align: right;\">\n",
       "      <th></th>\n",
       "      <th>count</th>\n",
       "      <th>mean</th>\n",
       "      <th>std</th>\n",
       "      <th>min</th>\n",
       "      <th>25%</th>\n",
       "      <th>50%</th>\n",
       "      <th>75%</th>\n",
       "      <th>max</th>\n",
       "    </tr>\n",
       "  </thead>\n",
       "  <tbody>\n",
       "    <tr>\n",
       "      <th>id</th>\n",
       "      <td>23970.0</td>\n",
       "      <td>13910.966124</td>\n",
       "      <td>7788.117214</td>\n",
       "      <td>3.0</td>\n",
       "      <td>7427.25</td>\n",
       "      <td>14270.5</td>\n",
       "      <td>20607.75</td>\n",
       "      <td>27010.0</td>\n",
       "    </tr>\n",
       "    <tr>\n",
       "      <th>amount</th>\n",
       "      <td>23970.0</td>\n",
       "      <td>82.720818</td>\n",
       "      <td>26.528065</td>\n",
       "      <td>1.0</td>\n",
       "      <td>50.00</td>\n",
       "      <td>100.0</td>\n",
       "      <td>100.00</td>\n",
       "      <td>200.0</td>\n",
       "    </tr>\n",
       "    <tr>\n",
       "      <th>user_id</th>\n",
       "      <td>21867.0</td>\n",
       "      <td>32581.250789</td>\n",
       "      <td>27618.565773</td>\n",
       "      <td>34.0</td>\n",
       "      <td>10804.00</td>\n",
       "      <td>23773.0</td>\n",
       "      <td>46965.00</td>\n",
       "      <td>103719.0</td>\n",
       "    </tr>\n",
       "    <tr>\n",
       "      <th>deleted_account_id</th>\n",
       "      <td>2104.0</td>\n",
       "      <td>9658.755228</td>\n",
       "      <td>7972.743249</td>\n",
       "      <td>91.0</td>\n",
       "      <td>3767.00</td>\n",
       "      <td>6121.5</td>\n",
       "      <td>16345.00</td>\n",
       "      <td>30445.0</td>\n",
       "    </tr>\n",
       "  </tbody>\n",
       "</table>\n",
       "</div>"
      ],
      "text/plain": [
       "                      count          mean           std   min       25%  \\\n",
       "id                  23970.0  13910.966124   7788.117214   3.0   7427.25   \n",
       "amount              23970.0     82.720818     26.528065   1.0     50.00   \n",
       "user_id             21867.0  32581.250789  27618.565773  34.0  10804.00   \n",
       "deleted_account_id   2104.0   9658.755228   7972.743249  91.0   3767.00   \n",
       "\n",
       "                        50%       75%       max  \n",
       "id                  14270.5  20607.75   27010.0  \n",
       "amount                100.0    100.00     200.0  \n",
       "user_id             23773.0  46965.00  103719.0  \n",
       "deleted_account_id   6121.5  16345.00   30445.0  "
      ]
     },
     "execution_count": 15,
     "metadata": {},
     "output_type": "execute_result"
    }
   ],
   "source": [
    "df_cash.describe().T"
   ]
  },
  {
   "cell_type": "code",
   "execution_count": 16,
   "id": "a21a0f3b",
   "metadata": {},
   "outputs": [
    {
     "name": "stdout",
     "output_type": "stream",
     "text": [
      "month\n",
      "2019-11       1\n",
      "2019-12     289\n",
      "2020-01     223\n",
      "2020-02     184\n",
      "2020-03     244\n",
      "2020-04     473\n",
      "2020-05     837\n",
      "2020-06    2615\n",
      "2020-07    3601\n",
      "2020-08    3417\n",
      "2020-09    4221\n",
      "2020-10    7725\n",
      "2020-11     140\n",
      "Freq: M, dtype: int64\n"
     ]
    },
    {
     "name": "stderr",
     "output_type": "stream",
     "text": [
      "/var/folders/f1/x77kh9w17j56ckntc3dq_ztm0000gn/T/ipykernel_12051/1595145398.py:6: UserWarning: Converting to PeriodArray/Index representation will drop timezone information.\n",
      "  df_cash['month'] = df_cash['created_at'].dt.to_period('M')\n"
     ]
    }
   ],
   "source": [
    "df_cash['created_at'] = pd.to_datetime(df_cash['created_at'], errors='coerce')\n",
    "\n",
    "if df_cash['created_at'].isnull().any():\n",
    "    print(\"Some dates couldn't be converted. Please check the data for invalid entries.\")\n",
    "\n",
    "df_cash['month'] = df_cash['created_at'].dt.to_period('M') \n",
    "\n",
    "monthly_counts_c = df_cash.groupby('month').size()\n",
    "\n",
    "print(monthly_counts_c)"
   ]
  },
  {
   "cell_type": "code",
   "execution_count": 17,
   "id": "150a32a3",
   "metadata": {},
   "outputs": [],
   "source": [
    "df_cash[\"duplicated\"] = df_cash[\"user_id\"].duplicated()"
   ]
  },
  {
   "cell_type": "code",
   "execution_count": 18,
   "id": "dff8c517",
   "metadata": {},
   "outputs": [
    {
     "data": {
      "text/plain": [
       "recovery_status       duplicated\n",
       "completed             True          1326\n",
       "                      False         1142\n",
       "pending               False          558\n",
       "                      True           287\n",
       "pending_direct_debit  False            9\n",
       "                      True             7\n",
       "cancelled             True             1\n",
       "Name: count, dtype: int64"
      ]
     },
     "execution_count": 18,
     "metadata": {},
     "output_type": "execute_result"
    }
   ],
   "source": [
    "df_cash[['recovery_status', 'duplicated']].value_counts()"
   ]
  },
  {
   "cell_type": "code",
   "execution_count": 19,
   "id": "433c9e0f",
   "metadata": {},
   "outputs": [],
   "source": [
    "df_cash.drop_duplicates(subset=['user_id'], inplace=True)\n",
    "df_cash.reset_index(drop=True, inplace=True)"
   ]
  },
  {
   "cell_type": "code",
   "execution_count": 20,
   "id": "307ccd36",
   "metadata": {},
   "outputs": [
    {
     "data": {
      "text/plain": [
       "(10799, 18)"
      ]
     },
     "execution_count": 20,
     "metadata": {},
     "output_type": "execute_result"
    }
   ],
   "source": [
    "df_cash.shape"
   ]
  },
  {
   "cell_type": "code",
   "execution_count": 21,
   "id": "ae6a9e24",
   "metadata": {},
   "outputs": [
    {
     "data": {
      "text/plain": [
       "month\n",
       "2019-12     119\n",
       "2020-01      70\n",
       "2020-02      56\n",
       "2020-03      60\n",
       "2020-04     177\n",
       "2020-05     490\n",
       "2020-06    1075\n",
       "2020-07    1192\n",
       "2020-08     761\n",
       "2020-09    1720\n",
       "2020-10    4991\n",
       "2020-11      88\n",
       "Freq: M, dtype: int64"
      ]
     },
     "execution_count": 21,
     "metadata": {},
     "output_type": "execute_result"
    }
   ],
   "source": [
    "df_cash.groupby('month').size()"
   ]
  },
  {
   "cell_type": "code",
   "execution_count": 53,
   "id": "7a93bd53",
   "metadata": {},
   "outputs": [
    {
     "data": {
      "image/png": "[encoded data removed]",
      "text/plain": [
       "<Figure size 1200x600 with 1 Axes>"
      ]
     },
     "metadata": {},
     "output_type": "display_data"
    }
   ],
   "source": [
    "# Example data (presume monthly_counts_c is your grouped data)\n",
    "monthly_counts_c = pd.Series([1, 289, 223, 184, 244, 473, 837, 2615, 3601, 3417, 4221, 7725, 140], \n",
    "                             index=pd.to_datetime(['2019-11', '2019-12', '2020-01', '2020-02', '2020-03',\n",
    "                                                   '2020-04', '2020-05', '2020-06', '2020-07', '2020-08',\n",
    "                                                   '2020-09', '2020-10', '2020-11']))\n",
    "\n",
    "# Dictionary to map month numbers to specified short names\n",
    "month_abbr = {'11': 'NOV', '12': 'DEC', '01': 'ENE', '02': 'FEB', '03': 'MAR', '04': 'APR',\n",
    "              '05': 'MAY', '06': 'JUN', '07': 'JUL', '08': 'AUG', '09': 'SEP', '10': 'OCT'}\n",
    "\n",
    "# Plotting the frequency of entries by month\n",
    "plt.figure(figsize=(12, 6))\n",
    "plt.bar(monthly_counts_c.index.strftime('%m-%Y'), monthly_counts_c.values, color='blue', edgecolor='black', alpha=0.7)\n",
    "\n",
    "# Retrieve month abbreviations using the mapping\n",
    "month_labels = [month_abbr[month] for month in monthly_counts_c.index.strftime('%m')]\n",
    "\n",
    "# Customize x-ticks for these abbreviations\n",
    "plt.xticks(ticks=range(len(monthly_counts_c)), labels=month_labels, rotation=0)\n",
    "\n",
    "# Add secondary ticks for years\n",
    "ax = plt.gca()\n",
    "ax.set_xticks([-1, 13], minor=True)  # Positions for \"2019\" and \"2020\"\n",
    "ax.set_xticklabels(['2019', '2020'], minor=True, fontsize=10)\n",
    "\n",
    "# Add vertical line between 'DEC' and 'ENE'\n",
    "ax.axvline(x=1.5, color='black', linestyle='--', linewidth=1)\n",
    "\n",
    "# Set parameters to avoid overlaps and adjust for visibility\n",
    "ax.tick_params(axis='x', which='minor', length=0, pad=15)  # Padding for better readability\n",
    "\n",
    "plt.xlabel('Creation of first cash advance (month)')\n",
    "plt.ylabel('Frequency')\n",
    "plt.title('Frequency of service usage: Bar plot of students cohorts')\n",
    "\n",
    "plt.show()"
   ]
  },
  {
   "cell_type": "markdown",
   "id": "54f8d6a6",
   "metadata": {},
   "source": [
    "**Mistake** Understanding only postpone"
   ]
  },
  {
   "cell_type": "code",
   "execution_count": 23,
   "id": "4ded2610-b2e1-4303-9be4-38efb6ac87c3",
   "metadata": {},
   "outputs": [],
   "source": [
    "df_fees_postpone = df_fees_cash[df_fees_cash[\"type\"] == \"postpone\"]"
   ]
  },
  {
   "cell_type": "code",
   "execution_count": 24,
   "id": "d7619ba4-f0ff-4db2-9f47-c92642abdfbd",
   "metadata": {},
   "outputs": [
    {
     "name": "stdout",
     "output_type": "stream",
     "text": [
      "(7766, 29)\n"
     ]
    }
   ],
   "source": [
    "print(df_fees_postpone.shape)\n",
    "df_fees_postpone_row = df_fees_postpone.shape[0]\n",
    "df_fees_postpone_col = df_fees_postpone.shape[1]"
   ]
  },
  {
   "cell_type": "code",
   "execution_count": 25,
   "id": "edfd82dd-0b77-4ef2-8667-aa60ae06183e",
   "metadata": {},
   "outputs": [
    {
     "name": "stdout",
     "output_type": "stream",
     "text": [
      "Index(['id_x', 'cash_request_id', 'type', 'status_x', 'category',\n",
      "       'total_amount', 'reason', 'created_at_x', 'updated_at_x', 'paid_at',\n",
      "       'from_date', 'to_date', 'charge_moment', 'id_y', 'amount', 'status_y',\n",
      "       'created_at_y', 'updated_at_y', 'user_id', 'moderated_at',\n",
      "       'deleted_account_id', 'reimbursement_date',\n",
      "       'cash_request_received_date', 'money_back_date', 'transfer_type',\n",
      "       'send_at', 'recovery_status', 'reco_creation', 'reco_last_update'],\n",
      "      dtype='object')\n"
     ]
    }
   ],
   "source": [
    "print(df_fees_postpone.columns)\n",
    "cols_1 = ['id_x', 'cash_request_id', 'id_y', 'created_at_x', 'created_at_y', 'type', 'status_x', 'total_amount', 'amount', 'status_y']\n",
    "df_fees_postpone2 = df_fees_postpone[cols_1]\n",
    "\n",
    "#df_fees_postpone2 = df_fees_postpone2.drop(columns=[\"id_y\", 'category', 'reason', 'created_at_x', 'updated_at_x', 'paid_at', 'from_date', 'to_date', 'charge_moment',   'updated_at_y', 'moderated_at', 'deleted_account_id', 'reimbursement_date', 'cash_request_received_date', 'money_back_date', 'transfer_type', 'send_at', 'recovery_status', 'reco_creation', 'reco_last_update'], axis=1)"
   ]
  },
  {
   "cell_type": "code",
   "execution_count": 26,
   "id": "ca4b2e2c",
   "metadata": {},
   "outputs": [
    {
     "data": {
      "text/html": [
       "<div>\n",
       "<style scoped>\n",
       "    .dataframe tbody tr th:only-of-type {\n",
       "        vertical-align: middle;\n",
       "    }\n",
       "\n",
       "    .dataframe tbody tr th {\n",
       "        vertical-align: top;\n",
       "    }\n",
       "\n",
       "    .dataframe thead th {\n",
       "        text-align: right;\n",
       "    }\n",
       "</style>\n",
       "<table border=\"1\" class=\"dataframe\">\n",
       "  <thead>\n",
       "    <tr style=\"text-align: right;\">\n",
       "      <th></th>\n",
       "      <th>id_x</th>\n",
       "      <th>cash_request_id</th>\n",
       "      <th>id_y</th>\n",
       "      <th>created_at_x</th>\n",
       "      <th>created_at_y</th>\n",
       "      <th>type</th>\n",
       "      <th>status_x</th>\n",
       "      <th>total_amount</th>\n",
       "      <th>amount</th>\n",
       "      <th>status_y</th>\n",
       "    </tr>\n",
       "  </thead>\n",
       "  <tbody>\n",
       "    <tr>\n",
       "      <th>9</th>\n",
       "      <td>15431</td>\n",
       "      <td>22106.0</td>\n",
       "      <td>22106</td>\n",
       "      <td>2020-10-21</td>\n",
       "      <td>2020-10-19</td>\n",
       "      <td>postpone</td>\n",
       "      <td>cancelled</td>\n",
       "      <td>5.0</td>\n",
       "      <td>100.0</td>\n",
       "      <td>money_back</td>\n",
       "    </tr>\n",
       "    <tr>\n",
       "      <th>11</th>\n",
       "      <td>15434</td>\n",
       "      <td>21897.0</td>\n",
       "      <td>21897</td>\n",
       "      <td>2020-10-21</td>\n",
       "      <td>2020-10-18</td>\n",
       "      <td>postpone</td>\n",
       "      <td>accepted</td>\n",
       "      <td>5.0</td>\n",
       "      <td>100.0</td>\n",
       "      <td>money_back</td>\n",
       "    </tr>\n",
       "    <tr>\n",
       "      <th>12</th>\n",
       "      <td>20199</td>\n",
       "      <td>25490.0</td>\n",
       "      <td>25490</td>\n",
       "      <td>2020-10-30</td>\n",
       "      <td>2020-10-28</td>\n",
       "      <td>postpone</td>\n",
       "      <td>cancelled</td>\n",
       "      <td>5.0</td>\n",
       "      <td>100.0</td>\n",
       "      <td>money_back</td>\n",
       "    </tr>\n",
       "  </tbody>\n",
       "</table>\n",
       "</div>"
      ],
      "text/plain": [
       "     id_x  cash_request_id   id_y created_at_x created_at_y      type  \\\n",
       "9   15431          22106.0  22106   2020-10-21   2020-10-19  postpone   \n",
       "11  15434          21897.0  21897   2020-10-21   2020-10-18  postpone   \n",
       "12  20199          25490.0  25490   2020-10-30   2020-10-28  postpone   \n",
       "\n",
       "     status_x  total_amount  amount    status_y  \n",
       "9   cancelled           5.0   100.0  money_back  \n",
       "11   accepted           5.0   100.0  money_back  \n",
       "12  cancelled           5.0   100.0  money_back  "
      ]
     },
     "execution_count": 26,
     "metadata": {},
     "output_type": "execute_result"
    }
   ],
   "source": [
    "df_fees_postpone2.head(3)"
   ]
  },
  {
   "cell_type": "code",
   "execution_count": 27,
   "id": "8d968a68",
   "metadata": {},
   "outputs": [
    {
     "name": "stderr",
     "output_type": "stream",
     "text": [
      "/var/folders/f1/x77kh9w17j56ckntc3dq_ztm0000gn/T/ipykernel_12051/4043831793.py:2: SettingWithCopyWarning: \n",
      "A value is trying to be set on a copy of a slice from a DataFrame\n",
      "\n",
      "See the caveats in the documentation: https://pandas.pydata.org/pandas-docs/stable/user_guide/indexing.html#returning-a-view-versus-a-copy\n",
      "  df_fees_postpone2.sort_values(by=['created_at_y'], inplace=True)\n"
     ]
    }
   ],
   "source": [
    "#df_fees_postpone2['created_at_y'] = pd.to_datetime(df_fees_postpone2['created_at_y']).dt.date\n",
    "df_fees_postpone2.sort_values(by=['created_at_y'], inplace=True)"
   ]
  },
  {
   "cell_type": "code",
   "execution_count": 28,
   "id": "c3f59f9c-0eb9-4a6a-a2e0-c5b0952600d9",
   "metadata": {},
   "outputs": [
    {
     "name": "stdout",
     "output_type": "stream",
     "text": [
      "<class 'pandas.core.frame.DataFrame'>\n",
      "Index: 7766 entries, 16227 to 37\n",
      "Data columns (total 10 columns):\n",
      " #   Column           Non-Null Count  Dtype  \n",
      "---  ------           --------------  -----  \n",
      " 0   id_x             7766 non-null   int64  \n",
      " 1   cash_request_id  7766 non-null   float64\n",
      " 2   id_y             7766 non-null   int64  \n",
      " 3   created_at_x     7766 non-null   object \n",
      " 4   created_at_y     7766 non-null   object \n",
      " 5   type             7766 non-null   object \n",
      " 6   status_x         7766 non-null   object \n",
      " 7   total_amount     7766 non-null   float64\n",
      " 8   amount           7766 non-null   float64\n",
      " 9   status_y         7766 non-null   object \n",
      "dtypes: float64(3), int64(2), object(5)\n",
      "memory usage: 667.4+ KB\n"
     ]
    }
   ],
   "source": [
    "df_fees_postpone2.info()"
   ]
  },
  {
   "cell_type": "code",
   "execution_count": 29,
   "id": "266ee681-9341-4c5d-89a5-e89803b7389f",
   "metadata": {},
   "outputs": [
    {
     "name": "stdout",
     "output_type": "stream",
     "text": [
      "id_x               0\n",
      "cash_request_id    0\n",
      "id_y               0\n",
      "created_at_x       0\n",
      "created_at_y       0\n",
      "type               0\n",
      "status_x           0\n",
      "total_amount       0\n",
      "amount             0\n",
      "status_y           0\n",
      "dtype: int64\n"
     ]
    },
    {
     "data": {
      "text/html": [
       "<div>\n",
       "<style scoped>\n",
       "    .dataframe tbody tr th:only-of-type {\n",
       "        vertical-align: middle;\n",
       "    }\n",
       "\n",
       "    .dataframe tbody tr th {\n",
       "        vertical-align: top;\n",
       "    }\n",
       "\n",
       "    .dataframe thead th {\n",
       "        text-align: right;\n",
       "    }\n",
       "</style>\n",
       "<table border=\"1\" class=\"dataframe\">\n",
       "  <thead>\n",
       "    <tr style=\"text-align: right;\">\n",
       "      <th></th>\n",
       "      <th>count</th>\n",
       "      <th>mean</th>\n",
       "      <th>std</th>\n",
       "      <th>min</th>\n",
       "      <th>25%</th>\n",
       "      <th>50%</th>\n",
       "      <th>75%</th>\n",
       "      <th>max</th>\n",
       "    </tr>\n",
       "  </thead>\n",
       "  <tbody>\n",
       "    <tr>\n",
       "      <th>id_x</th>\n",
       "      <td>7766.0</td>\n",
       "      <td>8817.084342</td>\n",
       "      <td>6695.600618</td>\n",
       "      <td>1.0</td>\n",
       "      <td>2266.25</td>\n",
       "      <td>7915.5</td>\n",
       "      <td>14386.25</td>\n",
       "      <td>21192.0</td>\n",
       "    </tr>\n",
       "    <tr>\n",
       "      <th>cash_request_id</th>\n",
       "      <td>7766.0</td>\n",
       "      <td>13172.530003</td>\n",
       "      <td>6496.165119</td>\n",
       "      <td>1456.0</td>\n",
       "      <td>7631.50</td>\n",
       "      <td>13312.0</td>\n",
       "      <td>18493.75</td>\n",
       "      <td>26787.0</td>\n",
       "    </tr>\n",
       "    <tr>\n",
       "      <th>id_y</th>\n",
       "      <td>7766.0</td>\n",
       "      <td>13172.530003</td>\n",
       "      <td>6496.165119</td>\n",
       "      <td>1456.0</td>\n",
       "      <td>7631.50</td>\n",
       "      <td>13312.0</td>\n",
       "      <td>18493.75</td>\n",
       "      <td>26787.0</td>\n",
       "    </tr>\n",
       "    <tr>\n",
       "      <th>total_amount</th>\n",
       "      <td>7766.0</td>\n",
       "      <td>5.000000</td>\n",
       "      <td>0.000000</td>\n",
       "      <td>5.0</td>\n",
       "      <td>5.00</td>\n",
       "      <td>5.0</td>\n",
       "      <td>5.00</td>\n",
       "      <td>5.0</td>\n",
       "    </tr>\n",
       "    <tr>\n",
       "      <th>amount</th>\n",
       "      <td>7766.0</td>\n",
       "      <td>87.012490</td>\n",
       "      <td>23.352308</td>\n",
       "      <td>1.0</td>\n",
       "      <td>90.00</td>\n",
       "      <td>100.0</td>\n",
       "      <td>100.00</td>\n",
       "      <td>200.0</td>\n",
       "    </tr>\n",
       "  </tbody>\n",
       "</table>\n",
       "</div>"
      ],
      "text/plain": [
       "                  count          mean          std     min      25%      50%  \\\n",
       "id_x             7766.0   8817.084342  6695.600618     1.0  2266.25   7915.5   \n",
       "cash_request_id  7766.0  13172.530003  6496.165119  1456.0  7631.50  13312.0   \n",
       "id_y             7766.0  13172.530003  6496.165119  1456.0  7631.50  13312.0   \n",
       "total_amount     7766.0      5.000000     0.000000     5.0     5.00      5.0   \n",
       "amount           7766.0     87.012490    23.352308     1.0    90.00    100.0   \n",
       "\n",
       "                      75%      max  \n",
       "id_x             14386.25  21192.0  \n",
       "cash_request_id  18493.75  26787.0  \n",
       "id_y             18493.75  26787.0  \n",
       "total_amount         5.00      5.0  \n",
       "amount             100.00    200.0  "
      ]
     },
     "execution_count": 29,
     "metadata": {},
     "output_type": "execute_result"
    }
   ],
   "source": [
    "#df_fees_postpone2 = df_fees_postpone2.drop(columns=[\"user_id\"])\n",
    "print(df_fees_postpone2.isna().sum().sort_values(ascending=False))\n",
    "df_fees_postpone2.describe().T"
   ]
  },
  {
   "cell_type": "code",
   "execution_count": 30,
   "id": "3ceff064-0f08-4f52-976a-3345d2544f74",
   "metadata": {},
   "outputs": [
    {
     "data": {
      "text/html": [
       "<div>\n",
       "<style scoped>\n",
       "    .dataframe tbody tr th:only-of-type {\n",
       "        vertical-align: middle;\n",
       "    }\n",
       "\n",
       "    .dataframe tbody tr th {\n",
       "        vertical-align: top;\n",
       "    }\n",
       "\n",
       "    .dataframe thead th {\n",
       "        text-align: right;\n",
       "    }\n",
       "</style>\n",
       "<table border=\"1\" class=\"dataframe\">\n",
       "  <thead>\n",
       "    <tr style=\"text-align: right;\">\n",
       "      <th></th>\n",
       "      <th>id_x</th>\n",
       "      <th>cash_request_id</th>\n",
       "      <th>id_y</th>\n",
       "      <th>created_at_x</th>\n",
       "      <th>created_at_y</th>\n",
       "      <th>type</th>\n",
       "      <th>status_x</th>\n",
       "      <th>total_amount</th>\n",
       "      <th>amount</th>\n",
       "      <th>status_y</th>\n",
       "    </tr>\n",
       "  </thead>\n",
       "  <tbody>\n",
       "    <tr>\n",
       "      <th>16227</th>\n",
       "      <td>44</td>\n",
       "      <td>1456.0</td>\n",
       "      <td>1456</td>\n",
       "      <td>2020-06-23</td>\n",
       "      <td>2020-04-29</td>\n",
       "      <td>postpone</td>\n",
       "      <td>cancelled</td>\n",
       "      <td>5.0</td>\n",
       "      <td>100.0</td>\n",
       "      <td>direct_debit_rejected</td>\n",
       "    </tr>\n",
       "    <tr>\n",
       "      <th>1221</th>\n",
       "      <td>13</td>\n",
       "      <td>1518.0</td>\n",
       "      <td>1518</td>\n",
       "      <td>2020-06-23</td>\n",
       "      <td>2020-05-01</td>\n",
       "      <td>postpone</td>\n",
       "      <td>accepted</td>\n",
       "      <td>5.0</td>\n",
       "      <td>100.0</td>\n",
       "      <td>money_back</td>\n",
       "    </tr>\n",
       "    <tr>\n",
       "      <th>19647</th>\n",
       "      <td>17</td>\n",
       "      <td>1518.0</td>\n",
       "      <td>1518</td>\n",
       "      <td>2020-06-23</td>\n",
       "      <td>2020-05-01</td>\n",
       "      <td>postpone</td>\n",
       "      <td>cancelled</td>\n",
       "      <td>5.0</td>\n",
       "      <td>100.0</td>\n",
       "      <td>money_back</td>\n",
       "    </tr>\n",
       "    <tr>\n",
       "      <th>15829</th>\n",
       "      <td>7</td>\n",
       "      <td>1518.0</td>\n",
       "      <td>1518</td>\n",
       "      <td>2020-06-23</td>\n",
       "      <td>2020-05-01</td>\n",
       "      <td>postpone</td>\n",
       "      <td>cancelled</td>\n",
       "      <td>5.0</td>\n",
       "      <td>100.0</td>\n",
       "      <td>money_back</td>\n",
       "    </tr>\n",
       "    <tr>\n",
       "      <th>2001</th>\n",
       "      <td>115</td>\n",
       "      <td>1518.0</td>\n",
       "      <td>1518</td>\n",
       "      <td>2020-06-23</td>\n",
       "      <td>2020-05-01</td>\n",
       "      <td>postpone</td>\n",
       "      <td>cancelled</td>\n",
       "      <td>5.0</td>\n",
       "      <td>100.0</td>\n",
       "      <td>money_back</td>\n",
       "    </tr>\n",
       "  </tbody>\n",
       "</table>\n",
       "</div>"
      ],
      "text/plain": [
       "       id_x  cash_request_id  id_y created_at_x created_at_y      type  \\\n",
       "16227    44           1456.0  1456   2020-06-23   2020-04-29  postpone   \n",
       "1221     13           1518.0  1518   2020-06-23   2020-05-01  postpone   \n",
       "19647    17           1518.0  1518   2020-06-23   2020-05-01  postpone   \n",
       "15829     7           1518.0  1518   2020-06-23   2020-05-01  postpone   \n",
       "2001    115           1518.0  1518   2020-06-23   2020-05-01  postpone   \n",
       "\n",
       "        status_x  total_amount  amount               status_y  \n",
       "16227  cancelled           5.0   100.0  direct_debit_rejected  \n",
       "1221    accepted           5.0   100.0             money_back  \n",
       "19647  cancelled           5.0   100.0             money_back  \n",
       "15829  cancelled           5.0   100.0             money_back  \n",
       "2001   cancelled           5.0   100.0             money_back  "
      ]
     },
     "execution_count": 30,
     "metadata": {},
     "output_type": "execute_result"
    }
   ],
   "source": [
    "df_fees_postpone2.head(5)"
   ]
  },
  {
   "cell_type": "code",
   "execution_count": 31,
   "id": "ff6a054e-a7b7-45ef-8214-622dcbf6069c",
   "metadata": {},
   "outputs": [
    {
     "name": "stdout",
     "output_type": "stream",
     "text": [
      "month\n",
      "2020-04       1\n",
      "2020-05     213\n",
      "2020-06    1185\n",
      "2020-07    1293\n",
      "2020-08    1500\n",
      "2020-09    1681\n",
      "2020-10    1893\n",
      "Freq: M, dtype: int64\n"
     ]
    },
    {
     "name": "stderr",
     "output_type": "stream",
     "text": [
      "/var/folders/f1/x77kh9w17j56ckntc3dq_ztm0000gn/T/ipykernel_12051/1433017807.py:2: SettingWithCopyWarning: \n",
      "A value is trying to be set on a copy of a slice from a DataFrame.\n",
      "Try using .loc[row_indexer,col_indexer] = value instead\n",
      "\n",
      "See the caveats in the documentation: https://pandas.pydata.org/pandas-docs/stable/user_guide/indexing.html#returning-a-view-versus-a-copy\n",
      "  df_fees_postpone2['created_at_y'] = pd.to_datetime(df_fees_postpone2['created_at_y'], errors='coerce')\n",
      "/var/folders/f1/x77kh9w17j56ckntc3dq_ztm0000gn/T/ipykernel_12051/1433017807.py:9: SettingWithCopyWarning: \n",
      "A value is trying to be set on a copy of a slice from a DataFrame.\n",
      "Try using .loc[row_indexer,col_indexer] = value instead\n",
      "\n",
      "See the caveats in the documentation: https://pandas.pydata.org/pandas-docs/stable/user_guide/indexing.html#returning-a-view-versus-a-copy\n",
      "  df_fees_postpone2['month'] = df_fees_postpone2['created_at_y'].dt.to_period('M')\n"
     ]
    }
   ],
   "source": [
    "# Ensure 'created_at_y' is converted to datetime\n",
    "df_fees_postpone2['created_at_y'] = pd.to_datetime(df_fees_postpone2['created_at_y'], errors='coerce')\n",
    "\n",
    "# Check for non-convertible entries if there are any\n",
    "if df_fees_postpone2['created_at_y'].isnull().any():\n",
    "    print(\"Some dates couldn't be converted. Please check the data for invalid entries.\")\n",
    "\n",
    "# Extract month from the 'created_at_y' series\n",
    "df_fees_postpone2['month'] = df_fees_postpone2['created_at_y'].dt.to_period('M') \n",
    "\n",
    "# Tabulate the count by month\n",
    "monthly_counts = df_fees_postpone2.groupby('month').size()\n",
    "\n",
    "# Display the result\n",
    "print(monthly_counts)"
   ]
  },
  {
   "cell_type": "code",
   "execution_count": 32,
   "id": "5766bf2c",
   "metadata": {},
   "outputs": [
    {
     "name": "stdout",
     "output_type": "stream",
     "text": [
      "<class 'pandas.core.frame.DataFrame'>\n",
      "Index: 7766 entries, 16227 to 37\n",
      "Data columns (total 11 columns):\n",
      " #   Column           Non-Null Count  Dtype         \n",
      "---  ------           --------------  -----         \n",
      " 0   id_x             7766 non-null   int64         \n",
      " 1   cash_request_id  7766 non-null   float64       \n",
      " 2   id_y             7766 non-null   int64         \n",
      " 3   created_at_x     7766 non-null   object        \n",
      " 4   created_at_y     7766 non-null   datetime64[ns]\n",
      " 5   type             7766 non-null   object        \n",
      " 6   status_x         7766 non-null   object        \n",
      " 7   total_amount     7766 non-null   float64       \n",
      " 8   amount           7766 non-null   float64       \n",
      " 9   status_y         7766 non-null   object        \n",
      " 10  month            7766 non-null   period[M]     \n",
      "dtypes: datetime64[ns](1), float64(3), int64(2), object(4), period[M](1)\n",
      "memory usage: 728.1+ KB\n"
     ]
    }
   ],
   "source": [
    "df_fees_postpone2.info()"
   ]
  },
  {
   "cell_type": "code",
   "execution_count": 33,
   "id": "61237cca",
   "metadata": {},
   "outputs": [
    {
     "name": "stderr",
     "output_type": "stream",
     "text": [
      "/var/folders/f1/x77kh9w17j56ckntc3dq_ztm0000gn/T/ipykernel_12051/570264075.py:1: SettingWithCopyWarning: \n",
      "A value is trying to be set on a copy of a slice from a DataFrame.\n",
      "Try using .loc[row_indexer,col_indexer] = value instead\n",
      "\n",
      "See the caveats in the documentation: https://pandas.pydata.org/pandas-docs/stable/user_guide/indexing.html#returning-a-view-versus-a-copy\n",
      "  df_fees_postpone2['created_at_y'] = pd.to_datetime(df_fees_postpone2['created_at_y'])\n",
      "/var/folders/f1/x77kh9w17j56ckntc3dq_ztm0000gn/T/ipykernel_12051/570264075.py:14: FutureWarning: 'M' is deprecated and will be removed in a future version, please use 'ME' instead.\n",
      "  months = pd.date_range(df_fees_postpone2['created_at_y'].min(), df_fees_postpone2['created_at_y'].max(), freq='M')\n"
     ]
    },
    {
     "data": {
      "image/png": "[encoded data removed]",
      "text/plain": [
       "<Figure size 1200x600 with 1 Axes>"
      ]
     },
     "metadata": {},
     "output_type": "display_data"
    },
    {
     "data": {
      "text/plain": [
       "\" \\nStatus of the fees (= does the fees was successfully charged)\\n\\nPossibles values are : \\n- confirmed : the user made an action who created a fee. It will normally get charged at the moment of the CR's reimbursement. In some rare cases, postpones are confirmed without being charges due to a commercial offer.\\n- rejected : the last attempt to charge the fee failed.\\n- cancelled : fee was created and cancelled for some reasons. It's used to fix issues with fees but it mainly concern postpone fees who failed. We are charging the fees at the moment of the postpone request. If it failed, the postpone is not accepted and the reimbursement date still the same.\\n- accepted : fees were successfully charged\\n\""
      ]
     },
     "execution_count": 33,
     "metadata": {},
     "output_type": "execute_result"
    }
   ],
   "source": [
    "df_fees_postpone2['created_at_y'] = pd.to_datetime(df_fees_postpone2['created_at_y'])\n",
    "\n",
    "plt.figure(figsize=(12, 6))\n",
    "\n",
    "# Plot for 'cancelled'\n",
    "plt.hist(df_fees_postpone2[df_fees_postpone2['status_x'] == 'cancelled']['created_at_y'],\n",
    "         bins=20, alpha=0.3, label='Cancelled', color='blue')\n",
    "\n",
    "# Plot for 'accepted'\n",
    "plt.hist(df_fees_postpone2[df_fees_postpone2['status_x'] == 'accepted']['created_at_y'],\n",
    "         bins=20, alpha=0.3, label='Accepted', color='green')\n",
    "\n",
    "# Add lines at the end of each month\n",
    "months = pd.date_range(df_fees_postpone2['created_at_y'].min(), df_fees_postpone2['created_at_y'].max(), freq='M')\n",
    "for month in months:\n",
    "    plt.axvline(month, color='black', linestyle='--')\n",
    "\n",
    "plt.xlabel('Creation of first cash advance (date)')\n",
    "plt.ylabel('Frequency')\n",
    "plt.title('Frequency of service usage: Histogram of students cohorts by status of the fees')\n",
    "plt.legend(loc='upper left')\n",
    "plt.show()\n",
    "\n",
    "\"\"\" \n",
    "Status of the fees (= does the fees was successfully charged)\n",
    "\n",
    "Possibles values are : \n",
    "- confirmed : the user made an action who created a fee. It will normally get charged at the moment of the CR's reimbursement. In some rare cases, postpones are confirmed without being charges due to a commercial offer.\n",
    "- rejected : the last attempt to charge the fee failed.\n",
    "- cancelled : fee was created and cancelled for some reasons. It's used to fix issues with fees but it mainly concern postpone fees who failed. We are charging the fees at the moment of the postpone request. If it failed, the postpone is not accepted and the reimbursement date still the same.\n",
    "- accepted : fees were successfully charged\n",
    "\"\"\""
   ]
  },
  {
   "cell_type": "markdown",
   "id": "6216859b",
   "metadata": {},
   "source": [
    "2. **Incident Rate:** Determine the incident rate, specifically focusing on payment incidents, for each cohort. Identify if there are variations in incident rates among different cohorts."
   ]
  },
  {
   "cell_type": "code",
   "execution_count": 34,
   "id": "65c6e5bf",
   "metadata": {},
   "outputs": [
    {
     "data": {
      "text/html": [
       "<div>\n",
       "<style scoped>\n",
       "    .dataframe tbody tr th:only-of-type {\n",
       "        vertical-align: middle;\n",
       "    }\n",
       "\n",
       "    .dataframe tbody tr th {\n",
       "        vertical-align: top;\n",
       "    }\n",
       "\n",
       "    .dataframe thead th {\n",
       "        text-align: right;\n",
       "    }\n",
       "</style>\n",
       "<table border=\"1\" class=\"dataframe\">\n",
       "  <thead>\n",
       "    <tr style=\"text-align: right;\">\n",
       "      <th></th>\n",
       "      <th>absolute_frequency</th>\n",
       "      <th>relative_frequency</th>\n",
       "    </tr>\n",
       "    <tr>\n",
       "      <th>type</th>\n",
       "      <th></th>\n",
       "      <th></th>\n",
       "    </tr>\n",
       "  </thead>\n",
       "  <tbody>\n",
       "    <tr>\n",
       "      <th>instant_payment</th>\n",
       "      <td>11095</td>\n",
       "      <td>0.53</td>\n",
       "    </tr>\n",
       "    <tr>\n",
       "      <th>postpone</th>\n",
       "      <td>7766</td>\n",
       "      <td>0.37</td>\n",
       "    </tr>\n",
       "    <tr>\n",
       "      <th>incident</th>\n",
       "      <td>2196</td>\n",
       "      <td>0.10</td>\n",
       "    </tr>\n",
       "  </tbody>\n",
       "</table>\n",
       "</div>"
      ],
      "text/plain": [
       "                 absolute_frequency  relative_frequency\n",
       "type                                                   \n",
       "instant_payment               11095                0.53\n",
       "postpone                       7766                0.37\n",
       "incident                       2196                0.10"
      ]
     },
     "execution_count": 34,
     "metadata": {},
     "output_type": "execute_result"
    }
   ],
   "source": [
    "\"\"\"\n",
    "Frequency table in 3 steps:  \n",
    "    (1) merging absoluty frequency with relative frequenceies\n",
    "    (2) calculate the last row: totals\n",
    "    (3) concat frequencies and total\n",
    "    (*) Alternatively: use pd.crosstab()\n",
    "\"\"\"\n",
    "t_frequency = df_fees_cash[['type']].value_counts()\n",
    "t_proportion = df_fees_cash[['type']].value_counts(normalize=True).round(2)\n",
    "\n",
    "# merging absoluty frequency with relative frequenceies\n",
    "t_df = pd.concat([t_frequency, t_proportion], axis=1)\n",
    "t_df.columns = ['absolute_frequency', 'relative_frequency']\n",
    "t_df"
   ]
  },
  {
   "cell_type": "code",
   "execution_count": 35,
   "id": "6c3e17a7",
   "metadata": {},
   "outputs": [
    {
     "data": {
      "text/html": [
       "<div>\n",
       "<style scoped>\n",
       "    .dataframe tbody tr th:only-of-type {\n",
       "        vertical-align: middle;\n",
       "    }\n",
       "\n",
       "    .dataframe tbody tr th {\n",
       "        vertical-align: top;\n",
       "    }\n",
       "\n",
       "    .dataframe thead th {\n",
       "        text-align: right;\n",
       "    }\n",
       "</style>\n",
       "<table border=\"1\" class=\"dataframe\">\n",
       "  <thead>\n",
       "    <tr style=\"text-align: right;\">\n",
       "      <th></th>\n",
       "      <th>absolute_frequency</th>\n",
       "      <th>relative_frequency</th>\n",
       "    </tr>\n",
       "  </thead>\n",
       "  <tbody>\n",
       "    <tr>\n",
       "      <th>Total</th>\n",
       "      <td>21057</td>\n",
       "      <td>1.0</td>\n",
       "    </tr>\n",
       "  </tbody>\n",
       "</table>\n",
       "</div>"
      ],
      "text/plain": [
       "       absolute_frequency  relative_frequency\n",
       "Total               21057                 1.0"
      ]
     },
     "execution_count": 35,
     "metadata": {},
     "output_type": "execute_result"
    }
   ],
   "source": [
    "tt_absolute = t_frequency.sum()\n",
    "tt_relative = t_proportion.sum()\n",
    "\n",
    "tt_row = pd.DataFrame({\n",
    "    'absolute_frequency': [tt_absolute],\n",
    "    'relative_frequency': [tt_relative]\n",
    "}, index=['Total'])\n",
    "tt_row"
   ]
  },
  {
   "cell_type": "code",
   "execution_count": 36,
   "id": "53bd6b07",
   "metadata": {},
   "outputs": [
    {
     "data": {
      "text/html": [
       "<div>\n",
       "<style scoped>\n",
       "    .dataframe tbody tr th:only-of-type {\n",
       "        vertical-align: middle;\n",
       "    }\n",
       "\n",
       "    .dataframe tbody tr th {\n",
       "        vertical-align: top;\n",
       "    }\n",
       "\n",
       "    .dataframe thead th {\n",
       "        text-align: right;\n",
       "    }\n",
       "</style>\n",
       "<table border=\"1\" class=\"dataframe\">\n",
       "  <thead>\n",
       "    <tr style=\"text-align: right;\">\n",
       "      <th></th>\n",
       "      <th>absolute_frequency</th>\n",
       "      <th>relative_frequency</th>\n",
       "    </tr>\n",
       "  </thead>\n",
       "  <tbody>\n",
       "    <tr>\n",
       "      <th>(instant_payment,)</th>\n",
       "      <td>11095</td>\n",
       "      <td>0.53</td>\n",
       "    </tr>\n",
       "    <tr>\n",
       "      <th>(postpone,)</th>\n",
       "      <td>7766</td>\n",
       "      <td>0.37</td>\n",
       "    </tr>\n",
       "    <tr>\n",
       "      <th>(incident,)</th>\n",
       "      <td>2196</td>\n",
       "      <td>0.10</td>\n",
       "    </tr>\n",
       "    <tr>\n",
       "      <th>Total</th>\n",
       "      <td>21057</td>\n",
       "      <td>1.00</td>\n",
       "    </tr>\n",
       "  </tbody>\n",
       "</table>\n",
       "</div>"
      ],
      "text/plain": [
       "                    absolute_frequency  relative_frequency\n",
       "(instant_payment,)               11095                0.53\n",
       "(postpone,)                       7766                0.37\n",
       "(incident,)                       2196                0.10\n",
       "Total                            21057                1.00"
      ]
     },
     "execution_count": 36,
     "metadata": {},
     "output_type": "execute_result"
    }
   ],
   "source": [
    "t_df2 = pd.concat([t_df,tt_row])\n",
    "t_df2"
   ]
  },
  {
   "cell_type": "code",
   "execution_count": 37,
   "id": "2d58ad86",
   "metadata": {},
   "outputs": [
    {
     "data": {
      "text/html": [
       "<div>\n",
       "<style scoped>\n",
       "    .dataframe tbody tr th:only-of-type {\n",
       "        vertical-align: middle;\n",
       "    }\n",
       "\n",
       "    .dataframe tbody tr th {\n",
       "        vertical-align: top;\n",
       "    }\n",
       "\n",
       "    .dataframe thead th {\n",
       "        text-align: right;\n",
       "    }\n",
       "</style>\n",
       "<table border=\"1\" class=\"dataframe\">\n",
       "  <thead>\n",
       "    <tr style=\"text-align: right;\">\n",
       "      <th>col_0</th>\n",
       "      <th>count</th>\n",
       "    </tr>\n",
       "    <tr>\n",
       "      <th>type</th>\n",
       "      <th></th>\n",
       "    </tr>\n",
       "  </thead>\n",
       "  <tbody>\n",
       "    <tr>\n",
       "      <th>incident</th>\n",
       "      <td>2196</td>\n",
       "    </tr>\n",
       "    <tr>\n",
       "      <th>instant_payment</th>\n",
       "      <td>11095</td>\n",
       "    </tr>\n",
       "    <tr>\n",
       "      <th>postpone</th>\n",
       "      <td>7766</td>\n",
       "    </tr>\n",
       "  </tbody>\n",
       "</table>\n",
       "</div>"
      ],
      "text/plain": [
       "col_0            count\n",
       "type                  \n",
       "incident          2196\n",
       "instant_payment  11095\n",
       "postpone          7766"
      ]
     },
     "execution_count": 37,
     "metadata": {},
     "output_type": "execute_result"
    }
   ],
   "source": [
    "pd.crosstab(index=df_fees_cash.type,\n",
    "           columns='count')"
   ]
  },
  {
   "cell_type": "code",
   "execution_count": 56,
   "id": "b6fcd07a",
   "metadata": {},
   "outputs": [
    {
     "name": "stdout",
     "output_type": "stream",
     "text": [
      "     month    0\n",
      "0  2020-05   44\n",
      "1  2020-06  560\n",
      "2  2020-07  659\n",
      "3  2020-08  498\n",
      "4  2020-09  385\n",
      "5  2020-10   50\n"
     ]
    }
   ],
   "source": [
    "df_fees_cash['created_at_y'] = pd.to_datetime(df_fees_cash['created_at_y'], errors='coerce')\n",
    "\n",
    "if df_fees_cash['created_at_y'].isnull().any():\n",
    "    print(\"Some dates couldn't be converted. Please check the data for invalid entries.\")\n",
    "\n",
    "df_fees_cash['month'] = df_fees_cash['created_at_y'].dt.to_period('M') \n",
    "monthly_counts_c2 = df_fees_cash[df_fees_cash['type'] == \"incident\"].groupby('month').size()\n",
    "monthly_counts_c2 = monthly_counts_c2.reset_index() \n",
    "\n",
    "print(monthly_counts_c2)"
   ]
  },
  {
   "cell_type": "code",
   "execution_count": 58,
   "id": "1ae55f98",
   "metadata": {},
   "outputs": [
    {
     "data": {
      "image/png": "[encoded data removed]",
      "text/plain": [
       "<Figure size 1000x600 with 1 Axes>"
      ]
     },
     "metadata": {},
     "output_type": "display_data"
    }
   ],
   "source": [
    "data = {'month': ['2020-05', '2020-06', '2020-07', '2020-08', '2020-09', '2020-10'],\n",
    "        'frequency': [44, 560, 659, 498, 385, 50]}\n",
    "monthly_counts_c2 = pd.DataFrame(data)\n",
    "monthly_counts_c2['month'] = pd.to_datetime(monthly_counts_c2['month'])\n",
    "\n",
    "# Define month and year labels\n",
    "month_labels = ['MAY', 'JUN', 'JUL', 'AUG', 'SEP', 'OCT']\n",
    "year_labels = ['2020']\n",
    "\n",
    "# Create the bar plot\n",
    "plt.figure(figsize=(10, 6))\n",
    "plt.bar(monthly_counts_c2['month'].dt.strftime('%Y-%m'), monthly_counts_c2['frequency'], \n",
    "        color='blue', edgecolor='black', alpha=0.7)\n",
    "\n",
    "# Set the month x-ticks\n",
    "plt.xticks(ticks=range(len(month_labels)), labels=month_labels, rotation=0)\n",
    "\n",
    "# Access the current Axes\n",
    "ax = plt.gca()\n",
    "\n",
    "# Add secondary tick for the year\n",
    "ax.set_xticks([2.5], minor=True)  # Positioning the year '2020' under the month ticks\n",
    "ax.set_xticklabels(year_labels, minor=True, fontsize=10)\n",
    "\n",
    "# Modify the tick parameters for better readability\n",
    "ax.tick_params(axis='x', which='minor', length=0, pad=20)  # Increased pad for separation\n",
    "\n",
    "plt.xlabel('Creation of first cash advance (month)')\n",
    "plt.ylabel('Frequency')\n",
    "plt.title('Incident rate: Bar plot of students cohorts')\n",
    "\n",
    "# Show plot\n",
    "plt.show()"
   ]
  },
  {
   "cell_type": "markdown",
   "id": "39a0f484",
   "metadata": {},
   "source": [
    "**Maybe overcomplicated ... :S**"
   ]
  },
  {
   "cell_type": "code",
   "execution_count": 40,
   "id": "41ece5a7",
   "metadata": {},
   "outputs": [
    {
     "data": {
      "text/plain": [
       "type      status_x   created_at_y\n",
       "incident  accepted   2020-07-07      45\n",
       "                     2020-06-18      38\n",
       "                     2020-07-15      32\n",
       "                     2020-06-30      29\n",
       "                     2020-08-10      28\n",
       "                                     ..\n",
       "          cancelled  2020-07-12       1\n",
       "                     2020-07-13       1\n",
       "                     2020-07-14       1\n",
       "                     2020-07-17       1\n",
       "          rejected   2020-10-15       1\n",
       "Name: count, Length: 320, dtype: int64"
      ]
     },
     "execution_count": 40,
     "metadata": {},
     "output_type": "execute_result"
    }
   ],
   "source": [
    "df_fees_cash[df_fees_cash['type'] == \"incident\"][['type', 'status_x', 'created_at_y']].value_counts()"
   ]
  },
  {
   "cell_type": "code",
   "execution_count": 41,
   "id": "e385432e",
   "metadata": {},
   "outputs": [],
   "source": [
    "df_fees_incident = df_fees_cash[df_fees_cash[\"type\"] == \"incident\"]"
   ]
  },
  {
   "cell_type": "code",
   "execution_count": 42,
   "id": "389149a1",
   "metadata": {},
   "outputs": [
    {
     "name": "stdout",
     "output_type": "stream",
     "text": [
      "Index(['id_x', 'cash_request_id', 'type', 'status_x', 'category',\n",
      "       'total_amount', 'reason', 'created_at_x', 'updated_at_x', 'paid_at',\n",
      "       'from_date', 'to_date', 'charge_moment', 'id_y', 'amount', 'status_y',\n",
      "       'created_at_y', 'updated_at_y', 'user_id', 'moderated_at',\n",
      "       'deleted_account_id', 'reimbursement_date',\n",
      "       'cash_request_received_date', 'money_back_date', 'transfer_type',\n",
      "       'send_at', 'recovery_status', 'reco_creation', 'reco_last_update',\n",
      "       'month'],\n",
      "      dtype='object')\n"
     ]
    }
   ],
   "source": [
    "print(df_fees_incident.columns)\n",
    "cols_1 = ['id_x', 'cash_request_id', 'id_y', 'created_at_x', 'created_at_y', 'type', 'status_x', 'total_amount', 'amount', 'status_y']\n",
    "df_fees_incident2 = df_fees_incident[cols_1]"
   ]
  },
  {
   "cell_type": "code",
   "execution_count": 43,
   "id": "8c58f95a",
   "metadata": {},
   "outputs": [
    {
     "name": "stdout",
     "output_type": "stream",
     "text": [
      "month\n",
      "2020-05     44\n",
      "2020-06    560\n",
      "2020-07    659\n",
      "2020-08    498\n",
      "2020-09    385\n",
      "2020-10     50\n",
      "Freq: M, dtype: int64\n"
     ]
    },
    {
     "name": "stderr",
     "output_type": "stream",
     "text": [
      "/var/folders/f1/x77kh9w17j56ckntc3dq_ztm0000gn/T/ipykernel_12051/1484176937.py:2: SettingWithCopyWarning: \n",
      "A value is trying to be set on a copy of a slice from a DataFrame.\n",
      "Try using .loc[row_indexer,col_indexer] = value instead\n",
      "\n",
      "See the caveats in the documentation: https://pandas.pydata.org/pandas-docs/stable/user_guide/indexing.html#returning-a-view-versus-a-copy\n",
      "  df_fees_incident2['created_at_y'] = pd.to_datetime(df_fees_incident2['created_at_y'], errors='coerce')\n",
      "/var/folders/f1/x77kh9w17j56ckntc3dq_ztm0000gn/T/ipykernel_12051/1484176937.py:9: SettingWithCopyWarning: \n",
      "A value is trying to be set on a copy of a slice from a DataFrame.\n",
      "Try using .loc[row_indexer,col_indexer] = value instead\n",
      "\n",
      "See the caveats in the documentation: https://pandas.pydata.org/pandas-docs/stable/user_guide/indexing.html#returning-a-view-versus-a-copy\n",
      "  df_fees_incident2['month'] = df_fees_incident2['created_at_y'].dt.to_period('M')\n"
     ]
    }
   ],
   "source": [
    "# Ensure 'created_at_y' is converted to datetime\n",
    "df_fees_incident2['created_at_y'] = pd.to_datetime(df_fees_incident2['created_at_y'], errors='coerce')\n",
    "\n",
    "# Check for non-convertible entries if there are any\n",
    "if df_fees_incident2['created_at_y'].isnull().any():\n",
    "    print(\"Some dates couldn't be converted. Please check the data for invalid entries.\")\n",
    "\n",
    "# Extract month from the 'created_at_y' series\n",
    "df_fees_incident2['month'] = df_fees_incident2['created_at_y'].dt.to_period('M') \n",
    "\n",
    "# Tabulate the count by month\n",
    "monthly_counts_i = df_fees_incident2.groupby('month').size()\n",
    "\n",
    "# Display the result\n",
    "print(monthly_counts_i)"
   ]
  },
  {
   "cell_type": "code",
   "execution_count": 44,
   "id": "64aa6422",
   "metadata": {},
   "outputs": [
    {
     "name": "stderr",
     "output_type": "stream",
     "text": [
      "/var/folders/f1/x77kh9w17j56ckntc3dq_ztm0000gn/T/ipykernel_12051/1499821579.py:1: FutureWarning: 'M' is deprecated and will be removed in a future version, please use 'ME' instead.\n",
      "  end_days = pd.date_range(start=df_fees_incident2['created_at_y'].min(),\n"
     ]
    },
    {
     "data": {
      "image/png": "[encoded data removed]",
      "text/plain": [
       "<Figure size 1000x600 with 1 Axes>"
      ]
     },
     "metadata": {},
     "output_type": "display_data"
    }
   ],
   "source": [
    "end_days = pd.date_range(start=df_fees_incident2['created_at_y'].min(),\n",
    "                         end=df_fees_incident2['created_at_y'].max(),\n",
    "                         freq='M')  # 'M' stands for Month End\n",
    "\n",
    "plt.figure(figsize=(10, 6))\n",
    "\n",
    "# Define the order of plotting\n",
    "statuses = ['accepted', 'rejected', 'cancelled']\n",
    "\n",
    "# Plot histogram for each status\n",
    "for status in statuses:\n",
    "    plt.hist(df_fees_incident2[df_fees_incident2['status_x'] == status]['created_at_y'], \n",
    "             bins=20, alpha=0.5, label=status.capitalize())\n",
    "\n",
    "for date in end_days:\n",
    "    plt.axvline(x=date, color='black', linestyle='--', linewidth=0.7)\n",
    "\n",
    "plt.xlabel('Creation of first cash advance (date)')\n",
    "plt.ylabel('Frequency')\n",
    "plt.title('Incident rate: Histogram of students cohorts by status of the fees')\n",
    "\n",
    "plt.legend(loc='upper right')\n",
    "plt.show()"
   ]
  },
  {
   "cell_type": "markdown",
   "id": "72dd5154",
   "metadata": {},
   "source": [
    "3. **Revenue Generated by the Cohort:** Calculate the total revenue generated by each cohort over months to assess the financial impact of user behavior."
   ]
  },
  {
   "cell_type": "code",
   "execution_count": 45,
   "id": "af554f0a",
   "metadata": {},
   "outputs": [
    {
     "data": {
      "text/plain": [
       "id_x                              0\n",
       "transfer_type                     0\n",
       "reimbursement_date                0\n",
       "updated_at_y                      0\n",
       "created_at_y                      0\n",
       "status_y                          0\n",
       "id_y                              0\n",
       "charge_moment                     0\n",
       "amount                            0\n",
       "month                             0\n",
       "cash_request_id                   0\n",
       "created_at_x                      0\n",
       "reason                            0\n",
       "total_amount                      0\n",
       "type                              0\n",
       "status_x                          0\n",
       "updated_at_x                      0\n",
       "user_id                         906\n",
       "cash_request_received_date     1294\n",
       "send_at                        3487\n",
       "paid_at                        5619\n",
       "moderated_at                   9942\n",
       "reco_last_update              14163\n",
       "recovery_status               14163\n",
       "reco_creation                 14163\n",
       "from_date                     14308\n",
       "to_date                       14545\n",
       "money_back_date               16114\n",
       "category                      18861\n",
       "deleted_account_id            20151\n",
       "dtype: int64"
      ]
     },
     "execution_count": 45,
     "metadata": {},
     "output_type": "execute_result"
    }
   ],
   "source": [
    "df_fees_cash.isnull().sum().sort_values(ascending=True)"
   ]
  },
  {
   "cell_type": "code",
   "execution_count": 46,
   "id": "9419b333",
   "metadata": {},
   "outputs": [
    {
     "data": {
      "text/plain": [
       "count    21057.00\n",
       "mean        81.83\n",
       "std         26.95\n",
       "min          1.00\n",
       "25%         50.00\n",
       "50%        100.00\n",
       "75%        100.00\n",
       "max        200.00\n",
       "Name: amount, dtype: float64"
      ]
     },
     "execution_count": 46,
     "metadata": {},
     "output_type": "execute_result"
    }
   ],
   "source": [
    "round(df_fees_cash['amount'].describe(),2)"
   ]
  },
  {
   "cell_type": "code",
   "execution_count": 47,
   "id": "f8e92a9c",
   "metadata": {},
   "outputs": [
    {
     "data": {
      "image/png": "[encoded data removed]",
      "text/plain": [
       "<Figure size 640x480 with 1 Axes>"
      ]
     },
     "metadata": {},
     "output_type": "display_data"
    }
   ],
   "source": [
    "sns.boxplot(data=df_fees_cash.amount, \n",
    "        color='blue')\n",
    "\n",
    "plt.ylabel(\"Amount of fees\")\n",
    "plt.title(\"Box plot of the amount of fees\")\n",
    "\n",
    "plt.show()"
   ]
  },
  {
   "cell_type": "code",
   "execution_count": 48,
   "id": "54256376",
   "metadata": {},
   "outputs": [
    {
     "data": {
      "image/png": "[encoded data removed]",
      "text/plain": [
       "<Figure size 640x480 with 1 Axes>"
      ]
     },
     "metadata": {},
     "output_type": "display_data"
    }
   ],
   "source": [
    "sns.histplot(df_fees_cash.amount, bins=\"auto\", \n",
    "        color='blue', edgecolor='black', alpha=0.7)\n",
    "\n",
    "plt.xlabel(\"Amount of fees\")\n",
    "plt.ylabel(\"Count\")\n",
    "plt.title(\"Histogram of the amount of fees\")\n",
    "\n",
    "plt.show()"
   ]
  },
  {
   "cell_type": "code",
   "execution_count": 54,
   "id": "8c156ea3",
   "metadata": {},
   "outputs": [
    {
     "name": "stdout",
     "output_type": "stream",
     "text": [
      "     month    amount\n",
      "0  2020-04     100.0\n",
      "1  2020-05   24510.0\n",
      "2  2020-06  162993.0\n",
      "3  2020-07  186900.0\n",
      "4  2020-08  307038.0\n",
      "5  2020-09  384598.0\n",
      "6  2020-10  648295.0\n",
      "7  2020-11    8735.0\n"
     ]
    }
   ],
   "source": [
    "df_fees_cash['month'] = df_fees_cash['created_at_y'].dt.to_period('M') # generate month date\n",
    "monthly_sum = df_fees_cash.groupby('month')['amount'].sum() # sum amount by month\n",
    "monthly_sum_df = monthly_sum.reset_index() # Reset the index to convert the result to a DataFrame\n",
    "\n",
    "print(monthly_sum_df)"
   ]
  },
  {
   "cell_type": "code",
   "execution_count": 55,
   "id": "a4ac06a5",
   "metadata": {},
   "outputs": [
    {
     "data": {
      "image/png": "[encoded data removed]",
      "text/plain": [
       "<Figure size 1000x600 with 1 Axes>"
      ]
     },
     "metadata": {},
     "output_type": "display_data"
    }
   ],
   "source": [
    "# Define the abbreviated month names\n",
    "month_labels = ['APR', 'MAY', 'JUN', 'JUL', 'AUG', 'SEP', 'OCT', 'NOV']\n",
    "\n",
    "# Plotting the bar chart\n",
    "plt.figure(figsize=(10, 6))\n",
    "plt.bar(monthly_sum_df['month'].astype(str), monthly_sum_df['amount'], color='blue', edgecolor='black', alpha=0.7)\n",
    "\n",
    "# Set primary x-ticks for month labels\n",
    "plt.xticks(ticks=range(len(month_labels)), labels=month_labels, rotation=0)\n",
    "\n",
    "# Access current Axes\n",
    "ax = plt.gca()\n",
    "\n",
    "# Add secondary x-tick for the year\n",
    "ax.set_xticks([3.5], minor=True)  # Center \"2020\" below the sequence of months\n",
    "ax.set_xticklabels(['2020'], minor=True)\n",
    "\n",
    "# Adjust tick parameters\n",
    "ax.tick_params(axis='x', which='minor', length=0, pad=20)\n",
    "\n",
    "plt.xlabel('Creation of first cash advance (month)')\n",
    "plt.ylabel('Sum of the amount of fees')\n",
    "plt.title('Bar plot of the revenue generated by cohort')\n",
    "\n",
    "# Show plot\n",
    "plt.show()"
   ]
  }
 ],
 "metadata": {
  "kernelspec": {
   "display_name": "Python 3 (ipykernel)",
   "language": "python",
   "name": "python3"
  },
  "language_info": {
   "codemirror_mode": {
    "name": "ipython",
    "version": 3
   },
   "file_extension": ".py",
   "mimetype": "text/x-python",
   "name": "python",
   "nbconvert_exporter": "python",
   "pygments_lexer": "ipython3",
   "version": "3.12.4"
  }
 },
 "nbformat": 4,
 "nbformat_minor": 5
}
