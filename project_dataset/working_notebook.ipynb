{
 "cells": [
  {
   "cell_type": "code",
   "execution_count": 1,
   "id": "50919513-64d4-44d6-86b8-b2a589b5e7f1",
   "metadata": {},
   "outputs": [],
   "source": [
    "import pandas as pd\n",
    "import numpy as np"
   ]
  },
  {
   "cell_type": "code",
   "execution_count": 2,
   "id": "c03e455a-622b-421e-824a-f5148a4c9c2e",
   "metadata": {},
   "outputs": [],
   "source": [
    "df = pd.read_csv(\"extract - cash request - data analyst.csv\")"
   ]
  },
  {
   "cell_type": "code",
   "execution_count": 3,
   "id": "84a0fa25-45fa-4634-85b7-c0e9eef9bafd",
   "metadata": {},
   "outputs": [],
   "source": [
    "df.columns = [col.lower().replace(\" \", \"_\") for col in df.columns] # standarizing to snake_case"
   ]
  },
  {
   "cell_type": "code",
   "execution_count": 4,
   "id": "b139f162-cbca-4230-b547-f136a46b0e59",
   "metadata": {},
   "outputs": [
    {
     "name": "stdout",
     "output_type": "stream",
     "text": [
      "<class 'pandas.core.frame.DataFrame'>\n",
      "RangeIndex: 23970 entries, 0 to 23969\n",
      "Data columns (total 16 columns):\n",
      " #   Column                      Non-Null Count  Dtype  \n",
      "---  ------                      --------------  -----  \n",
      " 0   id                          23970 non-null  int64  \n",
      " 1   amount                      23970 non-null  float64\n",
      " 2   status                      23970 non-null  object \n",
      " 3   created_at                  23970 non-null  object \n",
      " 4   updated_at                  23970 non-null  object \n",
      " 5   user_id                     21867 non-null  float64\n",
      " 6   moderated_at                16035 non-null  object \n",
      " 7   deleted_account_id          2104 non-null   float64\n",
      " 8   reimbursement_date          23970 non-null  object \n",
      " 9   cash_request_received_date  16289 non-null  object \n",
      " 10  money_back_date             16543 non-null  object \n",
      " 11  transfer_type               23970 non-null  object \n",
      " 12  send_at                     16641 non-null  object \n",
      " 13  recovery_status             3330 non-null   object \n",
      " 14  reco_creation               3330 non-null   object \n",
      " 15  reco_last_update            3330 non-null   object \n",
      "dtypes: float64(3), int64(1), object(12)\n",
      "memory usage: 2.9+ MB\n"
     ]
    }
   ],
   "source": [
    "# information about my dataframe\n",
    "df.info()"
   ]
  },
  {
   "cell_type": "code",
   "execution_count": 5,
   "id": "876e5324-9223-4147-b9c3-f45e81afdf32",
   "metadata": {},
   "outputs": [
    {
     "data": {
      "text/plain": [
       "(23970, 16)"
      ]
     },
     "execution_count": 5,
     "metadata": {},
     "output_type": "execute_result"
    }
   ],
   "source": [
    "# How many rows and columns I have\n",
    "df.shape"
   ]
  },
  {
   "cell_type": "code",
   "execution_count": 6,
   "id": "096360a4",
   "metadata": {},
   "outputs": [
    {
     "data": {
      "text/html": [
       "<div>\n",
       "<style scoped>\n",
       "    .dataframe tbody tr th:only-of-type {\n",
       "        vertical-align: middle;\n",
       "    }\n",
       "\n",
       "    .dataframe tbody tr th {\n",
       "        vertical-align: top;\n",
       "    }\n",
       "\n",
       "    .dataframe thead th {\n",
       "        text-align: right;\n",
       "    }\n",
       "</style>\n",
       "<table border=\"1\" class=\"dataframe\">\n",
       "  <thead>\n",
       "    <tr style=\"text-align: right;\">\n",
       "      <th></th>\n",
       "      <th>id</th>\n",
       "      <th>amount</th>\n",
       "      <th>status</th>\n",
       "      <th>created_at</th>\n",
       "      <th>updated_at</th>\n",
       "      <th>user_id</th>\n",
       "      <th>moderated_at</th>\n",
       "      <th>deleted_account_id</th>\n",
       "      <th>reimbursement_date</th>\n",
       "      <th>cash_request_received_date</th>\n",
       "      <th>money_back_date</th>\n",
       "      <th>transfer_type</th>\n",
       "      <th>send_at</th>\n",
       "      <th>recovery_status</th>\n",
       "      <th>reco_creation</th>\n",
       "      <th>reco_last_update</th>\n",
       "    </tr>\n",
       "  </thead>\n",
       "  <tbody>\n",
       "    <tr>\n",
       "      <th>0</th>\n",
       "      <td>5</td>\n",
       "      <td>100.0</td>\n",
       "      <td>rejected</td>\n",
       "      <td>2019-12-10 19:05:21.596873+00</td>\n",
       "      <td>2019-12-11 16:47:42.40783+00</td>\n",
       "      <td>804.0</td>\n",
       "      <td>2019-12-11 16:47:42.405646+00</td>\n",
       "      <td>NaN</td>\n",
       "      <td>2020-01-09 19:05:21.596363+00</td>\n",
       "      <td>NaN</td>\n",
       "      <td>NaN</td>\n",
       "      <td>regular</td>\n",
       "      <td>NaN</td>\n",
       "      <td>NaN</td>\n",
       "      <td>NaN</td>\n",
       "      <td>NaN</td>\n",
       "    </tr>\n",
       "    <tr>\n",
       "      <th>1</th>\n",
       "      <td>70</td>\n",
       "      <td>100.0</td>\n",
       "      <td>rejected</td>\n",
       "      <td>2019-12-10 19:50:12.34778+00</td>\n",
       "      <td>2019-12-11 14:24:22.900054+00</td>\n",
       "      <td>231.0</td>\n",
       "      <td>2019-12-11 14:24:22.897988+00</td>\n",
       "      <td>NaN</td>\n",
       "      <td>2020-01-09 19:50:12.34778+00</td>\n",
       "      <td>NaN</td>\n",
       "      <td>NaN</td>\n",
       "      <td>regular</td>\n",
       "      <td>NaN</td>\n",
       "      <td>NaN</td>\n",
       "      <td>NaN</td>\n",
       "      <td>NaN</td>\n",
       "    </tr>\n",
       "    <tr>\n",
       "      <th>2</th>\n",
       "      <td>7</td>\n",
       "      <td>100.0</td>\n",
       "      <td>rejected</td>\n",
       "      <td>2019-12-10 19:13:35.82546+00</td>\n",
       "      <td>2019-12-11 09:46:59.779773+00</td>\n",
       "      <td>191.0</td>\n",
       "      <td>2019-12-11 09:46:59.777728+00</td>\n",
       "      <td>NaN</td>\n",
       "      <td>2020-01-09 19:13:35.825041+00</td>\n",
       "      <td>NaN</td>\n",
       "      <td>NaN</td>\n",
       "      <td>regular</td>\n",
       "      <td>NaN</td>\n",
       "      <td>NaN</td>\n",
       "      <td>NaN</td>\n",
       "      <td>NaN</td>\n",
       "    </tr>\n",
       "    <tr>\n",
       "      <th>3</th>\n",
       "      <td>10</td>\n",
       "      <td>99.0</td>\n",
       "      <td>rejected</td>\n",
       "      <td>2019-12-10 19:16:10.880172+00</td>\n",
       "      <td>2019-12-18 14:26:18.136163+00</td>\n",
       "      <td>761.0</td>\n",
       "      <td>2019-12-18 14:26:18.128407+00</td>\n",
       "      <td>NaN</td>\n",
       "      <td>2020-01-09 19:16:10.879606+00</td>\n",
       "      <td>NaN</td>\n",
       "      <td>NaN</td>\n",
       "      <td>regular</td>\n",
       "      <td>NaN</td>\n",
       "      <td>NaN</td>\n",
       "      <td>NaN</td>\n",
       "      <td>NaN</td>\n",
       "    </tr>\n",
       "    <tr>\n",
       "      <th>4</th>\n",
       "      <td>1594</td>\n",
       "      <td>100.0</td>\n",
       "      <td>rejected</td>\n",
       "      <td>2020-05-06 09:59:38.877376+00</td>\n",
       "      <td>2020-05-07 09:21:55.34008+00</td>\n",
       "      <td>7686.0</td>\n",
       "      <td>2020-05-07 09:21:55.320193+00</td>\n",
       "      <td>NaN</td>\n",
       "      <td>2020-06-05 22:00:00+00</td>\n",
       "      <td>NaN</td>\n",
       "      <td>NaN</td>\n",
       "      <td>regular</td>\n",
       "      <td>NaN</td>\n",
       "      <td>NaN</td>\n",
       "      <td>NaN</td>\n",
       "      <td>NaN</td>\n",
       "    </tr>\n",
       "  </tbody>\n",
       "</table>\n",
       "</div>"
      ],
      "text/plain": [
       "     id  amount    status                     created_at  \\\n",
       "0     5   100.0  rejected  2019-12-10 19:05:21.596873+00   \n",
       "1    70   100.0  rejected   2019-12-10 19:50:12.34778+00   \n",
       "2     7   100.0  rejected   2019-12-10 19:13:35.82546+00   \n",
       "3    10    99.0  rejected  2019-12-10 19:16:10.880172+00   \n",
       "4  1594   100.0  rejected  2020-05-06 09:59:38.877376+00   \n",
       "\n",
       "                      updated_at  user_id                   moderated_at  \\\n",
       "0   2019-12-11 16:47:42.40783+00    804.0  2019-12-11 16:47:42.405646+00   \n",
       "1  2019-12-11 14:24:22.900054+00    231.0  2019-12-11 14:24:22.897988+00   \n",
       "2  2019-12-11 09:46:59.779773+00    191.0  2019-12-11 09:46:59.777728+00   \n",
       "3  2019-12-18 14:26:18.136163+00    761.0  2019-12-18 14:26:18.128407+00   \n",
       "4   2020-05-07 09:21:55.34008+00   7686.0  2020-05-07 09:21:55.320193+00   \n",
       "\n",
       "   deleted_account_id             reimbursement_date  \\\n",
       "0                 NaN  2020-01-09 19:05:21.596363+00   \n",
       "1                 NaN   2020-01-09 19:50:12.34778+00   \n",
       "2                 NaN  2020-01-09 19:13:35.825041+00   \n",
       "3                 NaN  2020-01-09 19:16:10.879606+00   \n",
       "4                 NaN         2020-06-05 22:00:00+00   \n",
       "\n",
       "  cash_request_received_date money_back_date transfer_type send_at  \\\n",
       "0                        NaN             NaN       regular     NaN   \n",
       "1                        NaN             NaN       regular     NaN   \n",
       "2                        NaN             NaN       regular     NaN   \n",
       "3                        NaN             NaN       regular     NaN   \n",
       "4                        NaN             NaN       regular     NaN   \n",
       "\n",
       "  recovery_status reco_creation reco_last_update  \n",
       "0             NaN           NaN              NaN  \n",
       "1             NaN           NaN              NaN  \n",
       "2             NaN           NaN              NaN  \n",
       "3             NaN           NaN              NaN  \n",
       "4             NaN           NaN              NaN  "
      ]
     },
     "execution_count": 6,
     "metadata": {},
     "output_type": "execute_result"
    }
   ],
   "source": [
    "# First 5 rows of dataframe\n",
    "df.head()"
   ]
  },
  {
   "cell_type": "code",
   "execution_count": 7,
   "id": "a6ab3514",
   "metadata": {},
   "outputs": [
    {
     "ename": "ValueError",
     "evalue": "time data \"2019-12-20 17:29:18+00\" doesn't match format \"%Y-%m-%d %H:%M:%S.%f%z\", at position 157. You might want to try:\n    - passing `format` if your strings have a consistent format;\n    - passing `format='ISO8601'` if your strings are all ISO8601 but not necessarily in exactly the same format;\n    - passing `format='mixed'`, and the format will be inferred for each element individually. You might want to use `dayfirst` alongside this.",
     "output_type": "error",
     "traceback": [
      "\u001b[0;31m---------------------------------------------------------------------------\u001b[0m",
      "\u001b[0;31mValueError\u001b[0m                                Traceback (most recent call last)",
      "Cell \u001b[0;32mIn[7], line 8\u001b[0m\n\u001b[1;32m      6\u001b[0m \u001b[38;5;66;03m# Step 2: Convert to datetime, handle NaN, and apply formatting\u001b[39;00m\n\u001b[1;32m      7\u001b[0m \u001b[38;5;28;01mfor\u001b[39;00m col \u001b[38;5;129;01min\u001b[39;00m date_columns:\n\u001b[0;32m----> 8\u001b[0m     df[col] \u001b[38;5;241m=\u001b[39m pd\u001b[38;5;241m.\u001b[39mto_datetime(df[col])\u001b[38;5;241m.\u001b[39mdt\u001b[38;5;241m.\u001b[39mstrftime(\u001b[38;5;124m'\u001b[39m\u001b[38;5;124m%\u001b[39m\u001b[38;5;124mY-\u001b[39m\u001b[38;5;124m%\u001b[39m\u001b[38;5;124mm-\u001b[39m\u001b[38;5;132;01m%d\u001b[39;00m\u001b[38;5;124m'\u001b[39m)\u001b[38;5;66;03m# Convert to datetime and remove timezone\u001b[39;00m\n\u001b[1;32m      9\u001b[0m     df[col] \u001b[38;5;241m=\u001b[39m pd\u001b[38;5;241m.\u001b[39mto_datetime(df[col])\u001b[38;5;66;03m# Convert to datetime and remove timezoneS\u001b[39;00m\n\u001b[1;32m     13\u001b[0m \u001b[38;5;66;03m# Print the updated DataFrame\u001b[39;00m\n",
      "File \u001b[0;32m/opt/anaconda3/lib/python3.12/site-packages/pandas/core/tools/datetimes.py:1067\u001b[0m, in \u001b[0;36mto_datetime\u001b[0;34m(arg, errors, dayfirst, yearfirst, utc, format, exact, unit, infer_datetime_format, origin, cache)\u001b[0m\n\u001b[1;32m   1065\u001b[0m         result \u001b[38;5;241m=\u001b[39m arg\u001b[38;5;241m.\u001b[39mmap(cache_array)\n\u001b[1;32m   1066\u001b[0m     \u001b[38;5;28;01melse\u001b[39;00m:\n\u001b[0;32m-> 1067\u001b[0m         values \u001b[38;5;241m=\u001b[39m convert_listlike(arg\u001b[38;5;241m.\u001b[39m_values, \u001b[38;5;28mformat\u001b[39m)\n\u001b[1;32m   1068\u001b[0m         result \u001b[38;5;241m=\u001b[39m arg\u001b[38;5;241m.\u001b[39m_constructor(values, index\u001b[38;5;241m=\u001b[39marg\u001b[38;5;241m.\u001b[39mindex, name\u001b[38;5;241m=\u001b[39marg\u001b[38;5;241m.\u001b[39mname)\n\u001b[1;32m   1069\u001b[0m \u001b[38;5;28;01melif\u001b[39;00m \u001b[38;5;28misinstance\u001b[39m(arg, (ABCDataFrame, abc\u001b[38;5;241m.\u001b[39mMutableMapping)):\n",
      "File \u001b[0;32m/opt/anaconda3/lib/python3.12/site-packages/pandas/core/tools/datetimes.py:433\u001b[0m, in \u001b[0;36m_convert_listlike_datetimes\u001b[0;34m(arg, format, name, utc, unit, errors, dayfirst, yearfirst, exact)\u001b[0m\n\u001b[1;32m    431\u001b[0m \u001b[38;5;66;03m# `format` could be inferred, or user didn't ask for mixed-format parsing.\u001b[39;00m\n\u001b[1;32m    432\u001b[0m \u001b[38;5;28;01mif\u001b[39;00m \u001b[38;5;28mformat\u001b[39m \u001b[38;5;129;01mis\u001b[39;00m \u001b[38;5;129;01mnot\u001b[39;00m \u001b[38;5;28;01mNone\u001b[39;00m \u001b[38;5;129;01mand\u001b[39;00m \u001b[38;5;28mformat\u001b[39m \u001b[38;5;241m!=\u001b[39m \u001b[38;5;124m\"\u001b[39m\u001b[38;5;124mmixed\u001b[39m\u001b[38;5;124m\"\u001b[39m:\n\u001b[0;32m--> 433\u001b[0m     \u001b[38;5;28;01mreturn\u001b[39;00m _array_strptime_with_fallback(arg, name, utc, \u001b[38;5;28mformat\u001b[39m, exact, errors)\n\u001b[1;32m    435\u001b[0m result, tz_parsed \u001b[38;5;241m=\u001b[39m objects_to_datetime64(\n\u001b[1;32m    436\u001b[0m     arg,\n\u001b[1;32m    437\u001b[0m     dayfirst\u001b[38;5;241m=\u001b[39mdayfirst,\n\u001b[0;32m   (...)\u001b[0m\n\u001b[1;32m    441\u001b[0m     allow_object\u001b[38;5;241m=\u001b[39m\u001b[38;5;28;01mTrue\u001b[39;00m,\n\u001b[1;32m    442\u001b[0m )\n\u001b[1;32m    444\u001b[0m \u001b[38;5;28;01mif\u001b[39;00m tz_parsed \u001b[38;5;129;01mis\u001b[39;00m \u001b[38;5;129;01mnot\u001b[39;00m \u001b[38;5;28;01mNone\u001b[39;00m:\n\u001b[1;32m    445\u001b[0m     \u001b[38;5;66;03m# We can take a shortcut since the datetime64 numpy array\u001b[39;00m\n\u001b[1;32m    446\u001b[0m     \u001b[38;5;66;03m# is in UTC\u001b[39;00m\n",
      "File \u001b[0;32m/opt/anaconda3/lib/python3.12/site-packages/pandas/core/tools/datetimes.py:467\u001b[0m, in \u001b[0;36m_array_strptime_with_fallback\u001b[0;34m(arg, name, utc, fmt, exact, errors)\u001b[0m\n\u001b[1;32m    456\u001b[0m \u001b[38;5;28;01mdef\u001b[39;00m \u001b[38;5;21m_array_strptime_with_fallback\u001b[39m(\n\u001b[1;32m    457\u001b[0m     arg,\n\u001b[1;32m    458\u001b[0m     name,\n\u001b[0;32m   (...)\u001b[0m\n\u001b[1;32m    462\u001b[0m     errors: \u001b[38;5;28mstr\u001b[39m,\n\u001b[1;32m    463\u001b[0m ) \u001b[38;5;241m-\u001b[39m\u001b[38;5;241m>\u001b[39m Index:\n\u001b[1;32m    464\u001b[0m \u001b[38;5;250m    \u001b[39m\u001b[38;5;124;03m\"\"\"\u001b[39;00m\n\u001b[1;32m    465\u001b[0m \u001b[38;5;124;03m    Call array_strptime, with fallback behavior depending on 'errors'.\u001b[39;00m\n\u001b[1;32m    466\u001b[0m \u001b[38;5;124;03m    \"\"\"\u001b[39;00m\n\u001b[0;32m--> 467\u001b[0m     result, tz_out \u001b[38;5;241m=\u001b[39m array_strptime(arg, fmt, exact\u001b[38;5;241m=\u001b[39mexact, errors\u001b[38;5;241m=\u001b[39merrors, utc\u001b[38;5;241m=\u001b[39mutc)\n\u001b[1;32m    468\u001b[0m     \u001b[38;5;28;01mif\u001b[39;00m tz_out \u001b[38;5;129;01mis\u001b[39;00m \u001b[38;5;129;01mnot\u001b[39;00m \u001b[38;5;28;01mNone\u001b[39;00m:\n\u001b[1;32m    469\u001b[0m         unit \u001b[38;5;241m=\u001b[39m np\u001b[38;5;241m.\u001b[39mdatetime_data(result\u001b[38;5;241m.\u001b[39mdtype)[\u001b[38;5;241m0\u001b[39m]\n",
      "File \u001b[0;32mstrptime.pyx:501\u001b[0m, in \u001b[0;36mpandas._libs.tslibs.strptime.array_strptime\u001b[0;34m()\u001b[0m\n",
      "File \u001b[0;32mstrptime.pyx:451\u001b[0m, in \u001b[0;36mpandas._libs.tslibs.strptime.array_strptime\u001b[0;34m()\u001b[0m\n",
      "File \u001b[0;32mstrptime.pyx:583\u001b[0m, in \u001b[0;36mpandas._libs.tslibs.strptime._parse_with_format\u001b[0;34m()\u001b[0m\n",
      "\u001b[0;31mValueError\u001b[0m: time data \"2019-12-20 17:29:18+00\" doesn't match format \"%Y-%m-%d %H:%M:%S.%f%z\", at position 157. You might want to try:\n    - passing `format` if your strings have a consistent format;\n    - passing `format='ISO8601'` if your strings are all ISO8601 but not necessarily in exactly the same format;\n    - passing `format='mixed'`, and the format will be inferred for each element individually. You might want to use `dayfirst` alongside this."
     ]
    }
   ],
   "source": [
    "# Changed the time stamp style in the dataframe. This was complicated took a lot of time, I got help for this code.\n",
    "\n",
    "\n",
    "date_columns = [col for col in df.columns if pd.api.types.is_datetime64_any_dtype(df[col]) or col.endswith('_at') or col.endswith('_date')]\n",
    "\n",
    "# Step 2: Convert to datetime, handle NaN, and apply formatting\n",
    "for col in date_columns:\n",
    "    df[col] = pd.to_datetime(df[col]).dt.strftime('%Y-%m-%d')# Convert to datetime and remove timezone\n",
    "    df[col] = pd.to_datetime(df[col])# Convert to datetime and remove timezoneS\n",
    "\n",
    "    \n",
    "\n",
    "# Print the updated DataFrame\n",
    "df"
   ]
  },
  {
   "cell_type": "code",
   "execution_count": 8,
   "id": "267348b7-a9a3-4f43-b0f8-41a36ea376b5",
   "metadata": {},
   "outputs": [
    {
     "name": "stdout",
     "output_type": "stream",
     "text": [
      "id                                0\n",
      "amount                            0\n",
      "status                            0\n",
      "created_at                        0\n",
      "updated_at                        0\n",
      "user_id                        2103\n",
      "moderated_at                   7935\n",
      "deleted_account_id            21866\n",
      "reimbursement_date                0\n",
      "cash_request_received_date     7681\n",
      "money_back_date                7427\n",
      "transfer_type                     0\n",
      "send_at                        7329\n",
      "recovery_status               20640\n",
      "reco_creation                 20640\n",
      "reco_last_update              20640\n",
      "dtype: int64\n"
     ]
    }
   ],
   "source": [
    "# I wanted to see the difference between isnull and isna\n",
    "\n",
    "print(df.isnull().sum())"
   ]
  },
  {
   "cell_type": "code",
   "execution_count": 9,
   "id": "f5331b3e",
   "metadata": {},
   "outputs": [
    {
     "name": "stdout",
     "output_type": "stream",
     "text": [
      "id                                0\n",
      "amount                            0\n",
      "status                            0\n",
      "created_at                        0\n",
      "updated_at                        0\n",
      "user_id                        2103\n",
      "moderated_at                   7935\n",
      "deleted_account_id            21866\n",
      "reimbursement_date                0\n",
      "cash_request_received_date     7681\n",
      "money_back_date                7427\n",
      "transfer_type                     0\n",
      "send_at                        7329\n",
      "recovery_status               20640\n",
      "reco_creation                 20640\n",
      "reco_last_update              20640\n",
      "dtype: int64\n"
     ]
    }
   ],
   "source": [
    "print(df.isna().sum())\n"
   ]
  },
  {
   "cell_type": "code",
   "execution_count": 10,
   "id": "426b0f47-1b0a-433d-9093-cf0245261fd2",
   "metadata": {},
   "outputs": [],
   "source": [
    "n_rows = df.shape[0]\n",
    "n_columns = df.shape[1]"
   ]
  },
  {
   "cell_type": "code",
   "execution_count": 11,
   "id": "3996a067-e978-4975-8aee-6553ad6c9a13",
   "metadata": {},
   "outputs": [
    {
     "data": {
      "text/plain": [
       "91.22"
      ]
     },
     "execution_count": 11,
     "metadata": {},
     "output_type": "execute_result"
    }
   ],
   "source": [
    "round(int(df[\"deleted_account_id\"].isnull().sum()) / n_rows * 100, 2)"
   ]
  },
  {
   "cell_type": "code",
   "execution_count": 12,
   "id": "9e9b3dde-e769-41a2-898a-33bc5ab04319",
   "metadata": {},
   "outputs": [
    {
     "name": "stdout",
     "output_type": "stream",
     "text": [
      "0\n"
     ]
    }
   ],
   "source": [
    "# To see if there is duplicated datas\n",
    "print(df.duplicated().sum())"
   ]
  },
  {
   "cell_type": "code",
   "execution_count": 13,
   "id": "ce4e9fc2-49f5-4f99-a1e4-388bdac944d5",
   "metadata": {},
   "outputs": [
    {
     "data": {
      "text/plain": [
       "id                            0\n",
       "amount                        0\n",
       "status                        0\n",
       "created_at                    0\n",
       "updated_at                    0\n",
       "user_id                       0\n",
       "moderated_at                  0\n",
       "deleted_account_id            0\n",
       "reimbursement_date            0\n",
       "cash_request_received_date    0\n",
       "money_back_date               0\n",
       "transfer_type                 0\n",
       "send_at                       0\n",
       "recovery_status               0\n",
       "reco_creation                 0\n",
       "reco_last_update              0\n",
       "dtype: int64"
      ]
     },
     "execution_count": 13,
     "metadata": {},
     "output_type": "execute_result"
    }
   ],
   "source": [
    "# To see if there is empty spaces\n",
    "df.eq(\" \").sum()"
   ]
  },
  {
   "cell_type": "code",
   "execution_count": 14,
   "id": "1fb6b6de-3767-4aac-a01b-e398b7823b73",
   "metadata": {},
   "outputs": [],
   "source": [
    "numericals = df.select_dtypes(include=\"number\")\n",
    "categoricals = df.select_dtypes(exclude=\"number\")\n"
   ]
  },
  {
   "cell_type": "code",
   "execution_count": 15,
   "id": "389658eb-9a68-479f-8a03-03b96f62607c",
   "metadata": {},
   "outputs": [
    {
     "data": {
      "text/html": [
       "<div>\n",
       "<style scoped>\n",
       "    .dataframe tbody tr th:only-of-type {\n",
       "        vertical-align: middle;\n",
       "    }\n",
       "\n",
       "    .dataframe tbody tr th {\n",
       "        vertical-align: top;\n",
       "    }\n",
       "\n",
       "    .dataframe thead th {\n",
       "        text-align: right;\n",
       "    }\n",
       "</style>\n",
       "<table border=\"1\" class=\"dataframe\">\n",
       "  <thead>\n",
       "    <tr style=\"text-align: right;\">\n",
       "      <th></th>\n",
       "      <th>id</th>\n",
       "      <th>amount</th>\n",
       "      <th>user_id</th>\n",
       "      <th>deleted_account_id</th>\n",
       "    </tr>\n",
       "  </thead>\n",
       "  <tbody>\n",
       "    <tr>\n",
       "      <th>0</th>\n",
       "      <td>5</td>\n",
       "      <td>100.0</td>\n",
       "      <td>804.0</td>\n",
       "      <td>NaN</td>\n",
       "    </tr>\n",
       "    <tr>\n",
       "      <th>1</th>\n",
       "      <td>70</td>\n",
       "      <td>100.0</td>\n",
       "      <td>231.0</td>\n",
       "      <td>NaN</td>\n",
       "    </tr>\n",
       "    <tr>\n",
       "      <th>2</th>\n",
       "      <td>7</td>\n",
       "      <td>100.0</td>\n",
       "      <td>191.0</td>\n",
       "      <td>NaN</td>\n",
       "    </tr>\n",
       "    <tr>\n",
       "      <th>3</th>\n",
       "      <td>10</td>\n",
       "      <td>99.0</td>\n",
       "      <td>761.0</td>\n",
       "      <td>NaN</td>\n",
       "    </tr>\n",
       "    <tr>\n",
       "      <th>4</th>\n",
       "      <td>1594</td>\n",
       "      <td>100.0</td>\n",
       "      <td>7686.0</td>\n",
       "      <td>NaN</td>\n",
       "    </tr>\n",
       "    <tr>\n",
       "      <th>...</th>\n",
       "      <td>...</td>\n",
       "      <td>...</td>\n",
       "      <td>...</td>\n",
       "      <td>...</td>\n",
       "    </tr>\n",
       "    <tr>\n",
       "      <th>23965</th>\n",
       "      <td>20616</td>\n",
       "      <td>100.0</td>\n",
       "      <td>13681.0</td>\n",
       "      <td>NaN</td>\n",
       "    </tr>\n",
       "    <tr>\n",
       "      <th>23966</th>\n",
       "      <td>25243</td>\n",
       "      <td>50.0</td>\n",
       "      <td>NaN</td>\n",
       "      <td>30367.0</td>\n",
       "    </tr>\n",
       "    <tr>\n",
       "      <th>23967</th>\n",
       "      <td>22357</td>\n",
       "      <td>100.0</td>\n",
       "      <td>82122.0</td>\n",
       "      <td>NaN</td>\n",
       "    </tr>\n",
       "    <tr>\n",
       "      <th>23968</th>\n",
       "      <td>20256</td>\n",
       "      <td>100.0</td>\n",
       "      <td>64517.0</td>\n",
       "      <td>NaN</td>\n",
       "    </tr>\n",
       "    <tr>\n",
       "      <th>23969</th>\n",
       "      <td>19886</td>\n",
       "      <td>100.0</td>\n",
       "      <td>44867.0</td>\n",
       "      <td>NaN</td>\n",
       "    </tr>\n",
       "  </tbody>\n",
       "</table>\n",
       "<p>23970 rows × 4 columns</p>\n",
       "</div>"
      ],
      "text/plain": [
       "          id  amount  user_id  deleted_account_id\n",
       "0          5   100.0    804.0                 NaN\n",
       "1         70   100.0    231.0                 NaN\n",
       "2          7   100.0    191.0                 NaN\n",
       "3         10    99.0    761.0                 NaN\n",
       "4       1594   100.0   7686.0                 NaN\n",
       "...      ...     ...      ...                 ...\n",
       "23965  20616   100.0  13681.0                 NaN\n",
       "23966  25243    50.0      NaN             30367.0\n",
       "23967  22357   100.0  82122.0                 NaN\n",
       "23968  20256   100.0  64517.0                 NaN\n",
       "23969  19886   100.0  44867.0                 NaN\n",
       "\n",
       "[23970 rows x 4 columns]"
      ]
     },
     "execution_count": 15,
     "metadata": {},
     "output_type": "execute_result"
    }
   ],
   "source": [
    "numericals"
   ]
  },
  {
   "cell_type": "code",
   "execution_count": 16,
   "id": "af114f90",
   "metadata": {},
   "outputs": [
    {
     "data": {
      "text/plain": [
       "array(['rejected', 'money_back', 'canceled', 'active',\n",
       "       'direct_debit_rejected', 'transaction_declined',\n",
       "       'direct_debit_sent'], dtype=object)"
      ]
     },
     "execution_count": 16,
     "metadata": {},
     "output_type": "execute_result"
    }
   ],
   "source": [
    "df[\"status\"].unique()"
   ]
  },
  {
   "cell_type": "code",
   "execution_count": 17,
   "id": "0d44ba0f",
   "metadata": {},
   "outputs": [
    {
     "data": {
      "text/plain": [
       "7"
      ]
     },
     "execution_count": 17,
     "metadata": {},
     "output_type": "execute_result"
    }
   ],
   "source": [
    "df[\"status\"].nunique()"
   ]
  },
  {
   "cell_type": "code",
   "execution_count": 18,
   "id": "d92ba196",
   "metadata": {},
   "outputs": [
    {
     "data": {
      "text/plain": [
       "0                 rejected\n",
       "1                 rejected\n",
       "2                 rejected\n",
       "3                 rejected\n",
       "4                 rejected\n",
       "               ...        \n",
       "23965           money_back\n",
       "23966           money_back\n",
       "23967           money_back\n",
       "23968           money_back\n",
       "23969    direct_debit_sent\n",
       "Name: status, Length: 23970, dtype: object"
      ]
     },
     "execution_count": 18,
     "metadata": {},
     "output_type": "execute_result"
    }
   ],
   "source": [
    "df[\"status\"] = df[\"status\"].str.strip().str.lower()\n",
    "df.status\n"
   ]
  },
  {
   "cell_type": "code",
   "execution_count": 19,
   "id": "0369fb57",
   "metadata": {},
   "outputs": [
    {
     "data": {
      "text/plain": [
       "status\n",
       "money_back               16397\n",
       "rejected                  6568\n",
       "direct_debit_rejected      831\n",
       "active                      59\n",
       "transaction_declined        48\n",
       "direct_debit_sent           34\n",
       "canceled                    33\n",
       "Name: count, dtype: int64"
      ]
     },
     "execution_count": 19,
     "metadata": {},
     "output_type": "execute_result"
    }
   ],
   "source": [
    "# Bunun yanina percentage hazirlayabilirsin\n",
    "df[\"status\"].value_counts()"
   ]
  },
  {
   "cell_type": "code",
   "execution_count": 20,
   "id": "484e95ad-b3dd-400d-8edc-5ba1d169bd4a",
   "metadata": {},
   "outputs": [
    {
     "data": {
      "text/plain": [
       "0        100\n",
       "1        100\n",
       "2        100\n",
       "3         99\n",
       "4        100\n",
       "        ... \n",
       "23965    100\n",
       "23966     50\n",
       "23967    100\n",
       "23968    100\n",
       "23969    100\n",
       "Name: amount, Length: 23970, dtype: int64"
      ]
     },
     "execution_count": 20,
     "metadata": {},
     "output_type": "execute_result"
    }
   ],
   "source": [
    "df[\"amount\"].astype(int)"
   ]
  },
  {
   "cell_type": "code",
   "execution_count": 22,
   "id": "f6b37dad",
   "metadata": {},
   "outputs": [
    {
     "name": "stdout",
     "output_type": "stream",
     "text": [
      "0       2019-12-10\n",
      "1       2019-12-10\n",
      "2       2019-12-10\n",
      "3       2019-12-10\n",
      "4       2020-05-06\n",
      "           ...    \n",
      "23965   2020-10-12\n",
      "23966   2020-10-27\n",
      "23967   2020-10-20\n",
      "23968   2020-10-10\n",
      "23969   2020-10-08\n",
      "Name: created_at, Length: 23970, dtype: datetime64[ns]\n",
      "datetime64[ns]\n"
     ]
    },
    {
     "data": {
      "text/html": [
       "<div>\n",
       "<style scoped>\n",
       "    .dataframe tbody tr th:only-of-type {\n",
       "        vertical-align: middle;\n",
       "    }\n",
       "\n",
       "    .dataframe tbody tr th {\n",
       "        vertical-align: top;\n",
       "    }\n",
       "\n",
       "    .dataframe thead th {\n",
       "        text-align: right;\n",
       "    }\n",
       "</style>\n",
       "<table border=\"1\" class=\"dataframe\">\n",
       "  <thead>\n",
       "    <tr style=\"text-align: right;\">\n",
       "      <th></th>\n",
       "      <th>id</th>\n",
       "      <th>amount</th>\n",
       "      <th>status</th>\n",
       "      <th>created_at</th>\n",
       "      <th>updated_at</th>\n",
       "      <th>user_id</th>\n",
       "      <th>moderated_at</th>\n",
       "      <th>deleted_account_id</th>\n",
       "      <th>reimbursement_date</th>\n",
       "      <th>cash_request_received_date</th>\n",
       "      <th>money_back_date</th>\n",
       "      <th>transfer_type</th>\n",
       "      <th>send_at</th>\n",
       "      <th>recovery_status</th>\n",
       "      <th>reco_creation</th>\n",
       "      <th>reco_last_update</th>\n",
       "    </tr>\n",
       "  </thead>\n",
       "  <tbody>\n",
       "    <tr>\n",
       "      <th>0</th>\n",
       "      <td>5</td>\n",
       "      <td>100.0</td>\n",
       "      <td>rejected</td>\n",
       "      <td>2019-12-10</td>\n",
       "      <td>2019-12-11</td>\n",
       "      <td>804.0</td>\n",
       "      <td>2019-12-11 16:47:42.405646+00</td>\n",
       "      <td>NaN</td>\n",
       "      <td>2020-01-09 19:05:21.596363+00</td>\n",
       "      <td>NaN</td>\n",
       "      <td>NaN</td>\n",
       "      <td>regular</td>\n",
       "      <td>NaN</td>\n",
       "      <td>NaN</td>\n",
       "      <td>NaN</td>\n",
       "      <td>NaN</td>\n",
       "    </tr>\n",
       "    <tr>\n",
       "      <th>1</th>\n",
       "      <td>70</td>\n",
       "      <td>100.0</td>\n",
       "      <td>rejected</td>\n",
       "      <td>2019-12-10</td>\n",
       "      <td>2019-12-11</td>\n",
       "      <td>231.0</td>\n",
       "      <td>2019-12-11 14:24:22.897988+00</td>\n",
       "      <td>NaN</td>\n",
       "      <td>2020-01-09 19:50:12.34778+00</td>\n",
       "      <td>NaN</td>\n",
       "      <td>NaN</td>\n",
       "      <td>regular</td>\n",
       "      <td>NaN</td>\n",
       "      <td>NaN</td>\n",
       "      <td>NaN</td>\n",
       "      <td>NaN</td>\n",
       "    </tr>\n",
       "    <tr>\n",
       "      <th>2</th>\n",
       "      <td>7</td>\n",
       "      <td>100.0</td>\n",
       "      <td>rejected</td>\n",
       "      <td>2019-12-10</td>\n",
       "      <td>2019-12-11</td>\n",
       "      <td>191.0</td>\n",
       "      <td>2019-12-11 09:46:59.777728+00</td>\n",
       "      <td>NaN</td>\n",
       "      <td>2020-01-09 19:13:35.825041+00</td>\n",
       "      <td>NaN</td>\n",
       "      <td>NaN</td>\n",
       "      <td>regular</td>\n",
       "      <td>NaN</td>\n",
       "      <td>NaN</td>\n",
       "      <td>NaN</td>\n",
       "      <td>NaN</td>\n",
       "    </tr>\n",
       "    <tr>\n",
       "      <th>3</th>\n",
       "      <td>10</td>\n",
       "      <td>99.0</td>\n",
       "      <td>rejected</td>\n",
       "      <td>2019-12-10</td>\n",
       "      <td>2019-12-18</td>\n",
       "      <td>761.0</td>\n",
       "      <td>2019-12-18 14:26:18.128407+00</td>\n",
       "      <td>NaN</td>\n",
       "      <td>2020-01-09 19:16:10.879606+00</td>\n",
       "      <td>NaN</td>\n",
       "      <td>NaN</td>\n",
       "      <td>regular</td>\n",
       "      <td>NaN</td>\n",
       "      <td>NaN</td>\n",
       "      <td>NaN</td>\n",
       "      <td>NaN</td>\n",
       "    </tr>\n",
       "    <tr>\n",
       "      <th>4</th>\n",
       "      <td>1594</td>\n",
       "      <td>100.0</td>\n",
       "      <td>rejected</td>\n",
       "      <td>2020-05-06</td>\n",
       "      <td>2020-05-07</td>\n",
       "      <td>7686.0</td>\n",
       "      <td>2020-05-07 09:21:55.320193+00</td>\n",
       "      <td>NaN</td>\n",
       "      <td>2020-06-05 22:00:00+00</td>\n",
       "      <td>NaN</td>\n",
       "      <td>NaN</td>\n",
       "      <td>regular</td>\n",
       "      <td>NaN</td>\n",
       "      <td>NaN</td>\n",
       "      <td>NaN</td>\n",
       "      <td>NaN</td>\n",
       "    </tr>\n",
       "    <tr>\n",
       "      <th>...</th>\n",
       "      <td>...</td>\n",
       "      <td>...</td>\n",
       "      <td>...</td>\n",
       "      <td>...</td>\n",
       "      <td>...</td>\n",
       "      <td>...</td>\n",
       "      <td>...</td>\n",
       "      <td>...</td>\n",
       "      <td>...</td>\n",
       "      <td>...</td>\n",
       "      <td>...</td>\n",
       "      <td>...</td>\n",
       "      <td>...</td>\n",
       "      <td>...</td>\n",
       "      <td>...</td>\n",
       "      <td>...</td>\n",
       "    </tr>\n",
       "    <tr>\n",
       "      <th>23965</th>\n",
       "      <td>20616</td>\n",
       "      <td>100.0</td>\n",
       "      <td>money_back</td>\n",
       "      <td>2020-10-12</td>\n",
       "      <td>2021-02-06</td>\n",
       "      <td>13681.0</td>\n",
       "      <td>NaN</td>\n",
       "      <td>NaN</td>\n",
       "      <td>2021-02-06 11:00:00+00</td>\n",
       "      <td>2020-10-13</td>\n",
       "      <td>2021-02-06 20:17:49.257521+00</td>\n",
       "      <td>instant</td>\n",
       "      <td>2020-10-12 13:54:24.352856+00</td>\n",
       "      <td>NaN</td>\n",
       "      <td>NaN</td>\n",
       "      <td>NaN</td>\n",
       "    </tr>\n",
       "    <tr>\n",
       "      <th>23966</th>\n",
       "      <td>25243</td>\n",
       "      <td>50.0</td>\n",
       "      <td>money_back</td>\n",
       "      <td>2020-10-27</td>\n",
       "      <td>2020-12-18</td>\n",
       "      <td>NaN</td>\n",
       "      <td>NaN</td>\n",
       "      <td>30367.0</td>\n",
       "      <td>2020-11-03 22:00:00+00</td>\n",
       "      <td>2020-10-28</td>\n",
       "      <td>2020-12-01 13:26:53.787672+00</td>\n",
       "      <td>instant</td>\n",
       "      <td>2020-10-27 14:41:57.901946+00</td>\n",
       "      <td>completed</td>\n",
       "      <td>2020-11-12 23:20:41.928788+00</td>\n",
       "      <td>2020-12-01 13:26:53.815504+00</td>\n",
       "    </tr>\n",
       "    <tr>\n",
       "      <th>23967</th>\n",
       "      <td>22357</td>\n",
       "      <td>100.0</td>\n",
       "      <td>money_back</td>\n",
       "      <td>2020-10-20</td>\n",
       "      <td>2021-02-05</td>\n",
       "      <td>82122.0</td>\n",
       "      <td>NaN</td>\n",
       "      <td>NaN</td>\n",
       "      <td>2021-02-05 11:00:00+00</td>\n",
       "      <td>2020-10-21</td>\n",
       "      <td>2021-02-05 12:19:30.626289+00</td>\n",
       "      <td>instant</td>\n",
       "      <td>2020-10-20 07:58:14.171553+00</td>\n",
       "      <td>NaN</td>\n",
       "      <td>NaN</td>\n",
       "      <td>NaN</td>\n",
       "    </tr>\n",
       "    <tr>\n",
       "      <th>23968</th>\n",
       "      <td>20256</td>\n",
       "      <td>100.0</td>\n",
       "      <td>money_back</td>\n",
       "      <td>2020-10-10</td>\n",
       "      <td>2021-02-05</td>\n",
       "      <td>64517.0</td>\n",
       "      <td>NaN</td>\n",
       "      <td>NaN</td>\n",
       "      <td>2021-02-05 11:00:00+00</td>\n",
       "      <td>2020-10-12</td>\n",
       "      <td>2021-02-05 13:14:19.689906+00</td>\n",
       "      <td>instant</td>\n",
       "      <td>2020-10-10 05:41:23.368363+00</td>\n",
       "      <td>NaN</td>\n",
       "      <td>NaN</td>\n",
       "      <td>NaN</td>\n",
       "    </tr>\n",
       "    <tr>\n",
       "      <th>23969</th>\n",
       "      <td>19886</td>\n",
       "      <td>100.0</td>\n",
       "      <td>direct_debit_sent</td>\n",
       "      <td>2020-10-08</td>\n",
       "      <td>2021-01-05</td>\n",
       "      <td>44867.0</td>\n",
       "      <td>NaN</td>\n",
       "      <td>NaN</td>\n",
       "      <td>2021-02-05 11:00:00+00</td>\n",
       "      <td>2020-10-10</td>\n",
       "      <td>NaN</td>\n",
       "      <td>instant</td>\n",
       "      <td>2020-10-08 14:17:04.526139+00</td>\n",
       "      <td>NaN</td>\n",
       "      <td>NaN</td>\n",
       "      <td>NaN</td>\n",
       "    </tr>\n",
       "  </tbody>\n",
       "</table>\n",
       "<p>23970 rows × 16 columns</p>\n",
       "</div>"
      ],
      "text/plain": [
       "          id  amount             status created_at updated_at  user_id  \\\n",
       "0          5   100.0           rejected 2019-12-10 2019-12-11    804.0   \n",
       "1         70   100.0           rejected 2019-12-10 2019-12-11    231.0   \n",
       "2          7   100.0           rejected 2019-12-10 2019-12-11    191.0   \n",
       "3         10    99.0           rejected 2019-12-10 2019-12-18    761.0   \n",
       "4       1594   100.0           rejected 2020-05-06 2020-05-07   7686.0   \n",
       "...      ...     ...                ...        ...        ...      ...   \n",
       "23965  20616   100.0         money_back 2020-10-12 2021-02-06  13681.0   \n",
       "23966  25243    50.0         money_back 2020-10-27 2020-12-18      NaN   \n",
       "23967  22357   100.0         money_back 2020-10-20 2021-02-05  82122.0   \n",
       "23968  20256   100.0         money_back 2020-10-10 2021-02-05  64517.0   \n",
       "23969  19886   100.0  direct_debit_sent 2020-10-08 2021-01-05  44867.0   \n",
       "\n",
       "                        moderated_at  deleted_account_id  \\\n",
       "0      2019-12-11 16:47:42.405646+00                 NaN   \n",
       "1      2019-12-11 14:24:22.897988+00                 NaN   \n",
       "2      2019-12-11 09:46:59.777728+00                 NaN   \n",
       "3      2019-12-18 14:26:18.128407+00                 NaN   \n",
       "4      2020-05-07 09:21:55.320193+00                 NaN   \n",
       "...                              ...                 ...   \n",
       "23965                            NaN                 NaN   \n",
       "23966                            NaN             30367.0   \n",
       "23967                            NaN                 NaN   \n",
       "23968                            NaN                 NaN   \n",
       "23969                            NaN                 NaN   \n",
       "\n",
       "                  reimbursement_date cash_request_received_date  \\\n",
       "0      2020-01-09 19:05:21.596363+00                        NaN   \n",
       "1       2020-01-09 19:50:12.34778+00                        NaN   \n",
       "2      2020-01-09 19:13:35.825041+00                        NaN   \n",
       "3      2020-01-09 19:16:10.879606+00                        NaN   \n",
       "4             2020-06-05 22:00:00+00                        NaN   \n",
       "...                              ...                        ...   \n",
       "23965         2021-02-06 11:00:00+00                 2020-10-13   \n",
       "23966         2020-11-03 22:00:00+00                 2020-10-28   \n",
       "23967         2021-02-05 11:00:00+00                 2020-10-21   \n",
       "23968         2021-02-05 11:00:00+00                 2020-10-12   \n",
       "23969         2021-02-05 11:00:00+00                 2020-10-10   \n",
       "\n",
       "                     money_back_date transfer_type  \\\n",
       "0                                NaN       regular   \n",
       "1                                NaN       regular   \n",
       "2                                NaN       regular   \n",
       "3                                NaN       regular   \n",
       "4                                NaN       regular   \n",
       "...                              ...           ...   \n",
       "23965  2021-02-06 20:17:49.257521+00       instant   \n",
       "23966  2020-12-01 13:26:53.787672+00       instant   \n",
       "23967  2021-02-05 12:19:30.626289+00       instant   \n",
       "23968  2021-02-05 13:14:19.689906+00       instant   \n",
       "23969                            NaN       instant   \n",
       "\n",
       "                             send_at recovery_status  \\\n",
       "0                                NaN             NaN   \n",
       "1                                NaN             NaN   \n",
       "2                                NaN             NaN   \n",
       "3                                NaN             NaN   \n",
       "4                                NaN             NaN   \n",
       "...                              ...             ...   \n",
       "23965  2020-10-12 13:54:24.352856+00             NaN   \n",
       "23966  2020-10-27 14:41:57.901946+00       completed   \n",
       "23967  2020-10-20 07:58:14.171553+00             NaN   \n",
       "23968  2020-10-10 05:41:23.368363+00             NaN   \n",
       "23969  2020-10-08 14:17:04.526139+00             NaN   \n",
       "\n",
       "                       reco_creation               reco_last_update  \n",
       "0                                NaN                            NaN  \n",
       "1                                NaN                            NaN  \n",
       "2                                NaN                            NaN  \n",
       "3                                NaN                            NaN  \n",
       "4                                NaN                            NaN  \n",
       "...                              ...                            ...  \n",
       "23965                            NaN                            NaN  \n",
       "23966  2020-11-12 23:20:41.928788+00  2020-12-01 13:26:53.815504+00  \n",
       "23967                            NaN                            NaN  \n",
       "23968                            NaN                            NaN  \n",
       "23969                            NaN                            NaN  \n",
       "\n",
       "[23970 rows x 16 columns]"
      ]
     },
     "execution_count": 22,
     "metadata": {},
     "output_type": "execute_result"
    }
   ],
   "source": [
    "valid_values = df['created_at'].dropna()\n",
    "print(valid_values)\n",
    "\n",
    "print(df['created_at'].dtype)\n",
    "\n",
    "df['created_at'] = pd.to_datetime(df['created_at'], errors='coerce')\n",
    "df"
   ]
  },
  {
   "cell_type": "code",
   "execution_count": 36,
   "id": "2144cb7f",
   "metadata": {},
   "outputs": [
    {
     "name": "stdout",
     "output_type": "stream",
     "text": [
      "0        2020-01-09 19:05:21.596363+00\n",
      "1         2020-01-09 19:50:12.34778+00\n",
      "2        2020-01-09 19:13:35.825041+00\n",
      "3        2020-01-09 19:16:10.879606+00\n",
      "4               2020-06-05 22:00:00+00\n",
      "                     ...              \n",
      "23965           2021-02-06 11:00:00+00\n",
      "23966           2020-11-03 22:00:00+00\n",
      "23967           2021-02-05 11:00:00+00\n",
      "23968           2021-02-05 11:00:00+00\n",
      "23969           2021-02-05 11:00:00+00\n",
      "Name: reimbursement_date, Length: 23970, dtype: object\n",
      "object\n"
     ]
    }
   ],
   "source": [
    "valid_values = df['reimbursement_date'].dropna()\n",
    "print(valid_values)\n",
    "\n",
    "print(df['reimbursement_date'].dtype)\n",
    "\n",
    "df['reimbursement_date'] = pd.to_datetime(df['reimbursement_date'], errors='coerce')"
   ]
  },
  {
   "cell_type": "code",
   "execution_count": 37,
   "id": "06b6db74-2fa0-4f27-94e2-5963261aef3c",
   "metadata": {},
   "outputs": [
    {
     "data": {
      "text/plain": [
       "Timestamp('2019-11-19 00:00:00')"
      ]
     },
     "execution_count": 37,
     "metadata": {},
     "output_type": "execute_result"
    }
   ],
   "source": [
    "df.created_at.min()\n"
   ]
  },
  {
   "cell_type": "code",
   "execution_count": 38,
   "id": "12d557a1",
   "metadata": {},
   "outputs": [
    {
     "data": {
      "text/plain": [
       "Timestamp('2020-11-01 00:00:00')"
      ]
     },
     "execution_count": 38,
     "metadata": {},
     "output_type": "execute_result"
    }
   ],
   "source": [
    "df.created_at.max()"
   ]
  },
  {
   "cell_type": "code",
   "execution_count": 39,
   "id": "3005e759-b174-4452-9542-644747f6dd2d",
   "metadata": {},
   "outputs": [
    {
     "data": {
      "text/plain": [
       "user_id   amount\n",
       "34.0      100.0     1\n",
       "35.0      50.0      1\n",
       "          90.0      3\n",
       "          100.0     3\n",
       "47.0      1.0       2\n",
       "                   ..\n",
       "103425.0  100.0     1\n",
       "103437.0  100.0     1\n",
       "103496.0  100.0     1\n",
       "103503.0  50.0      1\n",
       "103719.0  100.0     1\n",
       "Length: 13157, dtype: int64"
      ]
     },
     "execution_count": 39,
     "metadata": {},
     "output_type": "execute_result"
    }
   ],
   "source": [
    "# I calculated how many times each user performed an action. I did it for the user_id not unique id to see per user.\n",
    "freq_per_user = df.groupby([\"user_id\",\"amount\"]).size()\n",
    "freq_per_user"
   ]
  },
  {
   "cell_type": "code",
   "execution_count": 40,
   "id": "a338c40c",
   "metadata": {},
   "outputs": [],
   "source": [
    "totals = df.select_dtypes(include=\"number\").sum()\n",
    "\n",
    "for col in df.columns:\n",
    "    if col not in totals:\n",
    "        totals[col] = \"\" if df[col].dtype == \"object\" else \"\"  \n",
    "\n",
    "df_with_total = pd.concat([df, pd.DataFrame([totals])], ignore_index=True)\n"
   ]
  },
  {
   "cell_type": "code",
   "execution_count": 41,
   "id": "81eee7b1",
   "metadata": {},
   "outputs": [
    {
     "data": {
      "text/html": [
       "<div>\n",
       "<style scoped>\n",
       "    .dataframe tbody tr th:only-of-type {\n",
       "        vertical-align: middle;\n",
       "    }\n",
       "\n",
       "    .dataframe tbody tr th {\n",
       "        vertical-align: top;\n",
       "    }\n",
       "\n",
       "    .dataframe thead th {\n",
       "        text-align: right;\n",
       "    }\n",
       "</style>\n",
       "<table border=\"1\" class=\"dataframe\">\n",
       "  <thead>\n",
       "    <tr style=\"text-align: right;\">\n",
       "      <th></th>\n",
       "      <th>count</th>\n",
       "      <th>mean</th>\n",
       "      <th>min</th>\n",
       "      <th>25%</th>\n",
       "      <th>50%</th>\n",
       "      <th>75%</th>\n",
       "      <th>max</th>\n",
       "      <th>std</th>\n",
       "    </tr>\n",
       "  </thead>\n",
       "  <tbody>\n",
       "    <tr>\n",
       "      <th>id</th>\n",
       "      <td>23970.0</td>\n",
       "      <td>13910.966124</td>\n",
       "      <td>3.0</td>\n",
       "      <td>7427.25</td>\n",
       "      <td>14270.5</td>\n",
       "      <td>20607.75</td>\n",
       "      <td>27010.0</td>\n",
       "      <td>7788.117214</td>\n",
       "    </tr>\n",
       "    <tr>\n",
       "      <th>amount</th>\n",
       "      <td>23970.0</td>\n",
       "      <td>82.720818</td>\n",
       "      <td>1.0</td>\n",
       "      <td>50.0</td>\n",
       "      <td>100.0</td>\n",
       "      <td>100.0</td>\n",
       "      <td>200.0</td>\n",
       "      <td>26.528065</td>\n",
       "    </tr>\n",
       "    <tr>\n",
       "      <th>created_at</th>\n",
       "      <td>23970</td>\n",
       "      <td>2020-08-17 12:00:32.440550912</td>\n",
       "      <td>2019-11-19 00:00:00</td>\n",
       "      <td>2020-07-10 00:00:00</td>\n",
       "      <td>2020-09-02 00:00:00</td>\n",
       "      <td>2020-10-12 00:00:00</td>\n",
       "      <td>2020-11-01 00:00:00</td>\n",
       "      <td>NaN</td>\n",
       "    </tr>\n",
       "    <tr>\n",
       "      <th>updated_at</th>\n",
       "      <td>23970</td>\n",
       "      <td>2020-11-01 07:08:48.961201664</td>\n",
       "      <td>2019-12-11 00:00:00</td>\n",
       "      <td>2020-09-16 00:00:00</td>\n",
       "      <td>2020-12-18 00:00:00</td>\n",
       "      <td>2020-12-18 00:00:00</td>\n",
       "      <td>2021-02-12 00:00:00</td>\n",
       "      <td>NaN</td>\n",
       "    </tr>\n",
       "    <tr>\n",
       "      <th>user_id</th>\n",
       "      <td>21867.0</td>\n",
       "      <td>32581.250789</td>\n",
       "      <td>34.0</td>\n",
       "      <td>10804.0</td>\n",
       "      <td>23773.0</td>\n",
       "      <td>46965.0</td>\n",
       "      <td>103719.0</td>\n",
       "      <td>27618.565773</td>\n",
       "    </tr>\n",
       "    <tr>\n",
       "      <th>deleted_account_id</th>\n",
       "      <td>2104.0</td>\n",
       "      <td>9658.755228</td>\n",
       "      <td>91.0</td>\n",
       "      <td>3767.0</td>\n",
       "      <td>6121.5</td>\n",
       "      <td>16345.0</td>\n",
       "      <td>30445.0</td>\n",
       "      <td>7972.743249</td>\n",
       "    </tr>\n",
       "  </tbody>\n",
       "</table>\n",
       "</div>"
      ],
      "text/plain": [
       "                      count                           mean  \\\n",
       "id                  23970.0                   13910.966124   \n",
       "amount              23970.0                      82.720818   \n",
       "created_at            23970  2020-08-17 12:00:32.440550912   \n",
       "updated_at            23970  2020-11-01 07:08:48.961201664   \n",
       "user_id             21867.0                   32581.250789   \n",
       "deleted_account_id   2104.0                    9658.755228   \n",
       "\n",
       "                                    min                  25%  \\\n",
       "id                                  3.0              7427.25   \n",
       "amount                              1.0                 50.0   \n",
       "created_at          2019-11-19 00:00:00  2020-07-10 00:00:00   \n",
       "updated_at          2019-12-11 00:00:00  2020-09-16 00:00:00   \n",
       "user_id                            34.0              10804.0   \n",
       "deleted_account_id                 91.0               3767.0   \n",
       "\n",
       "                                    50%                  75%  \\\n",
       "id                              14270.5             20607.75   \n",
       "amount                            100.0                100.0   \n",
       "created_at          2020-09-02 00:00:00  2020-10-12 00:00:00   \n",
       "updated_at          2020-12-18 00:00:00  2020-12-18 00:00:00   \n",
       "user_id                         23773.0              46965.0   \n",
       "deleted_account_id               6121.5              16345.0   \n",
       "\n",
       "                                    max           std  \n",
       "id                              27010.0   7788.117214  \n",
       "amount                            200.0     26.528065  \n",
       "created_at          2020-11-01 00:00:00           NaN  \n",
       "updated_at          2021-02-12 00:00:00           NaN  \n",
       "user_id                        103719.0  27618.565773  \n",
       "deleted_account_id              30445.0   7972.743249  "
      ]
     },
     "execution_count": 41,
     "metadata": {},
     "output_type": "execute_result"
    }
   ],
   "source": [
    "df.describe().T"
   ]
  },
  {
   "cell_type": "code",
   "execution_count": 42,
   "id": "6f868b9f",
   "metadata": {},
   "outputs": [
    {
     "data": {
      "text/plain": [
       "Timestamp('2019-12-17 19:51:23.910748+0000', tz='UTC')"
      ]
     },
     "execution_count": 42,
     "metadata": {},
     "output_type": "execute_result"
    }
   ],
   "source": [
    "df.reimbursement_date.min()"
   ]
  },
  {
   "cell_type": "code",
   "execution_count": 43,
   "id": "1fed2031-b98f-4731-9446-af59b4d9a7d9",
   "metadata": {},
   "outputs": [
    {
     "data": {
      "text/plain": [
       "Timestamp('2020-12-31 09:58:01.921437+0000', tz='UTC')"
      ]
     },
     "execution_count": 43,
     "metadata": {},
     "output_type": "execute_result"
    }
   ],
   "source": [
    "df.reimbursement_date.max()"
   ]
  },
  {
   "cell_type": "code",
   "execution_count": 44,
   "id": "62b0ea8d-abad-4954-acc4-afea084a5594",
   "metadata": {},
   "outputs": [],
   "source": [
    "time_difference_created_at = (df.created_at.max() - df.created_at.min())\n",
    "time_difference_reimbursement_date = (df.reimbursement_date.max() - df.reimbursement_date.min())\n",
    "average_return__of_reimbursement = time_difference_reimbursement_date - time_difference_created_at"
   ]
  },
  {
   "cell_type": "code",
   "execution_count": 45,
   "id": "14fe9aac-966b-4219-affa-59c3e93c580d",
   "metadata": {},
   "outputs": [
    {
     "data": {
      "text/plain": [
       "Timedelta('348 days 00:00:00')"
      ]
     },
     "execution_count": 45,
     "metadata": {},
     "output_type": "execute_result"
    }
   ],
   "source": [
    "time_difference_created_at"
   ]
  },
  {
   "cell_type": "code",
   "execution_count": 46,
   "id": "98ab840a-08c3-4aca-a209-c32f8177ff0f",
   "metadata": {},
   "outputs": [
    {
     "data": {
      "text/plain": [
       "Timedelta('379 days 14:06:38.010689')"
      ]
     },
     "execution_count": 46,
     "metadata": {},
     "output_type": "execute_result"
    }
   ],
   "source": [
    "time_difference_reimbursement_date"
   ]
  },
  {
   "cell_type": "code",
   "execution_count": null,
   "id": "70d66752-3098-4159-b569-52d4ac2b418b",
   "metadata": {},
   "outputs": [
    {
     "data": {
      "text/plain": [
       "Timedelta('31 days 14:06:38.010689')"
      ]
     },
     "execution_count": 47,
     "metadata": {},
     "output_type": "execute_result"
    }
   ],
   "source": [
    "# average return time of the payments\n",
    "average_return__of_reimbursement"
   ]
  },
  {
   "cell_type": "code",
   "execution_count": 50,
   "id": "4a2cc05e",
   "metadata": {},
   "outputs": [
    {
     "data": {
      "text/plain": [
       "<pandas.core.groupby.generic.DataFrameGroupBy object at 0x10470a300>"
      ]
     },
     "execution_count": 50,
     "metadata": {},
     "output_type": "execute_result"
    }
   ],
   "source": [
    "\n",
    "incident_rates = df.groupby([\"id\",\"recovery_status\"])\n",
    "incident_rates"
   ]
  },
  {
   "cell_type": "code",
   "execution_count": 49,
   "id": "2d5e5349",
   "metadata": {},
   "outputs": [
    {
     "data": {
      "text/plain": [
       "recovery_status\n",
       "completed               2468\n",
       "pending                  845\n",
       "pending_direct_debit      16\n",
       "cancelled                  1\n",
       "Name: count, dtype: int64"
      ]
     },
     "execution_count": 49,
     "metadata": {},
     "output_type": "execute_result"
    }
   ],
   "source": [
    "df.recovery_status.value_counts()"
   ]
  },
  {
   "cell_type": "code",
   "execution_count": 54,
   "id": "f6a4adb7",
   "metadata": {},
   "outputs": [
    {
     "data": {
      "text/plain": [
       "1982818.0"
      ]
     },
     "execution_count": 54,
     "metadata": {},
     "output_type": "execute_result"
    }
   ],
   "source": [
    "df[\"amount\"].sum()"
   ]
  },
  {
   "cell_type": "code",
   "execution_count": null,
   "id": "6dc79bab",
   "metadata": {},
   "outputs": [
    {
     "data": {
      "text/plain": [
       "recovery_status\n",
       "cancelled               0.000050\n",
       "completed               0.098371\n",
       "pending                 0.032693\n",
       "pending_direct_debit    0.000666\n",
       "Name: amount, dtype: float64"
      ]
     },
     "execution_count": 64,
     "metadata": {},
     "output_type": "execute_result"
    }
   ],
   "source": [
    "\"\"\" Incident rates connected with amounts of each incident. \n",
    "Ratio of the amount of each incident to the total amount of all incidents. I couldn't find the right way to calculate \n",
    "by timeline.\"\"\"\n",
    "\n",
    "incident_rates = df.groupby(\"recovery_status\")[\"amount\"].sum()\n",
    "incident_rates1 = df[\"amount\"].sum()\n",
    "categorical_incident_rate = incident_rates / incident_rates1 \n",
    "categorical_incident_rate"
   ]
  },
  {
   "cell_type": "code",
   "execution_count": null,
   "id": "60b5b479",
   "metadata": {},
   "outputs": [],
   "source": []
  }
 ],
 "metadata": {
  "kernelspec": {
   "display_name": "base",
   "language": "python",
   "name": "python3"
  },
  "language_info": {
   "codemirror_mode": {
    "name": "ipython",
    "version": 3
   },
   "file_extension": ".py",
   "mimetype": "text/x-python",
   "name": "python",
   "nbconvert_exporter": "python",
   "pygments_lexer": "ipython3",
   "version": "3.12.4"
  }
 },
 "nbformat": 4,
 "nbformat_minor": 5
}
